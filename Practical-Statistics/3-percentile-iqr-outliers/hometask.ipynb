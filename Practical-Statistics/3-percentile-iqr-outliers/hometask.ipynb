{
 "cells": [
  {
   "cell_type": "markdown",
   "id": "73a4ea3e",
   "metadata": {},
   "source": [
    "# AQSh Shtatlarining Demografik Ma'lumotlari - Percentile va Outlier Tahlili\n",
    "\n",
    "**Dataset:** AQSh shtatlarining aholi soni va jinoyat statistikasi (state.csv)\n",
    "\n",
    "**Maqsad:** Real demografik ma'lumotlar asosida percentillar, IQR va outlierlarni tahlil qilish\n",
    "\n",
    "**Topshirish muddati:** 2 kun\n",
    "\n",
    "**Baholash:** 80 ball\n",
    "\n",
    "---\n",
    "\n",
    "## Ma'lumotlar haqida:\n",
    "- **State**: Shtat nomi\n",
    "- **Population**: Aholi soni\n",
    "- **Murder.Rate**: 100,000 aholi uchun qotillik darajasi\n",
    "- **Abbreviation**: Shtat qisqartmasi\n",
    "\n",
    "## Qoidalar:\n",
    "1. state.csv faylini ishlatib, aholi soni va qotillik darajasini tahlil qiling\n",
    "2. Shtat nomlarini ko'rsatib, aniq natijalar bering\n",
    "3. Outlier shtatlarning xususiyatlarini muhokama qiling\n",
    "4. Real kontekstda talqin qiling\n",
    "\n",
    "---"
   ]
  },
  {
   "cell_type": "markdown",
   "id": "a7f8858b",
   "metadata": {},
   "source": [
    "## 1-Topshiriq: Ma'lumotlarni Yuklash va Ko'rish (15 ball)"
   ]
  },
  {
   "cell_type": "code",
   "execution_count": null,
   "id": "e6233b36",
   "metadata": {},
   "outputs": [],
   "source": [
    "# TODO: Import libraries (numpy, pandas, matplotlib.pyplot, seaborn)\n",
    "# SIZNING KODINGIZ:\n",
    "\n",
    "\n",
    "# TODO: Load state.csv file\n",
    "# SIZNING KODINGIZ:\n",
    "\n",
    "\n",
    "# TODO: Display basic info: shape, columns, first 10 rows\n",
    "# SIZNING KODINGIZ:\n",
    "\n",
    "\n",
    "# TODO: Show descriptive statistics\n",
    "# SIZNING KODINGIZ:"
   ]
  },
  {
   "cell_type": "markdown",
   "id": "7a8ec02b",
   "metadata": {},
   "source": [
    "## 2-Topshiriq: Aholi Soni bo'yicha Percentillar (20 ball)"
   ]
  },
  {
   "cell_type": "code",
   "execution_count": null,
   "id": "8de0d1cc",
   "metadata": {},
   "outputs": [],
   "source": [
    "# TODO: Calculate 10th, 25th, 50th, 75th, 90th percentiles for Population\n",
    "# SIZNING KODINGIZ:\n",
    "\n",
    "\n",
    "# TODO: Find which states are at each percentile\n",
    "# Hint: Use np.percentile() and then find closest values\n",
    "# SIZNING KODINGIZ:\n",
    "\n",
    "\n",
    "# TODO: Answer these questions:\n",
    "print(\"Savollar:\")\n",
    "print(\"1. Qaysi shtat 25% percentilda?\")\n",
    "print(\"2. Qaysi shtat 75% percentilda?\")\n",
    "print(\"3. Mediana (50% percentil) qancha?\")\n",
    "# JAVOBLAR:"
   ]
  },
  {
   "cell_type": "markdown",
   "id": "b98bffa5",
   "metadata": {},
   "source": [
    "## 3-Topshiriq: IQR va Quartillar (20 ball)"
   ]
  },
  {
   "cell_type": "code",
   "execution_count": null,
   "id": "724d9495",
   "metadata": {},
   "outputs": [],
   "source": [
    "# TODO: Calculate Q1, Q2, Q3 for both Population and Murder.Rate\n",
    "# SIZNING KODINGIZ:\n",
    "\n",
    "\n",
    "# TODO: Calculate IQR for both variables\n",
    "# SIZNING KODINGIZ:\n",
    "\n",
    "\n",
    "# TODO: Create a comparison table\n",
    "# SIZNING KODINGIZ:\n",
    "\n",
    "\n",
    "# TODO: Which variable has larger IQR relative to its median? Why?\n",
    "print(\"Tahlil: \")\n",
    "# JAVOB:"
   ]
  },
  {
   "cell_type": "markdown",
   "id": "8816196f",
   "metadata": {},
   "source": [
    "## 4-Topshiriq: Outlierlarni Aniqlash (25 ball)"
   ]
  },
  {
   "cell_type": "code",
   "execution_count": null,
   "id": "ac2be7b6",
   "metadata": {},
   "outputs": [],
   "source": [
    "# TODO: Find outliers in Population using IQR method\n",
    "# Outliers: < Q1 - 1.5*IQR or > Q3 + 1.5*IQR\n",
    "# SIZNING KODINGIZ:\n",
    "\n",
    "\n",
    "# TODO: Find outliers in Murder.Rate using IQR method\n",
    "# SIZNING KODINGIZ:\n",
    "\n",
    "\n",
    "# TODO: Print the names of outlier states for both variables\n",
    "# SIZNING KODINGIZ:\n",
    "\n",
    "\n",
    "# TODO: Create boxplots for both variables side by side\n",
    "# SIZNING KODINGIZ:"
   ]
  },
  {
   "cell_type": "code",
   "execution_count": null,
   "id": "e124787b",
   "metadata": {},
   "outputs": [],
   "source": [
    "# TODO: Research and explain why these states are outliers\n",
    "# For Population outliers: Why do these states have extreme population?\n",
    "# For Murder.Rate outliers: What might cause high/low murder rates?\n",
    "\n",
    "print(\"Outlier Tahlili:\")\n",
    "print(\"\\nAholi bo'yicha outlier shtatlar:\")\n",
    "# SIZNING JAVOBINGIZ:\n",
    "\n",
    "print(\"\\nQotillik darajasi bo'yicha outlier shtatlar:\")\n",
    "# SIZNING JAVOBINGIZ:"
   ]
  },
  {
   "cell_type": "markdown",
   "id": "80f02945",
   "metadata": {},
   "source": [
    "## Yakuniy Xulosa\n",
    "\n",
    "### TODO: Quyidagi savollarga javob bering:\n",
    "\n",
    "**1. Percentil tahlili (5 ball):**\n",
    "- Eng katta va eng kichik aholi soniga ega shtatlar qaysilar?\n",
    "- AQSh aholisining taqsimoti qanday (simmetrik/asimmetrik)?\n",
    "\n",
    "**2. Outlier tahlili (5 ball):**\n",
    "- Qaysi shtatlar outlier va nima uchun?\n",
    "- Bu outlierlarni tahlildan chiqarish kerakmi?\n",
    "\n",
    "**3. Amaliy qo'llanish (5 ball):**\n",
    "- Bu ma'lumotlar davlat siyosati uchun qanday foydali?\n",
    "- Percentillar asosida qanday tavsiyalar berish mumkin?\n",
    "\n",
    "**SIZNING XULOSANGIZ:**\n",
    "\n",
    "```\n",
    "TODO: Bu yerga batafsil xulosa yozing (kamida 200 so'z)\n",
    "```"
   ]
  }
 ],
 "metadata": {
  "language_info": {
   "name": "python"
  }
 },
 "nbformat": 4,
 "nbformat_minor": 5
}
