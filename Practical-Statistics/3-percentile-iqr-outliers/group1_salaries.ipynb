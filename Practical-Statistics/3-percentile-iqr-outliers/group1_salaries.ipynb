{
 "cells": [
  {
   "cell_type": "markdown",
   "id": "e4844082",
   "metadata": {},
   "source": [
    "# 🟦 1-GURUH: Kompaniya Maoshlari Tahlili\n",
    "\n",
    "**Mavzu:** Percentile, IQR va Outlierlar - Maosh Ma'lumotlari\n",
    "\n",
    "**Maqsad:** Kompaniya xodimlarining maosh taqsimotini tahlil qilish orqali percentile va IQR tushunchalarini amaliyotda qo'llash\n",
    "\n",
    "---\n",
    "\n",
    "## Vazifa Tafsiloti:\n",
    "\n",
    "Sizda IT kompaniyasining 20 ta xodimining oylik maoshi haqida ma'lumot bor. Bu ma'lumotlarni tahlil qilib, quyidagilarni aniqlashingiz kerak:\n",
    "\n",
    "1. **Maosh taqsimotining asosiy ko'rsatkichlari**\n",
    "2. **Percentillar va ularning talqini**\n",
    "3. **IQR hisoblash va maoshi**\n",
    "4. **Outlier xodimlarni aniqlash**\n",
    "5. **Kompaniya uchun tavsiyalar**\n",
    "\n",
    "---"
   ]
  },
  {
   "cell_type": "markdown",
   "id": "4e515187",
   "metadata": {},
   "source": [
    "## 1-Qadam: Ma'lumotlarni Tayyorlash"
   ]
  },
  {
   "cell_type": "code",
   "execution_count": null,
   "id": "3090dd65",
   "metadata": {},
   "outputs": [],
   "source": [
    "# Kutubxonalarni import qilish\n",
    "import numpy as np\n",
    "import pandas as pd\n",
    "import matplotlib.pyplot as plt\n",
    "import seaborn as sns\n",
    "\n",
    "# Maosh ma'lumotlari (ming so'mda)\n",
    "salaries = np.array([2500, 2800, 3000, 3200, 3500, 3800, 4000, 4200, 4500, 4800,\n",
    "                     5000, 5200, 5500, 5800, 6000, 6500, 7000, 8000, 12000, 15000])\n",
    "\n",
    "# Xodim lavozimlar (ma'lumot uchun)\n",
    "positions = ['Junior Dev', 'Junior Dev', 'Junior Dev', 'Middle Dev', 'Middle Dev', \n",
    "             'Middle Dev', 'Middle Dev', 'Middle Dev', 'Senior Dev', 'Senior Dev',\n",
    "             'Senior Dev', 'Senior Dev', 'Team Lead', 'Team Lead', 'Senior Lead',\n",
    "             'Senior Lead', 'Architect', 'Architect', 'CTO', 'CEO']\n",
    "\n",
    "print(\"🏢 IT Kompaniya Maoshlari Tahlili\")\n",
    "print(\"=\"*40)\n",
    "print(f\"Xodimlar soni: {len(salaries)}\")\n",
    "print(f\"Eng kam maosh: {salaries.min():,} ming so'm\")\n",
    "print(f\"Eng ko'p maosh: {salaries.max():,} ming so'm\")\n",
    "print(f\"O'rtacha maosh: {salaries.mean():.0f} ming so'm\")"
   ]
  },
  {
   "cell_type": "markdown",
   "id": "a1bf5831",
   "metadata": {},
   "source": [
    "## 2-Qadam: Percentillarni Hisoblash"
   ]
  },
  {
   "cell_type": "code",
   "execution_count": null,
   "id": "106e4345",
   "metadata": {},
   "outputs": [],
   "source": [
    "# TODO: 25%, 50%, 75%, 90% percentillarni hisoblang\n",
    "# SIZNING KODINGIZ:\n",
    "\n",
    "\n",
    "# TODO: Har bir percentilning ma'nosini tushuntiring\n",
    "# Masalan: \"Xodimlarning 25% {P25} ming so'mdan kam maosh oladi\"\n",
    "# SIZNING KODINGIZ:\n",
    "\n",
    "\n",
    "# TODO: Qaysi lavozimlar qaysi percentillarga to'g'ri kelishini aniqlang\n",
    "# SIZNING KODINGIZ:"
   ]
  },
  {
   "cell_type": "markdown",
   "id": "0c751bfb",
   "metadata": {},
   "source": [
    "## 3-Qadam: IQR va Quartillar"
   ]
  },
  {
   "cell_type": "code",
   "execution_count": null,
   "id": "cac15260",
   "metadata": {},
   "outputs": [],
   "source": [
    "# TODO: Q1, Q2 (mediana), Q3 ni hisoblang\n",
    "# SIZNING KODINGIZ:\n",
    "\n",
    "\n",
    "# TODO: IQR ni hisoblang\n",
    "# SIZNING KODINGIZ:\n",
    "\n",
    "\n",
    "# TODO: IQR ning ma'nosini tushuntiring\n",
    "# \"O'rta 50% xodimlarning maoshi ___ va ___ ming so'm orasida\"\n",
    "# SIZNING KODINGIZ:\n",
    "\n",
    "\n",
    "# TODO: Outlier chegaralarini aniqlang (Q1 - 1.5*IQR va Q3 + 1.5*IQR)\n",
    "# SIZNING KODINGIZ:"
   ]
  },
  {
   "cell_type": "markdown",
   "id": "1f280185",
   "metadata": {},
   "source": [
    "## 4-Qadam: Boxplot va Outlierlar"
   ]
  },
  {
   "cell_type": "code",
   "execution_count": null,
   "id": "9bd3d5bf",
   "metadata": {},
   "outputs": [],
   "source": [
    "# TODO: Boxplot yaratib, outlierlarni ko'rsating\n",
    "# SIZNING KODINGIZ:\n",
    "\n",
    "\n",
    "# TODO: Outlier xodimlarni aniqlang va ularning lavozimlarini ko'rsating\n",
    "# SIZNING KODINGIZ:\n",
    "\n",
    "\n",
    "# TODO: Outlierlarning sabablarini tushuntiring\n",
    "# Nima uchun bu xodimlar outlier?\n",
    "# SIZNING KODINGIZ:"
   ]
  },
  {
   "cell_type": "markdown",
   "id": "beb1668f",
   "metadata": {},
   "source": [
    "## 5-Qadam: Taqdimot Tayyorlash\n",
    "\n",
    "### Quyidagi ma'lumotlarni to'ldiring:"
   ]
  },
  {
   "cell_type": "code",
   "execution_count": null,
   "id": "3ddc401d",
   "metadata": {},
   "outputs": [],
   "source": [
    "print(\"🎯 TAQDIMOT UCHUN XULOSALAR\")\n",
    "print(\"=\"*40)\n",
    "\n",
    "# TODO: Quyidagi bo'shliqlarni to'ldiring\n",
    "print(f\"📊 Ma'lumotlar: {len(salaries)} ta xodimning maoshi\")\n",
    "print(f\"💰 Mediana maosh: _____ ming so'm\")\n",
    "print(f\"📈 IQR (o'rta 50% tarqalishi): _____ ming so'm\")\n",
    "print(f\"⚠️  Outlier xodimlar: _____ kishi\")\n",
    "print(f\"👥 Outlier lavozimlar: _____\")\n",
    "print(f\"💡 Asosiy sabab: _____\")\n",
    "print(f\"📋 Kompaniya uchun tavsiya: _____\")\n",
    "\n",
    "print(\"\\n🗣️ TAQDIMOT UCHUN GAPLAR:\")\n",
    "print(\"1. Bizning kompaniyada xodimlarning mediana maoshi _____ ming so'm\")\n",
    "print(\"2. O'rta 50% xodimlarning maoshi _____ ming so'm farqda\")\n",
    "print(\"3. _____ ta xodim outlier, ular _____ lavozimida\")\n",
    "print(\"4. Bu outlierlar _____ sababli paydo bo'lgan\")\n",
    "print(\"5. Kompaniyaga tavsiyamiz: _____\")"
   ]
  },
  {
   "cell_type": "markdown",
   "id": "fdb35f0e",
   "metadata": {},
   "source": [
    "## Qo'shimcha Tahlil (Vaqt bo'lsa)\n",
    "\n",
    "### Lavozim bo'yicha guruhlashtirish:"
   ]
  },
  {
   "cell_type": "code",
   "execution_count": null,
   "id": "a0a3f653",
   "metadata": {},
   "outputs": [],
   "source": [
    "# TODO: Har bir lavozim guruhi uchun o'rtacha maoshni hisoblang\n",
    "# Junior, Middle, Senior, Lead, Executive\n",
    "# SIZNING KODINGIZ:\n",
    "\n",
    "\n",
    "# TODO: Qaysi guruh eng katta maosh farqiga ega?\n",
    "# SIZNING KODINGIZ:"
   ]
  },
  {
   "cell_type": "markdown",
   "id": "b50f04e6",
   "metadata": {},
   "source": [
    "---\n",
    "\n",
    "## ✅ Taqdimot Shablon (3 daqiqa)\n",
    "\n",
    "### Guruh rahbari quyidagilarni aytishi kerak:\n",
    "\n",
    "**🔸 Kirish (30 soniya):**\n",
    "\"Biz IT kompaniyaning 20 ta xodimining maosh ma'lumotlarini tahlil qildik.\"\n",
    "\n",
    "**🔸 Asosiy natijalar (2 daqiqa):**\n",
    "- \"Mediana maosh _____ ming so'm\"\n",
    "- \"IQR _____ ming so'm, ya'ni o'rta xodimlar orasida shuncha farq bor\"\n",
    "- \"_____ ta outlier topdik - ular _____ lavozimidagi xodimlar\"\n",
    "- \"Bu outlierlar normal, chunki _____\"\n",
    "\n",
    "**🔸 Xulosa (30 soniya):**\n",
    "\"Kompaniyada maosh taqsimoti _____ va outlierlar _____ sababli normal.\"\n",
    "\n",
    "---\n",
    "\n",
    "**📝 Eslatma:** Barcha hisoblar va grafiklar to'g'ri bo'lishi kerak!"
   ]
  }
 ],
 "metadata": {
  "kernelspec": {
   "display_name": "venv",
   "language": "python",
   "name": "python3"
  },
  "language_info": {
   "codemirror_mode": {
    "name": "ipython",
    "version": 3
   },
   "file_extension": ".py",
   "mimetype": "text/x-python",
   "name": "python",
   "nbconvert_exporter": "python",
   "pygments_lexer": "ipython3",
   "version": "3.13.2"
  }
 },
 "nbformat": 4,
 "nbformat_minor": 5
}
