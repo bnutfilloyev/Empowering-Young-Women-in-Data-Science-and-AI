{
 "cells": [
  {
   "cell_type": "markdown",
   "id": "54eb746e",
   "metadata": {},
   "source": [
    "# 🟩 2-GURUH: Talabalar Yoshi Tahlili\n",
    "\n",
    "**Mavzu:** Percentile, IQR va Outlierlar - Yoshga Oid Ma'lumotlar\n",
    "\n",
    "**Maqsad:** Universitet talabalarining yosh taqsimotini o'rganish orqali percentile va outlier tushunchalarini amalda qo'llash\n",
    "\n",
    "---\n",
    "\n",
    "## Vazifa Tafsiloti:\n",
    "\n",
    "Sizda bitta fakultetdagi 25 ta talabaning yoshi haqida ma'lumot bor. Bu ma'lumotlarni tahlil qilib, quyidagilarni aniqlashingiz kerak:\n",
    "\n",
    "1. **Yosh taqsimotining xususiyatlari**\n",
    "2. **Percentillar va ularning ta'lim kontekstidagi ma'nosi**\n",
    "3. **IQR orqali yosh farqlarini o'rganish**\n",
    "4. **G'ayrioddiy yosh talabalarni aniqlash**\n",
    "5. **Ta'lim muassasasi uchun tavsiyalar**\n",
    "\n",
    "---"
   ]
  },
  {
   "cell_type": "markdown",
   "id": "dd7a0ac9",
   "metadata": {},
   "source": [
    "## 1-Qadam: Ma'lumotlarni Tayyorlash"
   ]
  },
  {
   "cell_type": "code",
   "execution_count": null,
   "id": "1178206e",
   "metadata": {},
   "outputs": [],
   "source": [
    "# Kutubxonalarni import qilish\n",
    "import numpy as np\n",
    "import pandas as pd\n",
    "import matplotlib.pyplot as plt\n",
    "import seaborn as sns\n",
    "\n",
    "# Talabalar yoshi ma'lumotlari\n",
    "ages = np.array([18, 18, 19, 19, 19, 20, 20, 20, 20, 21, 21, 21, 21, 22, 22, \n",
    "                 22, 23, 23, 24, 24, 25, 26, 28, 35, 40])\n",
    "\n",
    "# Talabalar kurslari (taxminiy)\n",
    "courses = ['1-kurs', '1-kurs', '1-kurs', '2-kurs', '2-kurs', '2-kurs', '2-kurs', \n",
    "           '3-kurs', '3-kurs', '3-kurs', '3-kurs', '4-kurs', '4-kurs', '4-kurs',\n",
    "           '4-kurs', 'Magistr', 'Magistr', 'Magistr', 'Magistr', 'Magistr',\n",
    "           'Magistr', 'Magistr', 'Sirtqi', 'Katta yosh', 'Katta yosh']\n",
    "\n",
    "print(\"🎓 Universitet Talabalar Yoshi Tahlili\")\n",
    "print(\"=\"*45)\n",
    "print(f\"Talabalar soni: {len(ages)}\")\n",
    "print(f\"Eng kichik yosh: {ages.min()} yosh\")\n",
    "print(f\"Eng katta yosh: {ages.max()} yosh\")\n",
    "print(f\"O'rtacha yosh: {ages.mean():.1f} yosh\")\n",
    "print(f\"Yosh oralig'i: {ages.max() - ages.min()} yil\")"
   ]
  },
  {
   "cell_type": "markdown",
   "id": "7619ee17",
   "metadata": {},
   "source": [
    "## 2-Qadam: Percentillarni Hisoblash"
   ]
  },
  {
   "cell_type": "code",
   "execution_count": null,
   "id": "6d885d9f",
   "metadata": {},
   "outputs": [],
   "source": [
    "# TODO: 25%, 50%, 75%, 90% percentillarni hisoblang\n",
    "# SIZNING KODINGIZ:\n",
    "\n",
    "\n",
    "# TODO: Har bir percentilning ta'lim kontekstidagi ma'nosini tushuntiring\n",
    "# Masalan: \"Talabalarning 25% {P25} yoshdan kichik\"\n",
    "# SIZNING KODINGIZ:\n",
    "\n",
    "\n",
    "# TODO: Yoshga ko'ra kurslarni taqqoslang\n",
    "# Qaysi kurs talabalar eng yosh/katta?\n",
    "# SIZNING KODINGIZ:"
   ]
  },
  {
   "cell_type": "markdown",
   "id": "bb8787a5",
   "metadata": {},
   "source": [
    "## 3-Qadam: IQR va Quartillar"
   ]
  },
  {
   "cell_type": "code",
   "execution_count": null,
   "id": "1699c812",
   "metadata": {},
   "outputs": [],
   "source": [
    "# TODO: Q1, Q2 (mediana), Q3 ni hisoblang\n",
    "# SIZNING KODINGIZ:\n",
    "\n",
    "\n",
    "# TODO: IQR ni hisoblang\n",
    "# SIZNING KODINGIZ:\n",
    "\n",
    "\n",
    "# TODO: IQR ning ma'nosini ta'lim kontekstida tushuntiring\n",
    "# \"O'rta 50% talabalarning yoshi ___ va ___ yosh orasida\"\n",
    "# SIZNING KODINGIZ:\n",
    "\n",
    "\n",
    "# TODO: Outlier chegaralarini aniqlang\n",
    "# SIZNING KODINGIZ:\n",
    "\n",
    "\n",
    "# TODO: Bu chegaralar ta'lim kontekstida ma'qulmi?\n",
    "# SIZNING KODINGIZ:"
   ]
  },
  {
   "cell_type": "markdown",
   "id": "689bfa28",
   "metadata": {},
   "source": [
    "## 4-Qadam: Boxplot va G'ayrioddiy Yoshdagi Talabalar"
   ]
  },
  {
   "cell_type": "code",
   "execution_count": null,
   "id": "d443cb0a",
   "metadata": {},
   "outputs": [],
   "source": [
    "# TODO: Boxplot yaratib, outlierlarni ko'rsating\n",
    "# SIZNING KODINGIZ:\n",
    "\n",
    "\n",
    "# TODO: Outlier talabalarni aniqlang va ularning kurslarini ko'rsating\n",
    "# SIZNING KODINGIZ:\n",
    "\n",
    "\n",
    "# TODO: G'ayrioddiy yoshdagi talabalarning sabablarini muhokama qiling\n",
    "# - Nega ba'zi talabalar katta yosh?\n",
    "# - Bu normal hodisami?\n",
    "# - Qanday omillar ta'sir qilishi mumkin?\n",
    "# SIZNING KODINGIZ:"
   ]
  },
  {
   "cell_type": "markdown",
   "id": "d19c2176",
   "metadata": {},
   "source": [
    "## 5-Qadam: Taqdimot Tayyorlash\n",
    "\n",
    "### Quyidagi ma'lumotlarni to'ldiring:"
   ]
  },
  {
   "cell_type": "code",
   "execution_count": null,
   "id": "aedad8e8",
   "metadata": {},
   "outputs": [],
   "source": [
    "print(\"🎯 TAQDIMOT UCHUN XULOSALAR\")\n",
    "print(\"=\"*40)\n",
    "\n",
    "# TODO: Quyidagi bo'shliqlarni to'ldiring\n",
    "print(f\"📊 Ma'lumotlar: {len(ages)} ta talabaning yoshi\")\n",
    "print(f\"👤 Mediana yosh: _____ yosh\")\n",
    "print(f\"📈 IQR (o'rta 50% yosh farqi): _____ yil\")\n",
    "print(f\"⚠️  G'ayrioddiy yosh talabalar: _____ kishi\")\n",
    "print(f\"📚 Ularning kurslari: _____\")\n",
    "print(f\"💡 Asosiy sabab: _____\")\n",
    "print(f\"🏫 Universitet uchun tavsiya: _____\")\n",
    "\n",
    "print(\"\\n🗣️ TAQDIMOT UCHUN GAPLAR:\")\n",
    "print(\"1. Bizning fakultetda talabalarning mediana yoshi _____ yosh\")\n",
    "print(\"2. O'rta 50% talabalarning yosh farqi _____ yil\")\n",
    "print(\"3. _____ ta talaba g'ayrioddiy yoshda, ular _____\")\n",
    "print(\"4. Bu holatlar _____ sababli paydo bo'lgan\")\n",
    "print(\"5. Universitetga tavsiyamiz: _____\")"
   ]
  },
  {
   "cell_type": "markdown",
   "id": "4afe1e4a",
   "metadata": {},
   "source": [
    "## Qo'shimcha Tahlil (Vaqt bo'lsa)\n",
    "\n",
    "### Kurs bo'yicha taqsimlash:"
   ]
  },
  {
   "cell_type": "code",
   "execution_count": null,
   "id": "05b3a5e7",
   "metadata": {},
   "outputs": [],
   "source": [
    "# TODO: Har bir kurs uchun o'rtacha yoshni hisoblang\n",
    "# 1-kurs, 2-kurs, 3-kurs, 4-kurs, Magistr\n",
    "# SIZNING KODINGIZ:\n",
    "\n",
    "\n",
    "# TODO: Qaysi kursda eng katta yosh farqi bor?\n",
    "# SIZNING KODINGIZ:\n",
    "\n",
    "\n",
    "# TODO: Ta'lim tizimi uchun tavsiyalar bering\n",
    "# SIZNING KODINGIZ:"
   ]
  },
  {
   "cell_type": "markdown",
   "id": "9088a46b",
   "metadata": {},
   "source": [
    "---\n",
    "\n",
    "## ✅ Taqdimot Shablon (3 daqiqa)\n",
    "\n",
    "### Guruh rahbari quyidagilarni aytishi kerak:\n",
    "\n",
    "**🔸 Kirish (30 soniya):**\n",
    "\"Biz universitet fakultetidagi 25 ta talabaning yosh taqsimotini tahlil qildik.\"\n",
    "\n",
    "**🔸 Asosiy natijalar (2 daqiqa):**\n",
    "- \"Talabalarning mediana yoshi _____ yosh\"\n",
    "- \"IQR _____ yil, ya'ni o'rta talabalar orasida shuncha yosh farqi bor\"\n",
    "- \"_____ ta g'ayrioddiy yosh talaba topdik\"\n",
    "- \"Ular _____ sabablarga ko'ra katta yoshda\"\n",
    "\n",
    "**🔸 Xulosa (30 soniya):**\n",
    "\"Yosh taqsimoti _____ va g'ayrioddiy holat _____ sababli normal.\"\n",
    "\n",
    "---\n",
    "\n",
    "**📝 Eslatma:** Yoshga oid barcha tahlillar ta'lim kontekstida talqin qiling!"
   ]
  }
 ],
 "metadata": {
  "language_info": {
   "name": "python"
  }
 },
 "nbformat": 4,
 "nbformat_minor": 5
}
