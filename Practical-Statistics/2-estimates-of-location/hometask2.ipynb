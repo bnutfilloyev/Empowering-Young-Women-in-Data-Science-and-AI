{
 "cells": [
  {
   "cell_type": "markdown",
   "id": "3328f112",
   "metadata": {},
   "source": [
    "# Markaziy Tendentsiya Ko'rsatkichlari - Uy Vazifasi 2\n",
    "\n",
    "**Maqsad:** Markaziy tendentsiya ko'rsatkichlarini hisoblash va tahlil qilish ko'nikmalarini mustahkamlash\n",
    "\n",
    "**Topshirish muddati:** 1 hafta\n",
    "\n",
    "**Baholash:** Har bir bo'lim uchun ballar ko'rsatilgan\n",
    "\n",
    "---\n",
    "\n",
    "## Qoidalar:\n",
    "1. Barcha kodlarni to'liq yozing va natijalarni tahlil qiling\n",
    "2. Har bir topshiriq uchun qisqacha izoh yozing\n",
    "3. Grafiklar va jadvallarni aniq va tushunarli qiling\n",
    "4. Matematik formulalarni to'g'ri qo'llang\n",
    "\n",
    "**Umumiy ball:** 100\n",
    "\n",
    "---"
   ]
  },
  {
   "cell_type": "markdown",
   "id": "34285b05",
   "metadata": {},
   "source": [
    "## Bo'lim 1: Asosiy Sozlash (5 ball)\n",
    "\n",
    "Kerakli kutubxonalarni import qiling va ma'lumotlar to'plamini tayyorlang."
   ]
  },
  {
   "cell_type": "code",
   "execution_count": null,
   "id": "dd72772c",
   "metadata": {},
   "outputs": [],
   "source": [
    "# TODO: Kerakli kutubxonalarni import qiling\n",
    "# numpy, pandas, matplotlib.pyplot, seaborn, scipy.stats\n",
    "\n",
    "# SIZNING KODINGIZ:\n",
    "\n",
    "\n",
    "# Ma'lumotlar yaratish (o'zgartirmang)\n",
    "np.random.seed(123)\n",
    "students_data = {\n",
    "    'student_id': range(1, 101),\n",
    "    'math_score': np.random.normal(78, 12, 100),\n",
    "    'physics_score': np.random.normal(75, 15, 100), \n",
    "    'chemistry_score': np.random.normal(80, 10, 100),\n",
    "    'credit_hours': np.random.choice([2, 3, 4], 100, p=[0.2, 0.5, 0.3]),\n",
    "    'study_hours': np.random.exponential(8, 100)\n",
    "}\n",
    "\n",
    "# TODO: students_data dan DataFrame yaratib, 'df' nomli o'zgaruvchiga saqlang\n",
    "# SIZNING KODINGIZ:\n",
    "\n",
    "\n",
    "# TODO: DataFrame'ning birinchi 5 qatorini ko'rsating\n",
    "# SIZNING KODINGIZ:"
   ]
  },
  {
   "cell_type": "markdown",
   "id": "bd6cd0ae",
   "metadata": {},
   "source": [
    "## Bo'lim 2: Oddiy O'rtacha (Mean) - Oson (15 ball)\n",
    "\n",
    "### Topshiriq 2.1: Asosiy O'rtacha Hisoblash (8 ball)"
   ]
  },
  {
   "cell_type": "code",
   "execution_count": null,
   "id": "80bd35ca",
   "metadata": {},
   "outputs": [],
   "source": [
    "# TODO: Har bir fan bo'yicha o'rtacha ballni hisoblang\n",
    "# math_score, physics_score, chemistry_score\n",
    "\n",
    "# SIZNING KODINGIZ:\n",
    "\n",
    "\n",
    "# TODO: Natijalarni chiroyli formatda chop eting\n",
    "print(\"=== FANLAR BO'YICHA O'RTACHA BALLAR ===\")\n",
    "# SIZNING KODINGIZ:"
   ]
  },
  {
   "cell_type": "markdown",
   "id": "b90cd0a5",
   "metadata": {},
   "source": [
    "### Topshiriq 2.2: Qo'lda O'rtacha Hisoblash (7 ball)"
   ]
  },
  {
   "cell_type": "code",
   "execution_count": null,
   "id": "7947db5a",
   "metadata": {},
   "outputs": [],
   "source": [
    "# TODO: Matematik ball uchun qo'lda o'rtacha hisoblang (NumPy ishlatmay)\n",
    "def manual_mean(data):\n",
    "    \"\"\"\n",
    "    Qo'lda o'rtacha hisoblash funksiyasi\n",
    "    \"\"\"\n",
    "    # SIZNING KODINGIZ:\n",
    "    pass\n",
    "\n",
    "# TODO: Funksiyani sinab ko'ring va NumPy natijasi bilan taqqoslang\n",
    "manual_result = manual_mean(df['math_score'])\n",
    "numpy_result = # SIZNING KODINGIZ\n",
    "\n",
    "print(f\"Qo'lda hisoblangan: {manual_result:.2f}\")\n",
    "print(f\"NumPy natijasi: {numpy_result:.2f}\")\n",
    "print(f\"Farq: {abs(manual_result - numpy_result):.6f}\")"
   ]
  },
  {
   "cell_type": "markdown",
   "id": "0ba57492",
   "metadata": {},
   "source": [
    "## Bo'lim 3: Og'irlikli O'rtacha (Weighted Mean) - O'rta (20 ball)\n",
    "\n",
    "### Topshiriq 3.1: GPA Hisoblash (12 ball)"
   ]
  },
  {
   "cell_type": "code",
   "execution_count": null,
   "id": "b19af859",
   "metadata": {},
   "outputs": [],
   "source": [
    "# TODO: Har bir talaba uchun GPA (Grade Point Average) hisoblang\n",
    "# Formula: GPA = (math*credit + physics*credit + chemistry*credit) / total_credits\n",
    "# Faraz qilamiz har bir fanning kredit soati credit_hours ustunidagi qiymatga teng\n",
    "\n",
    "def calculate_gpa(row):\n",
    "    \"\"\"\n",
    "    Bitta talaba uchun GPA hisoblash\n",
    "    \"\"\"\n",
    "    # SIZNING KODINGIZ:\n",
    "    pass\n",
    "\n",
    "# TODO: DataFrame ga 'gpa' ustuni qo'shing\n",
    "# SIZNING KODINGIZ:\n",
    "\n",
    "\n",
    "# TODO: Eng yuqori va eng past GPA ga ega talabalarni toping\n",
    "# SIZNING KODINGIZ:\n",
    "\n",
    "\n",
    "print(f\"O'rtacha GPA: {df['gpa'].mean():.2f}\")"
   ]
  },
  {
   "cell_type": "markdown",
   "id": "6fa267f4",
   "metadata": {},
   "source": [
    "### Topshiriq 3.2: Og'irlikli O'rtacha Taqqoslash (8 ball)"
   ]
  },
  {
   "cell_type": "code",
   "execution_count": null,
   "id": "2342fadf",
   "metadata": {},
   "outputs": [],
   "source": [
    "# TODO: Matematik fani uchun oddiy o'rtacha va og'irlikli o'rtachani taqqoslang\n",
    "# Og'irlik sifatida 'study_hours' dan foydalaning\n",
    "\n",
    "# Oddiy o'rtacha\n",
    "simple_mean = # SIZNING KODINGIZ\n",
    "\n",
    "# Og'irlikli o'rtacha\n",
    "weighted_mean = # SIZNING KODINGIZ (np.average ishlatting)\n",
    "\n",
    "print(f\"Oddiy o'rtacha: {simple_mean:.2f}\")\n",
    "print(f\"Og'irlikli o'rtacha: {weighted_mean:.2f}\")\n",
    "print(f\"Farq: {abs(simple_mean - weighted_mean):.2f}\")\n",
    "\n",
    "# TODO: Qaysi o'rtacha ko'proq ma'noga ega ekanligini izohlab yozing\n",
    "# SIZNING IZOHI:"
   ]
  },
  {
   "cell_type": "markdown",
   "id": "a34394cc",
   "metadata": {},
   "source": [
    "## Bo'lim 4: Median va Robustlik - O'rta (20 ball)\n",
    "\n",
    "### Topshiriq 4.1: Median Hisoblash (10 ball)"
   ]
  },
  {
   "cell_type": "code",
   "execution_count": null,
   "id": "573b843f",
   "metadata": {},
   "outputs": [],
   "source": [
    "# TODO: Qo'lda median hisoblash funksiyasini yozing\n",
    "def manual_median(data):\n",
    "    \"\"\"\n",
    "    Qo'lda median hisoblash\n",
    "    \"\"\"\n",
    "    # SIZNING KODINGIZ:\n",
    "    # 1. Ma'lumotlarni saralang\n",
    "    # 2. Uzunlikni tekshiring (toq yoki juft)\n",
    "    # 3. Medianni qaytaring\n",
    "    pass\n",
    "\n",
    "# TODO: Funksiyani barcha fanlar uchun sinab ko'ring\n",
    "subjects = ['math_score', 'physics_score', 'chemistry_score']\n",
    "\n",
    "print(\"=== MEDIAN TAQQOSLASH ===\")\n",
    "for subject in subjects:\n",
    "    manual_med = manual_median(df[subject])\n",
    "    numpy_med = # SIZNING KODINGIZ\n",
    "    print(f\"{subject}: Qo'lda={manual_med:.2f}, NumPy={numpy_med:.2f}\")"
   ]
  },
  {
   "cell_type": "markdown",
   "id": "720ba316",
   "metadata": {},
   "source": [
    "### Topshiriq 4.2: Outlier Ta'sirini Tekshirish (10 ball)"
   ]
  },
  {
   "cell_type": "code",
   "execution_count": null,
   "id": "5349d2ba",
   "metadata": {},
   "outputs": [],
   "source": [
    "# TODO: Matematik ballar ro'yxatiga sun'iy outlier qo'shing va ta'sirini ko'ring\n",
    "\n",
    "# Asl ma'lumotlar\n",
    "original_math = df['math_score'].copy()\n",
    "\n",
    "# TODO: Outlier qo'shilgan ma'lumotlar yarating\n",
    "# Masalan: [0, 0, 100, 100] qiymatlarini qo'shing\n",
    "math_with_outliers = # SIZNING KODINGIZ\n",
    "\n",
    "# TODO: O'rtacha va median taqqoslash\n",
    "print(\"=== OUTLIER TA'SIRI ===\")\n",
    "print(\"Asl ma'lumotlar:\")\n",
    "print(f\"  O'rtacha: {# SIZNING KODINGIZ}\")\n",
    "print(f\"  Median: {# SIZNING KODINGIZ}\")\n",
    "\n",
    "print(\"Outlier bilan:\")\n",
    "print(f\"  O'rtacha: {# SIZNING KODINGIZ}\")\n",
    "print(f\"  Median: {# SIZNING KODINGIZ}\")\n",
    "\n",
    "# TODO: Qaysi ko'rsatkich robustroq ekanligini izohlang\n",
    "# SIZNING IZOHI:"
   ]
  },
  {
   "cell_type": "markdown",
   "id": "d475e3a0",
   "metadata": {},
   "source": [
    "## Bo'lim 5: Percentillar va IQR - Qiyin (25 ball)\n",
    "\n",
    "### Topshiriq 5.1: Percentillar Hisoblash (15 ball)"
   ]
  },
  {
   "cell_type": "code",
   "execution_count": null,
   "id": "a3f786fa",
   "metadata": {},
   "outputs": [],
   "source": [
    "# TODO: Matematik baholar uchun percentillar jadvalini yarating\n",
    "# 10, 25, 50, 75, 90, 95, 99 percentillar\n",
    "\n",
    "percentiles = [10, 25, 50, 75, 90, 95, 99]\n",
    "\n",
    "# SIZNING KODINGIZ:\n",
    "# np.percentile ishlatting\n",
    "\n",
    "\n",
    "# TODO: Natijalarni DataFrame ko'rinishida chop eting\n",
    "# SIZNING KODINGIZ:\n",
    "\n",
    "\n",
    "# TODO: 80 ball percentil rangini toping\n",
    "score_80_percentile = # SIZNING KODINGIZ (stats.percentileofscore ishlatting)\n",
    "print(f\"\\n80 ballning percentil rangi: {score_80_percentile:.1f}%\")"
   ]
  },
  {
   "cell_type": "markdown",
   "id": "c7a084d9",
   "metadata": {},
   "source": [
    "### Topshiriq 5.2: IQR va Outlier Aniqlash (10 ball)"
   ]
  },
  {
   "cell_type": "code",
   "execution_count": null,
   "id": "7abba83c",
   "metadata": {},
   "outputs": [],
   "source": [
    "# TODO: IQR usuli bilan outlier topish funksiyasini yozing\n",
    "def find_outliers_iqr(data):\n",
    "    \"\"\"\n",
    "    IQR usuli bilan outlierlarni topish\n",
    "    \"\"\"\n",
    "    # SIZNING KODINGIZ:\n",
    "    # 1. Q1 va Q3 ni hisoblang\n",
    "    # 2. IQR = Q3 - Q1\n",
    "    # 3. Lower bound = Q1 - 1.5*IQR\n",
    "    # 4. Upper bound = Q3 + 1.5*IQR\n",
    "    # 5. Outlierlarni qaytaring\n",
    "    pass\n",
    "\n",
    "# TODO: Har bir fan uchun outlierlarni toping\n",
    "subjects = ['math_score', 'physics_score', 'chemistry_score']\n",
    "\n",
    "print(\"=== OUTLIER TAHLILI ===\")\n",
    "for subject in subjects:\n",
    "    outliers = find_outliers_iqr(df[subject])\n",
    "    print(f\"{subject}:\")\n",
    "    print(f\"  Outlier soni: {len(outliers)}\")\n",
    "    if len(outliers) > 0:\n",
    "        print(f\"  Outlier qiymatlar: {outliers}\")\n",
    "    print()"
   ]
  },
  {
   "cell_type": "markdown",
   "id": "60b54450",
   "metadata": {},
   "source": [
    "## Bo'lim 6: Vizualizatsiya va Tahlil - Qiyin (15 ball)\n",
    "\n",
    "### Topshiriq 6.1: Markaziy Tendentsiya Grafiklari (15 ball)"
   ]
  },
  {
   "cell_type": "code",
   "execution_count": null,
   "id": "eb3410a0",
   "metadata": {},
   "outputs": [],
   "source": [
    "# TODO: 2x2 subplot yaratib, har bir fan uchun histogram chizing\n",
    "# Har bir grafikda o'rtacha, median va 10% trimmed mean ko'rsating\n",
    "\n",
    "# SIZNING KODINGIZ:\n",
    "\n",
    "\n",
    "# TODO: Box plot yaratib barcha fanlarni taqqoslang\n",
    "# SIZNING KODINGIZ:\n",
    "\n",
    "\n",
    "# TODO: Grafiklar asosida qisqacha tahlil yozing\n",
    "# SIZNING TAHLILI:"
   ]
  },
  {
   "cell_type": "markdown",
   "id": "dbe0b5c1",
   "metadata": {},
   "source": [
    "## Bo'lim 7: Og'irlikli Median - Eng Qiyin (Bonus: +10 ball)\n",
    "\n",
    "### Topshiriq 7.1: Og'irlikli Median Algoritmi"
   ]
  },
  {
   "cell_type": "code",
   "execution_count": null,
   "id": "ac0883f1",
   "metadata": {},
   "outputs": [],
   "source": [
    "# TODO: Og'irlikli median hisoblash funksiyasini yozing\n",
    "def weighted_median(data, weights):\n",
    "    \"\"\"\n",
    "    Og'irlikli median hisoblash\n",
    "    \"\"\"\n",
    "    # SIZNING KODINGIZ:\n",
    "    # 1. Ma'lumotlar va og'irliklarni saralang\n",
    "    # 2. Kumulyativ og'irliklarni hisoblang\n",
    "    # 3. Umumiy og'irlikning yarmini toping\n",
    "    # 4. Og'irlikli medianni qaytaring\n",
    "    pass\n",
    "\n",
    "# TODO: Matematik baholar uchun og'irlikli median hisoblang\n",
    "# Og'irlik sifatida study_hours ishlatting\n",
    "\n",
    "regular_median = # SIZNING KODINGIZ\n",
    "w_median = weighted_median(df['math_score'], df['study_hours'])\n",
    "\n",
    "print(f\"Oddiy median: {regular_median:.2f}\")\n",
    "print(f\"Og'irlikli median: {w_median:.2f}\")\n",
    "print(f\"Farq: {abs(regular_median - w_median):.2f}\")"
   ]
  },
  {
   "cell_type": "markdown",
   "id": "8fa46d16",
   "metadata": {},
   "source": [
    "## Bo'lim 8: Yakuniy Tahlil va Xulosa (Majburiy)\n",
    "\n",
    "### Yakuniy Hisobot"
   ]
  },
  {
   "cell_type": "markdown",
   "id": "8095d06e",
   "metadata": {},
   "source": [
    "**TODO: Quyidagi savollarga javob bering:**\n",
    "\n",
    "1. **Qaysi fan bo'yicha talabalar eng yaxshi natija ko'rsatdi? Sababi nimada?**\n",
    "   - JAVOBINGIZ:\n",
    "\n",
    "2. **O'rtacha va median o'rtasida katta farq bor fanlar bormi? Bu nimani anglatadi?**\n",
    "   - JAVOBINGIZ:\n",
    "\n",
    "3. **GPA hisoblashda og'irlikli o'rtachadan foydalanish qanchalik muhim?**\n",
    "   - JAVOBINGIZ:\n",
    "\n",
    "4. **IQR usuli bilan topilgan outlierlar qanday talabalar bo'lishi mumkin?**\n",
    "   - JAVOBINGIZ:\n",
    "\n",
    "5. **Real hayotda qaysi markaziy tendentsiya ko'rsatkichi eng ko'p ishlatiladi va nega?**\n",
    "   - JAVOBINGIZ:"
   ]
  },
  {
   "cell_type": "markdown",
   "id": "2ab2b282",
   "metadata": {},
   "source": [
    "---\n",
    "\n",
    "## Topshirish Ko'rsatmalari\n",
    "\n",
    "1. **Barcha kodlarni to'liq yozing** - \"TODO\" qismlarini o'z kodingiz bilan almashtiring\n",
    "2. **Natijalarni tahlil qiling** - Har bir topshiriqdan so'ng qisqacha izoh yozing\n",
    "3. **Grafiklar aniq bo'lsin** - Title, label va legend qo'shing\n",
    "4. **Matematik formulalarni to'g'ri ishlating** - Hisob-kitoblarni tekshiring\n",
    "5. **Yakuniy hisobotni to'ldiring** - Barcha savollarga javob bering\n",
    "\n",
    "### Baholash Mezoni:\n",
    "- **A (90-100):** Barcha topshiriqlar to'liq va to'g'ri bajarilgan\n",
    "- **B (80-89):** Ko'pchilik topshiriqlar to'g'ri, kichik xatolar bor\n",
    "- **C (70-79):** Asosiy topshiriqlar bajarilgan, ba'zi qiyinchiliklar bor\n",
    "- **D (60-69):** Oddiy topshiriqlar bajarilgan, qiyin qismlar tugallanmagan\n",
    "- **F (<60):** Ko'p xatolar yoki tugallanmagan topshiriqlar\n",
    "\n",
    "**Omad tilaymiz! 📊📈**"
   ]
  }
 ],
 "metadata": {
  "language_info": {
   "name": "python"
  }
 },
 "nbformat": 4,
 "nbformat_minor": 5
}
