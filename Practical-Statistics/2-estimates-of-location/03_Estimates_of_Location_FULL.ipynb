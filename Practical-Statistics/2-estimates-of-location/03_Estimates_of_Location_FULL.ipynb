{
 "cells": [
  {
   "cell_type": "markdown",
   "metadata": {},
   "source": [
    "# 2-dars: Estimates of Location\n",
    "\n",
    "Ushbu darsda biz **Students Performance Dataset** bilan ishlaymiz.\n",
    "Datasetni Colabda yuklab olishning bir nechta usullarini ko‘rib chiqamiz:\n",
    "- GitHub RAW link\n",
    "- wget\n",
    "- curl\n",
    "- pandas orqali URL\n",
    "- requests\n",
    "- Google Drive (gdown yoki mount)\n",
    "- Kaggle API\n",
    "- Kompyuterdan qo‘lda yuklash\n",
    "- Seaborn tayyor datasetlari\n",
    "- Ichkarida mini-namuna yaratish\n"
   ]
  },
  {
   "cell_type": "code",
   "execution_count": null,
   "metadata": {},
   "outputs": [],
   "source": [
    "# Kutubxonalarni chaqirib olish\n",
    "import os, io, zipfile\n",
    "import numpy as np\n",
    "import pandas as pd\n",
    "from pathlib import Path\n",
    "\n",
    "DATA_DIR = Path(\"/content/data\")\n",
    "DATA_DIR.mkdir(parents=True, exist_ok=True)\n",
    "print(\"Data dir:\", DATA_DIR)"
   ]
  },
  {
   "cell_type": "markdown",
   "metadata": {},
   "source": [
    "## 1-usul: GitHub RAW link orqali yuklash"
   ]
  },
  {
   "cell_type": "code",
   "execution_count": null,
   "metadata": {},
   "outputs": [],
   "source": [
    "RAW_URL = \"https://raw.githubusercontent.com/<user>/<repo>/<branch>/path/to/StudentsPerformance.csv\"\n",
    "try:\n",
    "    df = pd.read_csv(RAW_URL)\n",
    "    df.to_csv(DATA_DIR / \"students_performance.csv\", index=False)\n",
    "    print(\"Yuklandi:\", df.shape)\n",
    "except Exception as e:\n",
    "    print(\"Xatolik:\", e)"
   ]
  },
  {
   "cell_type": "markdown",
   "metadata": {},
   "source": [
    "## 2-usul: wget bilan yuklab olish"
   ]
  },
  {
   "cell_type": "code",
   "execution_count": null,
   "metadata": {},
   "outputs": [],
   "source": [
    "!wget -O /content/data/students_performance.csv \"https://raw.githubusercontent.com/<user>/<repo>/<branch>/path/to/StudentsPerformance.csv\"\n",
    "df = pd.read_csv(\"/content/data/students_performance.csv\")\n",
    "df.head()"
   ]
  },
  {
   "cell_type": "markdown",
   "metadata": {},
   "source": [
    "## 3-usul: curl bilan yuklab olish"
   ]
  },
  {
   "cell_type": "code",
   "execution_count": null,
   "metadata": {},
   "outputs": [],
   "source": [
    "!curl -L \"https://raw.githubusercontent.com/<user>/<repo>/<branch>/path/to/StudentsPerformance.csv\" -o /content/data/students_performance.csv\n",
    "df = pd.read_csv(\"/content/data/students_performance.csv\")\n",
    "df.head()"
   ]
  },
  {
   "cell_type": "markdown",
   "metadata": {},
   "source": [
    "## 4-usul: pandas.read_csv() bilan URL’dan"
   ]
  },
  {
   "cell_type": "code",
   "execution_count": null,
   "metadata": {},
   "outputs": [],
   "source": [
    "URL = \"https://raw.githubusercontent.com/<user>/<repo>/<branch>/path/to/StudentsPerformance.csv\"\n",
    "df = pd.read_csv(URL)\n",
    "df.head()"
   ]
  },
  {
   "cell_type": "markdown",
   "metadata": {},
   "source": [
    "## 5-usul: requests + io orqali"
   ]
  },
  {
   "cell_type": "code",
   "execution_count": null,
   "metadata": {},
   "outputs": [],
   "source": [
    "import requests\n",
    "from io import StringIO\n",
    "\n",
    "URL = \"https://raw.githubusercontent.com/<user>/<repo>/<branch>/path/to/StudentsPerformance.csv\"\n",
    "resp = requests.get(URL, timeout=30)\n",
    "resp.raise_for_status()\n",
    "df = pd.read_csv(StringIO(resp.text))\n",
    "df.head()"
   ]
  },
  {
   "cell_type": "markdown",
   "metadata": {},
   "source": [
    "## 6-usul: Google Drive’dan gdown orqali"
   ]
  },
  {
   "cell_type": "code",
   "execution_count": null,
   "metadata": {},
   "outputs": [],
   "source": [
    "!pip -q install gdown\n",
    "import gdown\n",
    "\n",
    "FILE_ID = \"1AbCdEfGhIjKlMnOP-YourFileIDHere\"\n",
    "gdown.download(f\"https://drive.google.com/uc?id={FILE_ID}\", str(DATA_DIR / \"students_performance.csv\"), quiet=False)\n",
    "df = pd.read_csv(DATA_DIR / \"students_performance.csv\")\n",
    "df.head()"
   ]
  },
  {
   "cell_type": "markdown",
   "metadata": {},
   "source": [
    "## 7-usul: Google Drive’ni mount qilib ishlatish"
   ]
  },
  {
   "cell_type": "code",
   "execution_count": null,
   "metadata": {},
   "outputs": [],
   "source": [
    "from google.colab import drive\n",
    "drive.mount('/content/drive')\n",
    "csv_path = \"/content/drive/MyDrive/datasets/StudentsPerformance.csv\"\n",
    "df = pd.read_csv(csv_path)\n",
    "df.head()"
   ]
  },
  {
   "cell_type": "markdown",
   "metadata": {},
   "source": [
    "## 8-usul: Kaggle API orqali"
   ]
  },
  {
   "cell_type": "code",
   "execution_count": null,
   "metadata": {},
   "outputs": [],
   "source": [
    "!mkdir -p ~/.kaggle\n",
    "!cp /content/kaggle.json ~/.kaggle/\n",
    "!chmod 600 ~/.kaggle/kaggle.json\n",
    "\n",
    "!kaggle datasets download -d spscientist/students-performance-in-exams -p /content/data\n",
    "!unzip -o /content/data/*.zip -d /content/data\n",
    "\n",
    "df = pd.read_csv(\"/content/data/StudentsPerformance.csv\")\n",
    "df.head()"
   ]
  },
  {
   "cell_type": "markdown",
   "metadata": {},
   "source": [
    "## 9-usul: Kompyuterdan qo‘lda yuklash"
   ]
  },
  {
   "cell_type": "code",
   "execution_count": null,
   "metadata": {},
   "outputs": [],
   "source": [
    "from google.colab import files\n",
    "uploaded = files.upload()\n",
    "csv_path = list(uploaded.keys())[0]\n",
    "df = pd.read_csv(csv_path)\n",
    "df.head()"
   ]
  },
  {
   "cell_type": "markdown",
   "metadata": {},
   "source": [
    "## 10-usul: Ichkarida mini-dataset yaratish"
   ]
  },
  {
   "cell_type": "code",
   "execution_count": null,
   "metadata": {},
   "outputs": [],
   "source": [
    "csv_text = \"\"\"gender,race,parent_edu,lunch,prep,math,reading,writing\n",
    "female,A,bachelor,standard,completed,72,72,74\n",
    "female,C,some college,standard,none,69,90,88\n",
    "female,B,master,free/discount,completed,90,95,93\n",
    "male,B,associate,standard,none,47,57,44\n",
    "male,E,high school,standard,none,76,78,75\n",
    "female,D,associate,free/discount,completed,71,83,78\n",
    "female,E,some college,standard,completed,88,95,92\n",
    "male,C,some college,free/discount,none,40,43,39\n",
    "male,D,high school,standard,completed,64,64,67\n",
    "female,B,bachelor,standard,none,38,60,50\n",
    "male,C,bachelor,standard,completed,58,54,52\n",
    "female,C,master,free/discount,completed,95,99,98\n",
    "male,E,associate,free/discount,none,45,52,49\n",
    "female,A,high school,standard,none,74,72,75\n",
    "male,B,bachelor,standard,completed,66,68,62\n",
    "\"\"\"\n",
    "df = pd.read_csv(io.StringIO(csv_text))\n",
    "df.head()"
   ]
  },
  {
   "cell_type": "markdown",
   "metadata": {},
   "source": [
    "## 2) EDA — Savollar va Qisqa Mashqlar\n",
    "\n",
    "**Maqsad:** Datasetning umumiy ko'rinishini tushunish, ustunlar turlari, yo'q qiymatlar, takrorlar, va asosiy taqsimotlar.\n",
    "\n",
    "**Savollar (discussion):**\n",
    "1. Qaysi ustunlar **sonli**, qaysilari **kategoriyaviy**?\n",
    "2. Datasetda **yo'q (NaN)** qiymatlar bormi? Qaysi ustunlarda ko'p?\n",
    "3. Qaysi ustunlarning tarqalishi **notekis** (skewed) ko'rinadi?\n",
    "4. `gender`, `lunch`, `prep` (test preparation) ustunlarining taqsimoti qanday?\n",
    "\n",
    "> Eslatma: `df` avvalgi bo'limda yaratilgan. Agar mavjud bo'lmasa, mini-namuna yaratiladi."
   ]
  },
  {
   "cell_type": "code",
   "execution_count": null,
   "metadata": {},
   "outputs": [],
   "source": [
    "# df mavjudligini tekshiramiz, bo'lmasa mini-namuna yaratamiz\n",
    "try:\n",
    "    _ = df.shape\n",
    "except NameError:\n",
    "    import pandas as pd, io\n",
    "    csv_text = \"\"\"gender,race,parent_edu,lunch,prep,math,reading,writing\n",
    "female,A,bachelor,standard,completed,72,72,74\n",
    "female,C,some college,standard,none,69,90,88\n",
    "female,B,master,free/discount,completed,90,95,93\n",
    "male,B,associate,standard,none,47,57,44\n",
    "male,E,high school,standard,none,76,78,75\n",
    "female,D,associate,free/discount,completed,71,83,78\n",
    "female,E,some college,standard,completed,88,95,92\n",
    "male,C,some college,free/discount,none,40,43,39\n",
    "male,D,high school,standard,completed,64,64,67\n",
    "female,B,bachelor,standard,none,38,60,50\n",
    "male,C,bachelor,standard,completed,58,54,52\n",
    "female,C,master,free/discount,completed,95,99,98\n",
    "male,E,associate,free/discount,none,45,52,49\n",
    "female,A,high school,standard,none,74,72,75\n",
    "male,B,bachelor,standard,completed,66,68,62\n",
    "\"\"\"\n",
    "    df = pd.read_csv(io.StringIO(csv_text))\n",
    "\n",
    "print(\"Shape:\", df.shape)\n",
    "display(df.head())"
   ]
  },
  {
   "cell_type": "code",
   "execution_count": null,
   "metadata": {},
   "outputs": [],
   "source": [
    "# Umumiy ma'lumotlar\n",
    "display(df.info())\n",
    "display(df.describe(include='all').T.head(15))\n",
    "print('\\nMissing values per column:\\n', df.isna().sum())\n",
    "print('\\nDuplicate rows:', df.duplicated().sum())"
   ]
  },
  {
   "cell_type": "markdown",
   "metadata": {},
   "source": [
    "### 🧪 EDA — Mashqlar\n",
    "1) Datasetdagi **ustun nomlari** va **turlari** ro‘yxatini chiqaring.\n",
    "2) `gender`, `lunch`, `prep` bo'yicha **value_counts()** natijalarini ko'rsating.\n",
    "3) Sonli ustunlar (masalan: `math`, `reading`, `writing`) bo'yicha **min, max, mean** qiymatlarni ko'rsating.\n",
    "4) Agar mavjud bo'lsa, **NaN** qiymatlarni ustunlar bo'yicha % hisobida ko'rsating.\n",
    "\n",
    "Quyidagi **TODO** kataklarda bajaring."
   ]
  },
  {
   "cell_type": "code",
   "execution_count": null,
   "metadata": {
    "tags": [
     "exercise"
    ]
   },
   "outputs": [],
   "source": [
    "# TODO: 1) Ustun nomlari va dtypes\n",
    "print(\"Columns:\", list(df.columns))\n",
    "print(\"\\nDTypes:\\n\", df.dtypes)"
   ]
  },
  {
   "cell_type": "code",
   "execution_count": null,
   "metadata": {
    "tags": [
     "exercise"
    ]
   },
   "outputs": [],
   "source": [
    "# TODO: 2) value_counts for categorical columns\n",
    "for col in [c for c in df.columns if df[c].dtype=='object']:\n",
    "    print(f\"\\n==== {col} ====\")\n",
    "    print(df[col].value_counts(dropna=False))"
   ]
  },
  {
   "cell_type": "code",
   "execution_count": null,
   "metadata": {
    "tags": [
     "exercise"
    ]
   },
   "outputs": [],
   "source": [
    "# TODO: 3) Basic stats for numeric columns\n",
    "numeric_cols = df.select_dtypes(include=['int64','float64']).columns\n",
    "display(df[numeric_cols].agg(['min','max','mean']).T)"
   ]
  },
  {
   "cell_type": "code",
   "execution_count": null,
   "metadata": {
    "tags": [
     "exercise"
    ]
   },
   "outputs": [],
   "source": [
    "# TODO: 4) Missing values in percent\n",
    "mv = df.isna().mean().sort_values(ascending=False)*100\n",
    "display(mv.to_frame('missing_%').T if mv.sum()==0 else mv.to_frame('missing_%'))"
   ]
  },
  {
   "cell_type": "markdown",
   "metadata": {},
   "source": [
    "## 3) Estimates of Location — Nazariya va Amaliyot\n",
    "\n",
    "**Asosiy tushunchalar:**\n",
    "- **Mean (o'rtacha):** hamma qiymatlarning yig'indisi / soni. Outlierlarga sezgir.\n",
    "- **Median (mediana):** tartiblangan qiymatlarning o‘rta nuqtasi. Outlierlarga chidamli.\n",
    "- **Mode (moda):** eng ko‘p uchraydigan qiymat.\n",
    "- **Quantiles/Percentiles:** taqsimotdagi foizli kesmalar (masalan, 25%, 50%, 75%).\n",
    "- **Weighted Mean:** har bir qiymatga og‘irlik berilgan holda o‘rtacha.\n",
    "- **Trimmed Mean:** chet (eng kichik va eng katta) foizlardan qisqartirilgan o‘rtacha.\n",
    "\n",
    "> Qachon qaysi biri? \n",
    "- Outlierlar ko‘p bo‘lsa → **Median / Trimmed Mean** yaxshi.\n",
    "- Kategorik ma'lumot / diskret qiymatlar → **Mode** foydali.\n",
    "- Vaznli baholash kerak bo‘lsa (masalan, fanlar turlicha ahamiyatga ega) → **Weighted Mean**."
   ]
  },
  {
   "cell_type": "code",
   "execution_count": null,
   "metadata": {},
   "outputs": [],
   "source": [
    "# Sonli ustunlar bilan ishlaymiz\n",
    "import numpy as np\n",
    "numeric_cols = [c for c in df.columns if np.issubdtype(df[c].dtype, np.number)]\n",
    "print(\"Numeric columns:\", numeric_cols)"
   ]
  },
  {
   "cell_type": "code",
   "execution_count": null,
   "metadata": {},
   "outputs": [],
   "source": [
    "# Mean, Median, Mode (umumiy)\n",
    "from statistics import mode, StatisticsError\n",
    "\n",
    "summary = {}\n",
    "for col in numeric_cols:\n",
    "    try:\n",
    "        m = df[col].mean()\n",
    "        med = df[col].median()\n",
    "        try:\n",
    "            mo = df[col].mode(dropna=True).iloc[0]\n",
    "        except Exception:\n",
    "            mo = None\n",
    "        summary[col] = {\"mean\": m, \"median\": med, \"mode\": mo}\n",
    "    except Exception as e:\n",
    "        summary[col] = {\"error\": str(e)}\n",
    "\n",
    "import pandas as pd\n",
    "display(pd.DataFrame(summary).T)"
   ]
  },
  {
   "cell_type": "code",
   "execution_count": null,
   "metadata": {},
   "outputs": [],
   "source": [
    "# Quantiles & Percentiles\n",
    "q = df[numeric_cols].quantile([0.1, 0.25, 0.5, 0.75, 0.9])\n",
    "display(q)"
   ]
  },
  {
   "cell_type": "code",
   "execution_count": null,
   "metadata": {},
   "outputs": [],
   "source": [
    "# Weighted Mean (misol: math va reading ni 60/40 nisbatda baholash)\n",
    "if set([\"math\",\"reading\"]).issubset(set(df.columns)):\n",
    "    w = np.array([0.6, 0.4])\n",
    "    values = df[[\"math\",\"reading\"]].to_numpy()\n",
    "    weighted_scores = (values * w).sum(axis=1) / w.sum()\n",
    "    print(\"Weighted mean (math=0.6, reading=0.4):\", weighted_scores.mean())\n",
    "else:\n",
    "    print(\"'math' va 'reading' ustunlari topilmadi. Weighted mean demo o'tkazib yuborildi.\")"
   ]
  },
  {
   "cell_type": "code",
   "execution_count": null,
   "metadata": {},
   "outputs": [],
   "source": [
    "# Trimmed Mean (10% qisqartirish)\n",
    "try:\n",
    "    from scipy.stats import trim_mean\n",
    "    trimmed = {col: trim_mean(df[col].dropna(), 0.1) for col in numeric_cols}\n",
    "    display(pd.Series(trimmed, name=\"trimmed_mean_10%\"))\n",
    "except Exception as e:\n",
    "    print(\"SciPy mavjud emas yoki xatolik:\", e)"
   ]
  },
  {
   "cell_type": "markdown",
   "metadata": {},
   "source": [
    "### 🧪 Mashqlar — Estimates of Location\n",
    "1) `math`, `reading`, `writing` ustunlari uchun **mean**, **median**, **mode** ni alohida hisoblang va taqqoslang.\n",
    "2) 25%, 50%, 75% **quantile** qiymatlarini har bir fan uchun ko'rsating.\n",
    "3) **Weighted mean** (math 50%, reading 25%, writing 25%) ni hisoblang.\n",
    "4) **Trimmed mean** (5% va 20%) ni hisoblab, oddiy mean bilan solishtiring.\n",
    "5) `gender` bo'yicha guruhlab **mean/median** ni solishtiring.\n"
   ]
  },
  {
   "cell_type": "code",
   "execution_count": null,
   "metadata": {
    "tags": [
     "exercise"
    ]
   },
   "outputs": [],
   "source": [
    "# TODO: 1) mean/median/mode for math, reading, writing\n",
    "cols = [c for c in [\"math\",\"reading\",\"writing\"] if c in df.columns]\n",
    "for c in cols:\n",
    "    print(f\"\\n-- {c.upper()} --\")\n",
    "    print(\"mean:\", df[c].mean())\n",
    "    print(\"median:\", df[c].median())\n",
    "    try:\n",
    "        print(\"mode:\", df[c].mode().iloc[0])\n",
    "    except Exception:\n",
    "        print(\"mode: N/A\")"
   ]
  },
  {
   "cell_type": "code",
   "execution_count": null,
   "metadata": {
    "tags": [
     "exercise"
    ]
   },
   "outputs": [],
   "source": [
    "# TODO: 2) quantiles for math, reading, writing\n",
    "quantiles = df[cols].quantile([0.25, 0.5, 0.75]) if cols else None\n",
    "display(quantiles)"
   ]
  },
  {
   "cell_type": "code",
   "execution_count": null,
   "metadata": {
    "tags": [
     "exercise"
    ]
   },
   "outputs": [],
   "source": [
    "# TODO: 3) Weighted mean with weights 0.5, 0.25, 0.25\n",
    "import numpy as np\n",
    "if set([\"math\",\"reading\",\"writing\"]).issubset(set(df.columns)):\n",
    "    w = np.array([0.5, 0.25, 0.25])\n",
    "    arr = df[[\"math\",\"reading\",\"writing\"]].to_numpy()\n",
    "    weighted = (arr * w).sum(axis=1) / w.sum()\n",
    "    print(\"Weighted mean (0.5, 0.25, 0.25):\", weighted.mean())\n",
    "else:\n",
    "    print(\"Kerakli ustunlar topilmadi.\")"
   ]
  },
  {
   "cell_type": "code",
   "execution_count": null,
   "metadata": {
    "tags": [
     "exercise"
    ]
   },
   "outputs": [],
   "source": [
    "# TODO: 4) Trimmed mean 5% va 20%\n",
    "try:\n",
    "    from scipy.stats import trim_mean\n",
    "    for p in [0.05, 0.2]:\n",
    "        vals = {c: trim_mean(df[c].dropna(), p) for c in cols}\n",
    "        print(f\"Trimmed mean (p={p}):\", vals)\n",
    "except Exception as e:\n",
    "    print(\"SciPy kerak.\", e)"
   ]
  },
  {
   "cell_type": "code",
   "execution_count": null,
   "metadata": {
    "tags": [
     "exercise"
    ]
   },
   "outputs": [],
   "source": [
    "# TODO: 5) gender bo'yicha mean/median\n",
    "if \"gender\" in df.columns and cols:\n",
    "    grp_mean = df.groupby(\"gender\")[cols].mean()\n",
    "    grp_median = df.groupby(\"gender\")[cols].median()\n",
    "    display(grp_mean)\n",
    "    display(grp_median)\n",
    "else:\n",
    "    print(\"'gender' yoki fan ustunlari topilmadi.\")"
   ]
  },
  {
   "cell_type": "markdown",
   "metadata": {},
   "source": [
    "## 4) Vizualizatsiya\n",
    "- **Histogram**: masalan, `math` ballari taqsimoti (mean/median chiziqlari bilan)\n",
    "- **Boxplot**: `math` ballari bo'yicha gender kesimida quti-chiziq grafiki\n",
    "\n",
    "> Eslatma: talab bo'yicha **faqat matplotlib** ishlatamiz; har figura alohida."
   ]
  },
  {
   "cell_type": "code",
   "execution_count": null,
   "metadata": {},
   "outputs": [],
   "source": [
    "import matplotlib.pyplot as plt\n",
    "if \"math\" in df.columns:\n",
    "    plt.figure()\n",
    "    plt.hist(df[\"math\"].dropna(), bins=15)\n",
    "    plt.axvline(df[\"math\"].mean(), linestyle='--', label='Mean')\n",
    "    plt.axvline(df[\"math\"].median(), linestyle=':', label='Median')\n",
    "    plt.title(\"Math score histogram\")\n",
    "    plt.xlabel(\"Score\")\n",
    "    plt.ylabel(\"Count\")\n",
    "    plt.legend()\n",
    "    plt.show()\n",
    "else:\n",
    "    print(\"'math' ustuni topilmadi.\")"
   ]
  },
  {
   "cell_type": "code",
   "execution_count": null,
   "metadata": {},
   "outputs": [],
   "source": [
    "import matplotlib.pyplot as plt\n",
    "if \"math\" in df.columns and \"gender\" in df.columns:\n",
    "    plt.figure()\n",
    "    groups = [df.loc[df[\"gender\"]==g, \"math\"].dropna().values for g in df[\"gender\"].dropna().unique()]\n",
    "    labels = list(df[\"gender\"].dropna().unique())\n",
    "    plt.boxplot(groups, labels=labels)\n",
    "    plt.title(\"Math score by gender\")\n",
    "    plt.ylabel(\"Score\")\n",
    "    plt.show()\n",
    "else:\n",
    "    print(\"'math' yoki 'gender' topilmadi.\")"
   ]
  },
  {
   "cell_type": "markdown",
   "metadata": {},
   "source": [
    "## 5) Review — Savol-javob\n",
    "1. Mean va median farqi nimada, qachon median ustun?\n",
    "2. Mode qaysi hollarda foydali metrika?\n",
    "3. Quantile/percentile nimani bildiradi? 25% va 75% quantile qanday talqin qilinadi?\n",
    "4. Weighted mean va trimmed mean afzalliklari nimada?\n",
    "5. EDA paytida nimalarga e'tibor berish kerak (missing values, duplicates, skewness)?"
   ]
  },
  {
   "cell_type": "markdown",
   "metadata": {},
   "source": [
    "## 6) Mini-proyekt: **Top 10% Students Report**\n",
    "**Vazifa:** Har bir fan bo'yicha top 10% talabalarni aniqlash va `gender` bo'yicha taqqoslash.\n",
    "\n",
    "**Bosqichlar:**\n",
    "1) `math`, `reading`, `writing` uchun 90-percentile qiymatlarni toping.\n",
    "2) Har bir fan bo'yicha 90-percentile dan yuqori talabalar ro'yxatini oling.\n",
    "3) Har bir ro'yxatda `gender` bo'yicha nechta talaba borligini hisoblang.\n",
    "4) (ixtiyoriy) Uch fanning hammasidan 90%+ bo'lgan super-top talabalarni toping.\n"
   ]
  },
  {
   "cell_type": "code",
   "execution_count": null,
   "metadata": {
    "tags": [
     "exercise"
    ]
   },
   "outputs": [],
   "source": [
    "# TODO: Mini-proyekt yechimi\n",
    "target_cols = [c for c in [\"math\",\"reading\",\"writing\"] if c in df.columns]\n",
    "if target_cols:\n",
    "    p90 = df[target_cols].quantile(0.9)\n",
    "    print(\"P90 thresholds:\\n\", p90)\n",
    "\n",
    "    top = {}\n",
    "    for c in target_cols:\n",
    "        top[c] = df[df[c] >= p90[c]].copy()\n",
    "        print(f\"\\nTop 10% for {c}:\", top[c].shape)\n",
    "        if \"gender\" in top[c].columns:\n",
    "            print(top[c][\"gender\"].value_counts())\n",
    "\n",
    "    # ixtiyoriy: hammasidan 90%+\n",
    "    if set([\"math\",\"reading\",\"writing\"]).issubset(set(target_cols)):\n",
    "        super_top = df[(df[\"math\"]>=p90[\"math\"]) & (df[\"reading\"]>=p90[\"reading\"]) & (df[\"writing\"]>=p90[\"writing\"])].copy()\n",
    "        print(\"\\nSuper-top (3 fanda ham 90%+):\", super_top.shape)\n",
    "        display(super_top.head())\n",
    "else:\n",
    "    print(\"Kerakli ustunlar topilmadi.\")"
   ]
  },
  {
   "cell_type": "markdown",
   "metadata": {},
   "source": [
    "## 7) Uyga vazifa\n",
    "1) EDA ni kengaytiring: har bir kategoriyaviy ustun (`gender`, `lunch`, `prep`, `parent_edu`) bo'yicha **mean/median** taqqoslash jadvalini tuzing.\n",
    "2) `writing` ballari uchun **histogram** chizing va **mean/median** chiziqlarini qo'shing.\n",
    "3) `race` (agar mavjud) bo'yicha `math` medianlarini **bar chart** ko'rinishida chizing.\n",
    "4) Outlier ta'sirini tekshiring: `math` ga bitta juda katta qiymat qo'shing va **mean vs median** qanday o'zgarishini taqqoslang.\n",
    "5) (ixtiyoriy) `weighted mean` vaznlarini turli ssenariylarda solishtiring (masalan, `math`ga 0.7 vazn berish)."
   ]
  }
 ],
 "metadata": {
  "colab": {
   "provenance": []
  },
  "kernelspec": {
   "display_name": "Python 3",
   "language": "python",
   "name": "python3"
  },
  "language_info": {
   "name": "python"
  }
 },
 "nbformat": 4,
 "nbformat_minor": 0
}
