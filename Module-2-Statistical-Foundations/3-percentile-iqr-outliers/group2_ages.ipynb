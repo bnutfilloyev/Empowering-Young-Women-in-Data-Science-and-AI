{
 "cells": [
  {
   "cell_type": "markdown",
   "id": "54eb746e",
   "metadata": {},
   "source": [
    "# 🟩 2-GURUH: Talabalar Yoshi Tahlili\n",
    "\n",
    "**Mavzu:** Percentile, IQR va Outlierlar - Yoshga Oid Ma'lumotlar\n",
    "\n",
    "**Maqsad:** Universitet talabalarining yosh taqsimotini o'rganish orqali percentile va outlier tushunchalarini amalda qo'llash\n",
    "\n",
    "---\n",
    "\n",
    "## Vazifa Tafsiloti:\n",
    "\n",
    "Sizda bitta fakultetdagi 25 ta talabaning yoshi haqida ma'lumot bor. Bu ma'lumotlarni tahlil qilib, quyidagilarni aniqlashingiz kerak:\n",
    "\n",
    "1. **Yosh taqsimotining xususiyatlari**\n",
    "2. **Percentillar va ularning ta'lim kontekstidagi ma'nosi**\n",
    "3. **IQR orqali yosh farqlarini o'rganish**\n",
    "4. **G'ayrioddiy yosh talabalarni aniqlash**\n",
    "5. **Ta'lim muassasasi uchun tavsiyalar**\n",
    "\n",
    "---"
   ]
  },
  {
   "cell_type": "markdown",
   "id": "dd7a0ac9",
   "metadata": {},
   "source": [
    "## 1-Qadam: Ma'lumotlarni Tayyorlash"
   ]
  },
  {
   "cell_type": "code",
   "execution_count": 1,
   "id": "1178206e",
   "metadata": {},
   "outputs": [
    {
     "name": "stdout",
     "output_type": "stream",
     "text": [
      "🎓 Universitet Talabalar Yoshi Tahlili\n",
      "=============================================\n",
      "Talabalar soni: 25\n",
      "Eng kichik yosh: 18 yosh\n",
      "Eng katta yosh: 40 yosh\n",
      "O'rtacha yosh: 22.8 yosh\n",
      "Yosh oralig'i: 22 yil\n"
     ]
    }
   ],
   "source": [
    "# Kutubxonalarni import qilish\n",
    "import numpy as np\n",
    "import pandas as pd\n",
    "import matplotlib.pyplot as plt\n",
    "import seaborn as sns\n",
    "\n",
    "# Talabalar yoshi ma'lumotlari\n",
    "ages = np.array([18, 18, 19, 19, 19, 20, 20, 20, 20, 21, 21, 21, 21, 22, 22, \n",
    "                 22, 23, 23, 24, 24, 25, 26, 28, 35, 40])\n",
    "\n",
    "# Talabalar kurslari (taxminiy)\n",
    "courses = ['1-kurs', '1-kurs', '1-kurs', '2-kurs', '2-kurs', '2-kurs', '2-kurs', \n",
    "           '3-kurs', '3-kurs', '3-kurs', '3-kurs', '4-kurs', '4-kurs', '4-kurs',\n",
    "           '4-kurs', 'Magistr', 'Magistr', 'Magistr', 'Magistr', 'Magistr',\n",
    "           'Magistr', 'Magistr', 'Sirtqi', 'Katta yosh', 'Katta yosh']\n",
    "\n",
    "print(\"🎓 Universitet Talabalar Yoshi Tahlili\")\n",
    "print(\"=\"*45)\n",
    "print(f\"Talabalar soni: {len(ages)}\")\n",
    "print(f\"Eng kichik yosh: {ages.min()} yosh\")\n",
    "print(f\"Eng katta yosh: {ages.max()} yosh\")\n",
    "print(f\"O'rtacha yosh: {ages.mean():.1f} yosh\")\n",
    "print(f\"Yosh oralig'i: {ages.max() - ages.min()} yil\")"
   ]
  },
  {
   "cell_type": "markdown",
   "id": "7619ee17",
   "metadata": {},
   "source": [
    "## 2-Qadam: Percentillarni Hisoblash"
   ]
  },
  {
   "cell_type": "code",
   "execution_count": 2,
   "id": "6d885d9f",
   "metadata": {},
   "outputs": [
    {
     "name": "stdout",
     "output_type": "stream",
     "text": [
      "📊 Talabalar Yoshi Percentillari:\n",
      "P25: 20.0 yosh\n",
      "P50 (Mediana): 21.0 yosh\n",
      "P75: 24.0 yosh\n",
      "P90: 27.2 yosh\n",
      "\n",
      "💡 Ma'nosi:\n",
      "• 25% talaba 20.0 yoshdan kichik\n",
      "• 50% talaba 21.0 yoshdan kichik\n",
      "• 75% talaba 24.0 yoshdan kichik\n",
      "• 90% talaba 27.2 yoshdan kichik\n",
      "\n",
      "👥 Kurslar bo'yicha tahlil:\n",
      "O'rtacha yosh:\n",
      "• 1-kurs: 18.3 yosh\n",
      "• 2-kurs: 19.5 yosh\n",
      "• 3-kurs: 20.5 yosh\n",
      "• 4-kurs: 21.5 yosh\n",
      "• Katta yosh: 37.5 yosh\n",
      "• Magistr: 23.9 yosh\n",
      "• Sirtqi: 28.0 yosh\n",
      "\n",
      "Xulosa:\n",
      "• Eng yosh: 1-kurs (18.3 yosh)\n",
      "• Eng katta: Katta yosh (37.5 yosh)\n"
     ]
    }
   ],
   "source": [
    "# TODO: 25%, 50%, 75%, 90% percentillarni hisoblang\n",
    "# Percentillarni hisoblash\n",
    "P25 = np.percentile(ages, 25)\n",
    "P50 = np.percentile(ages, 50)  # Mediana\n",
    "P75 = np.percentile(ages, 75)\n",
    "P90 = np.percentile(ages, 90)\n",
    "\n",
    "print(\"📊 Talabalar Yoshi Percentillari:\")\n",
    "print(f\"P25: {P25:.1f} yosh\")\n",
    "print(f\"P50 (Mediana): {P50:.1f} yosh\")\n",
    "print(f\"P75: {P75:.1f} yosh\")\n",
    "print(f\"P90: {P90:.1f} yosh\")\n",
    "\n",
    "# TODO: Har bir percentilning ta'lim kontekstidagi ma'nosini tushuntiring\n",
    "print(\"\\n💡 Ma'nosi:\")\n",
    "print(f\"• 25% talaba {P25:.1f} yoshdan kichik\")\n",
    "print(f\"• 50% talaba {P50:.1f} yoshdan kichik\")\n",
    "print(f\"• 75% talaba {P75:.1f} yoshdan kichik\")\n",
    "print(f\"• 90% talaba {P90:.1f} yoshdan kichik\")\n",
    "\n",
    "# TODO: Yoshga ko'ra kurslarni taqqoslang\n",
    "print(\"\\n👥 Kurslar bo'yicha tahlil:\")\n",
    "\n",
    "# Har bir kurs uchun o'rtacha yosh\n",
    "df = pd.DataFrame({'Yosh': ages, 'Kurs': courses})\n",
    "kurs_yosh = df.groupby('Kurs')['Yosh'].mean().round(1)\n",
    "\n",
    "print(\"O'rtacha yosh:\")\n",
    "for kurs, yosh in kurs_yosh.items():\n",
    "    print(f\"• {kurs}: {yosh} yosh\")\n",
    "\n",
    "print(f\"\\nXulosa:\")\n",
    "print(f\"• Eng yosh: {kurs_yosh.idxmin()} ({kurs_yosh.min()} yosh)\")\n",
    "print(f\"• Eng katta: {kurs_yosh.idxmax()} ({kurs_yosh.max()} yosh)\")"
   ]
  },
  {
   "cell_type": "markdown",
   "id": "bb8787a5",
   "metadata": {},
   "source": [
    "## 3-Qadam: IQR va Quartillar"
   ]
  },
  {
   "cell_type": "code",
   "execution_count": 14,
   "id": "cff2853b",
   "metadata": {},
   "outputs": [
    {
     "name": "stdout",
     "output_type": "stream",
     "text": [
      "• 1-kurs: 18.3 yosh\n",
      "• 2-kurs: 19.5 yosh\n",
      "• 3-kurs: 20.5 yosh\n",
      "• 4-kurs: 21.5 yosh\n",
      "• Katta yosh: 37.5 yosh\n",
      "• Magistr: 23.9 yosh\n",
      "• Sirtqi: 28.0 yosh\n"
     ]
    }
   ],
   "source": [
    "for kurs, yosh in kurs_yosh.items():\n",
    "    print(f\"• {kurs}: {yosh} yosh\")"
   ]
  },
  {
   "cell_type": "code",
   "execution_count": null,
   "id": "1699c812",
   "metadata": {},
   "outputs": [],
   "source": [
    "# TODO: Q1, Q2 (mediana), Q3 ni hisoblang\n",
    "# SIZNING KODINGIZ:\n",
    "\n",
    "\n",
    "# TODO: IQR ni hisoblang\n",
    "# SIZNING KODINGIZ:\n",
    "\n",
    "\n",
    "# TODO: Outlier chegaralarini aniqlang\n",
    "# SIZNING KODINGIZ:\n"
   ]
  },
  {
   "cell_type": "code",
   "execution_count": 3,
   "id": "c0dacefa",
   "metadata": {},
   "outputs": [
    {
     "name": "stdout",
     "output_type": "stream",
     "text": [
      "📊 Quartillar:\n",
      "Q1 (25%): 20.0 yosh\n",
      "Q2 (50% - Mediana): 21.0 yosh\n",
      "Q3 (75%): 24.0 yosh\n",
      "\n",
      "📏 IQR:\n",
      "IQR = Q3 - Q1 = 24.0 - 20.0 = 4.0 yil\n",
      "O'rta 50% talabalarning yosh farqi 4.0 yil\n",
      "\n",
      "⚠️ Outlier Chegaralari:\n",
      "Pastki chegara: Q1 - 1.5×IQR = 20.0 - 1.5×4.0 = 14.0 yosh\n",
      "Yuqori chegara: Q3 + 1.5×IQR = 24.0 + 1.5×4.0 = 30.0 yosh\n",
      "\n",
      "Outlier yoshlar: [35 40]\n",
      "Outlier talabalar soni: 2 kishi\n"
     ]
    }
   ],
   "source": [
    "# TODO: Q1, Q2 (mediana), Q3 ni hisoblang\n",
    "Q1 = np.percentile(ages, 25)\n",
    "Q2 = np.percentile(ages, 50) \n",
    "Q3 = np.percentile(ages, 75)\n",
    "\n",
    "print(\"📊 Quartillar:\")\n",
    "print(f\"Q1 (25%): {Q1:.1f} yosh\")\n",
    "print(f\"Q2 (50% - Mediana): {Q2:.1f} yosh\")\n",
    "print(f\"Q3 (75%): {Q3:.1f} yosh\")\n",
    "\n",
    "# TODO: IQR ni hisoblang\n",
    "IQR = Q3 - Q1\n",
    "\n",
    "print(f\"\\n📏 IQR:\")\n",
    "print(f\"IQR = Q3 - Q1 = {Q3:.1f} - {Q1:.1f} = {IQR:.1f} yil\")\n",
    "print(f\"O'rta 50% talabalarning yosh farqi {IQR:.1f} yil\")\n",
    "\n",
    "# TODO: Outlier chegaralarini aniqlang\n",
    "lower_bound = Q1 - 1.5 * IQR\n",
    "upper_bound = Q3 + 1.5 * IQR\n",
    "\n",
    "print(f\"\\n⚠️ Outlier Chegaralari:\")\n",
    "print(f\"Pastki chegara: Q1 - 1.5×IQR = {Q1:.1f} - 1.5×{IQR:.1f} = {lower_bound:.1f} yosh\")\n",
    "print(f\"Yuqori chegara: Q3 + 1.5×IQR = {Q3:.1f} + 1.5×{IQR:.1f} = {upper_bound:.1f} yosh\")\n",
    "\n",
    "# Outlierlarni aniqlash\n",
    "outliers = ages[(ages < lower_bound) | (ages > upper_bound)]\n",
    "print(f\"\\nOutlier yoshlar: {outliers}\")\n",
    "print(f\"Outlier talabalar soni: {len(outliers)} kishi\")"
   ]
  },
  {
   "cell_type": "markdown",
   "id": "689bfa28",
   "metadata": {},
   "source": [
    "## 4-Qadam: Boxplot va G'ayrioddiy Yoshdagi Talabalar"
   ]
  },
  {
   "cell_type": "code",
   "execution_count": null,
   "id": "174567e3",
   "metadata": {},
   "outputs": [],
   "source": [
    "# TODO: Boxplot yaratib, outlierlarni ko'rsating\n",
    "# SIZNING KODINGIZ:\n",
    "\n",
    "\n",
    "# TODO: Outlier talabalarni aniqlang va ularning kurslarini ko'rsating\n",
    "# SIZNING KODINGIZ:"
   ]
  },
  {
   "cell_type": "code",
   "execution_count": null,
   "id": "d443cb0a",
   "metadata": {},
   "outputs": [
    {
     "data": {
      "image/png": "[encoded data removed]",
      "text/plain": [
       "<Figure size 1000x600 with 1 Axes>"
      ]
     },
     "metadata": {},
     "output_type": "display_data"
    },
    {
     "name": "stdout",
     "output_type": "stream",
     "text": [
      "⚠️ OUTLIER TALABALAR TAHLILI:\n",
      "===================================\n",
      "Outlier chegaralar: [14.0, 30.0] yosh\n",
      "👤 35 yosh → Katta yosh\n",
      "👤 40 yosh → Katta yosh\n",
      "\n",
      "📊 Jami outlier: 2 kishi\n"
     ]
    }
   ],
   "source": [
    "# TODO: Boxplot yaratib, outlierlarni ko'rsating\n",
    "plt.figure(figsize=(10, 6))\n",
    "bp = plt.boxplot(ages)\n",
    "# bp['boxes'][0].set_facecolor('lightgreen')\n",
    "\n",
    "# # Quartillarni ko'rsatish\n",
    "# plt.text(1.1, Q1, f'Q1: {Q1:.1f}', fontsize=10, color='blue')\n",
    "# plt.text(1.1, Q2, f'Q2: {Q2:.1f}', fontsize=10, color='green', weight='bold')\n",
    "# plt.text(1.1, Q3, f'Q3: {Q3:.1f}', fontsize=10, color='blue')\n",
    "\n",
    "# plt.title('Talabalar Yoshi - Boxplot Tahlili', fontsize=14)\n",
    "# plt.ylabel('Yosh')\n",
    "# plt.grid(True, alpha=0.3)\n",
    "plt.show()\n",
    "\n",
    "# TODO: Outlier talabalarni aniqlang va ularning kurslarini ko'rsating\n",
    "print(\"⚠️ OUTLIER TALABALAR TAHLILI:\")\n",
    "print(\"=\"*35)\n",
    "\n",
    "outlier_ages = ages[(ages < lower_bound) | (ages > upper_bound)]\n",
    "print(f\"Outlier chegaralar: [{lower_bound:.1f}, {upper_bound:.1f}] yosh\")\n",
    "\n",
    "# Outlier talabalarning kurslarini topish\n",
    "for age in outlier_ages:\n",
    "    idx = np.where(ages == age)[0][0]\n",
    "    course = courses[idx]\n",
    "    print(f\"👤 {age} yosh → {course}\")\n",
    "\n",
    "print(f\"\\n📊 Jami outlier: {len(outlier_ages)} kishi\")"
   ]
  },
  {
   "cell_type": "markdown",
   "id": "d19c2176",
   "metadata": {},
   "source": [
    "## 5-Qadam: Taqdimot Tayyorlash\n",
    "\n",
    "### Quyidagi ma'lumotlarni to'ldiring:"
   ]
  },
  {
   "cell_type": "code",
   "execution_count": null,
   "id": "aedad8e8",
   "metadata": {},
   "outputs": [],
   "source": [
    "print(\"🎯 TAQDIMOT UCHUN XULOSALAR\")\n",
    "print(\"=\"*40)\n",
    "\n",
    "# TODO: Quyidagi bo'shliqlarni to'ldiring\n",
    "print(f\"📊 Ma'lumotlar: {len(ages)} ta talabaning yoshi\")\n",
    "print(f\"👤 Mediana yosh: _____ yosh\")\n",
    "print(f\"📈 IQR (o'rta 50% yosh farqi): _____ yil\")\n",
    "print(f\"⚠️  G'ayrioddiy yosh talabalar: _____ kishi\")\n",
    "print(f\"📚 Ularning kurslari: _____\")\n",
    "print(f\"💡 Asosiy sabab: _____\")\n",
    "print(f\"🏫 Universitet uchun tavsiya: _____\")\n",
    "\n",
    "print(\"\\n🗣️ TAQDIMOT UCHUN GAPLAR:\")\n",
    "print(\"1. Bizning fakultetda talabalarning mediana yoshi _____ yosh\")\n",
    "print(\"2. O'rta 50% talabalarning yosh farqi _____ yil\")\n",
    "print(\"3. _____ ta talaba g'ayrioddiy yoshda, ular _____\")\n",
    "print(\"4. Bu holatlar _____ sababli paydo bo'lgan\")\n",
    "print(\"5. Universitetga tavsiyamiz: _____\")"
   ]
  },
  {
   "cell_type": "markdown",
   "id": "4afe1e4a",
   "metadata": {},
   "source": [
    "## Qo'shimcha Tahlil (Vaqt bo'lsa)\n",
    "\n",
    "### Kurs bo'yicha taqsimlash:"
   ]
  },
  {
   "cell_type": "code",
   "execution_count": null,
   "id": "05b3a5e7",
   "metadata": {},
   "outputs": [],
   "source": [
    "# TODO: Har bir kurs uchun o'rtacha yoshni hisoblang\n",
    "# 1-kurs, 2-kurs, 3-kurs, 4-kurs, Magistr\n",
    "# SIZNING KODINGIZ:\n",
    "\n",
    "\n",
    "# TODO: Qaysi kursda eng katta yosh farqi bor?\n",
    "# SIZNING KODINGIZ:\n",
    "\n",
    "\n",
    "# TODO: Ta'lim tizimi uchun tavsiyalar bering\n",
    "# SIZNING KODINGIZ:"
   ]
  },
  {
   "cell_type": "markdown",
   "id": "9088a46b",
   "metadata": {},
   "source": [
    "---\n",
    "\n",
    "## ✅ Taqdimot Shablon (3 daqiqa)\n",
    "\n",
    "### Guruh rahbari quyidagilarni aytishi kerak:\n",
    "\n",
    "**🔸 Kirish (30 soniya):**\n",
    "\"Biz universitet fakultetidagi 25 ta talabaning yosh taqsimotini tahlil qildik.\"\n",
    "\n",
    "**🔸 Asosiy natijalar (2 daqiqa):**\n",
    "- \"Talabalarning mediana yoshi _____ yosh\"\n",
    "- \"IQR _____ yil, ya'ni o'rta talabalar orasida shuncha yosh farqi bor\"\n",
    "- \"_____ ta g'ayrioddiy yosh talaba topdik\"\n",
    "- \"Ular _____ sabablarga ko'ra katta yoshda\"\n",
    "\n",
    "**🔸 Xulosa (30 soniya):**\n",
    "\"Yosh taqsimoti _____ va g'ayrioddiy holat _____ sababli normal.\"\n",
    "\n",
    "---\n",
    "\n",
    "**📝 Eslatma:** Yoshga oid barcha tahlillar ta'lim kontekstida talqin qiling!"
   ]
  }
 ],
 "metadata": {
  "kernelspec": {
   "display_name": "venv",
   "language": "python",
   "name": "python3"
  },
  "language_info": {
   "codemirror_mode": {
    "name": "ipython",
    "version": 3
   },
   "file_extension": ".py",
   "mimetype": "text/x-python",
   "name": "python",
   "nbconvert_exporter": "python",
   "pygments_lexer": "ipython3",
   "version": "3.13.2"
  }
 },
 "nbformat": 4,
 "nbformat_minor": 5
}
