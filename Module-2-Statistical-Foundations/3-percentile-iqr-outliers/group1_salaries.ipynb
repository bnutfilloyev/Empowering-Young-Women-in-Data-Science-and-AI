{
 "cells": [
  {
   "cell_type": "markdown",
   "id": "e4844082",
   "metadata": {},
   "source": [
    "# 🟦 1-GURUH: Kompaniya Maoshlari Tahlili\n",
    "\n",
    "**Mavzu:** Percentile, IQR va Outlierlar - Maosh Ma'lumotlari\n",
    "\n",
    "**Maqsad:** Kompaniya xodimlarining maosh taqsimotini tahlil qilish orqali percentile va IQR tushunchalarini amaliyotda qo'llash\n",
    "\n",
    "---\n",
    "\n",
    "## Vazifa Tafsiloti:\n",
    "\n",
    "Sizda IT kompaniyasining 20 ta xodimining oylik maoshi haqida ma'lumot bor. Bu ma'lumotlarni tahlil qilib, quyidagilarni aniqlashingiz kerak:\n",
    "\n",
    "1. **Maosh taqsimotining asosiy ko'rsatkichlari**\n",
    "2. **Percentillar va ularning talqini**\n",
    "3. **IQR hisoblash va maoshi**\n",
    "4. **Outlier xodimlarni aniqlash**\n",
    "5. **Kompaniya uchun tavsiyalar**\n",
    "\n",
    "---"
   ]
  },
  {
   "cell_type": "markdown",
   "id": "4e515187",
   "metadata": {},
   "source": [
    "## 1-Qadam: Ma'lumotlarni Tayyorlash"
   ]
  },
  {
   "cell_type": "code",
   "execution_count": 2,
   "id": "3090dd65",
   "metadata": {},
   "outputs": [
    {
     "name": "stdout",
     "output_type": "stream",
     "text": [
      "🏢 IT Kompaniya Maoshlari Tahlili\n",
      "========================================\n",
      "Xodimlar soni: 20\n",
      "Eng kam maosh: 2,500 ming so'm\n",
      "Eng ko'p maosh: 15,000 ming so'm\n",
      "O'rtacha maosh: 5615 ming so'm\n"
     ]
    }
   ],
   "source": [
    "# Kutubxonalarni import qilish\n",
    "import numpy as np\n",
    "import pandas as pd\n",
    "import matplotlib.pyplot as plt\n",
    "import seaborn as sns\n",
    "\n",
    "# Maosh ma'lumotlari (ming so'mda)\n",
    "salaries = np.array([2500, 2800, 3000, 3200, 3500, 3800, 4000, 4200, 4500, 4800,\n",
    "                     5000, 5200, 5500, 5800, 6000, 6500, 7000, 8000, 12000, 15000])\n",
    "\n",
    "# Xodim lavozimlar (ma'lumot uchun)\n",
    "positions = ['Junior Dev', 'Junior Dev', 'Junior Dev', 'Middle Dev', 'Middle Dev', \n",
    "             'Middle Dev', 'Middle Dev', 'Middle Dev', 'Senior Dev', 'Senior Dev',\n",
    "             'Senior Dev', 'Senior Dev', 'Team Lead', 'Team Lead', 'Senior Lead',\n",
    "             'Senior Lead', 'Architect', 'Architect', 'CTO', 'CEO']\n",
    "\n",
    "print(\"🏢 IT Kompaniya Maoshlari Tahlili\")\n",
    "print(\"=\"*40)\n",
    "print(f\"Xodimlar soni: {len(salaries)}\")\n",
    "print(f\"Eng kam maosh: {salaries.min():,} ming so'm\")\n",
    "print(f\"Eng ko'p maosh: {salaries.max():,} ming so'm\")\n",
    "print(f\"O'rtacha maosh: {salaries.mean():.0f} ming so'm\")"
   ]
  },
  {
   "cell_type": "markdown",
   "id": "a1bf5831",
   "metadata": {},
   "source": [
    "## 2-Qadam: Percentillarni Hisoblash"
   ]
  },
  {
   "cell_type": "code",
   "execution_count": 3,
   "id": "106e4345",
   "metadata": {},
   "outputs": [
    {
     "name": "stdout",
     "output_type": "stream",
     "text": [
      "📊 Maosh Percentillari:\n",
      "==============================\n",
      "P25 (25% percentil): 3,725 ming so'm\n",
      "P50 (50% percentil - Mediana): 4,900 ming so'm\n",
      "P75 (75% percentil): 6,125 ming so'm\n",
      "P90 (90% percentil): 8,400 ming so'm\n",
      "\n",
      "💡 Percentillarning Ma'nosi:\n",
      "==============================\n",
      "• Xodimlarning 25% 3,725 ming so'mdan kam maosh oladi\n",
      "• Xodimlarning 50% 4,900 ming so'mdan kam maosh oladi (mediana)\n",
      "• Xodimlarning 75% 6,125 ming so'mdan kam maosh oladi\n",
      "• Xodimlarning 90% 8,400 ming so'mdan kam maosh oladi\n",
      "\n",
      "📋 Boshqacha qilib aytganda:\n",
      "• Eng kam maoshli 25% xodimlar: 2,500 - 3,725 ming so'm\n",
      "• O'rta maoshli 50% xodimlar: 3,725 - 6,125 ming so'm\n",
      "• Eng ko'p maoshli 25% xodimlar: 6,125 - 15,000 ming so'm\n",
      "\n",
      "👥 Lavozimlar va Percentillar:\n",
      "===================================\n",
      "Percentillarga mos keladigan lavozimlar:\n",
      "P25: 3,725 ming so'm ≈ 3,800 ming so'm (Middle Dev)\n",
      "P50: 4,900 ming so'm ≈ 4,800 ming so'm (Senior Dev)\n",
      "P75: 6,125 ming so'm ≈ 6,000 ming so'm (Senior Lead)\n",
      "P90: 8,400 ming so'm ≈ 8,000 ming so'm (Architect)\n",
      "\n",
      "📈 Lavozim guruhlari bo'yicha taqsimot:\n",
      "• P0-P25: Junior Developer darajasi\n",
      "• P25-P50: Middle Developer darajasi\n",
      "• P50-P75: Senior Developer darajasi\n",
      "• P75-P90: Team Lead/Senior Lead darajasi\n",
      "• P90-P100: Executive darajasi (CTO, CEO)\n"
     ]
    }
   ],
   "source": [
    "# TODO: 25%, 50%, 75%, 90% percentillarni hisoblang\n",
    "# Percentillarni hisoblash\n",
    "P25 = np.percentile(salaries, 25)\n",
    "P50 = np.percentile(salaries, 50)  # Mediana\n",
    "P75 = np.percentile(salaries, 75)\n",
    "P90 = np.percentile(salaries, 90)\n",
    "\n",
    "print(\"📊 Maosh Percentillari:\")\n",
    "print(\"=\"*30)\n",
    "print(f\"P25 (25% percentil): {P25:,.0f} ming so'm\")\n",
    "print(f\"P50 (50% percentil - Mediana): {P50:,.0f} ming so'm\")\n",
    "print(f\"P75 (75% percentil): {P75:,.0f} ming so'm\")\n",
    "print(f\"P90 (90% percentil): {P90:,.0f} ming so'm\")\n",
    "\n",
    "# TODO: Har bir percentilning ma'nosini tushuntiring\n",
    "print(\"\\n💡 Percentillarning Ma'nosi:\")\n",
    "print(\"=\"*30)\n",
    "print(f\"• Xodimlarning 25% {P25:,.0f} ming so'mdan kam maosh oladi\")\n",
    "print(f\"• Xodimlarning 50% {P50:,.0f} ming so'mdan kam maosh oladi (mediana)\")\n",
    "print(f\"• Xodimlarning 75% {P75:,.0f} ming so'mdan kam maosh oladi\")\n",
    "print(f\"• Xodimlarning 90% {P90:,.0f} ming so'mdan kam maosh oladi\")\n",
    "\n",
    "print(f\"\\n📋 Boshqacha qilib aytganda:\")\n",
    "print(f\"• Eng kam maoshli 25% xodimlar: {salaries.min():,.0f} - {P25:,.0f} ming so'm\")\n",
    "print(f\"• O'rta maoshli 50% xodimlar: {P25:,.0f} - {P75:,.0f} ming so'm\")\n",
    "print(f\"• Eng ko'p maoshli 25% xodimlar: {P75:,.0f} - {salaries.max():,.0f} ming so'm\")\n",
    "\n",
    "# TODO: Qaysi lavozimlar qaysi percentillarga to'g'ri kelishini aniqlang\n",
    "print(\"\\n👥 Lavozimlar va Percentillar:\")\n",
    "print(\"=\"*35)\n",
    "\n",
    "# Maosh va lavozimlarni birlashtirish\n",
    "salary_position_df = pd.DataFrame({\n",
    "    'Maosh': salaries,\n",
    "    'Lavozim': positions\n",
    "})\n",
    "\n",
    "# Maosh bo'yicha saralash\n",
    "salary_position_df = salary_position_df.sort_values('Maosh')\n",
    "\n",
    "print(\"Percentillarga mos keladigan lavozimlar:\")\n",
    "for percentile, value in [('P25', P25), ('P50', P50), ('P75', P75), ('P90', P90)]:\n",
    "    # Eng yaqin maoshni topish\n",
    "    closest_idx = np.abs(salaries - value).argmin()\n",
    "    closest_salary = salaries[closest_idx]\n",
    "    closest_position = positions[closest_idx]\n",
    "    \n",
    "    print(f\"{percentile}: {value:,.0f} ming so'm ≈ {closest_salary:,.0f} ming so'm ({closest_position})\")\n",
    "\n",
    "print(f\"\\n📈 Lavozim guruhlari bo'yicha taqsimot:\")\n",
    "print(\"• P0-P25: Junior Developer darajasi\")\n",
    "print(\"• P25-P50: Middle Developer darajasi\") \n",
    "print(\"• P50-P75: Senior Developer darajasi\")\n",
    "print(\"• P75-P90: Team Lead/Senior Lead darajasi\")\n",
    "print(\"• P90-P100: Executive darajasi (CTO, CEO)\")"
   ]
  },
  {
   "cell_type": "markdown",
   "id": "0c751bfb",
   "metadata": {},
   "source": [
    "## 3-Qadam: IQR va Quartillar"
   ]
  },
  {
   "cell_type": "code",
   "execution_count": 4,
   "id": "cac15260",
   "metadata": {},
   "outputs": [
    {
     "name": "stdout",
     "output_type": "stream",
     "text": [
      "📊 Quartillar:\n",
      "Q1 (25%): 3,725 ming so'm\n",
      "Q2 (50% - Mediana): 4,900 ming so'm\n",
      "Q3 (75%): 6,125 ming so'm\n",
      "\n",
      "📏 IQR:\n",
      "IQR = Q3 - Q1 = 6,125 - 3,725 = 2,400 ming so'm\n",
      "\n",
      "💡 IQR Ma'nosi:\n",
      "O'rta 50% xodimlarning maoshi 3,725 va 6,125 ming so'm orasida\n",
      "Bu xodimlar orasidagi maosh farqi 2,400 ming so'm\n",
      "\n",
      "⚠️ Outlier Chegaralari:\n",
      "Pastki chegara: Q1 - 1.5×IQR = 3,725 - 1.5×2,400 = 125 ming so'm\n",
      "Yuqori chegara: Q3 + 1.5×IQR = 6,125 + 1.5×2,400 = 9,725 ming so'm\n",
      "\n",
      "Outlier maoshlar: [12000 15000]\n",
      "Outlier soni: 2 ta\n"
     ]
    }
   ],
   "source": [
    "# TODO: Q1, Q2 (mediana), Q3 ni hisoblang\n",
    "Q1 = np.percentile(salaries, 25)\n",
    "Q2 = np.percentile(salaries, 50)  # Mediana\n",
    "Q3 = np.percentile(salaries, 75)\n",
    "\n",
    "print(\"📊 Quartillar:\")\n",
    "print(f\"Q1 (25%): {Q1:,.0f} ming so'm\")\n",
    "print(f\"Q2 (50% - Mediana): {Q2:,.0f} ming so'm\")\n",
    "print(f\"Q3 (75%): {Q3:,.0f} ming so'm\")\n",
    "\n",
    "# TODO: IQR ni hisoblang\n",
    "IQR = Q3 - Q1\n",
    "\n",
    "print(f\"\\n📏 IQR:\")\n",
    "print(f\"IQR = Q3 - Q1 = {Q3:,.0f} - {Q1:,.0f} = {IQR:,.0f} ming so'm\")\n",
    "\n",
    "# TODO: IQR ning ma'nosini tushuntiring\n",
    "print(f\"\\n💡 IQR Ma'nosi:\")\n",
    "print(f\"O'rta 50% xodimlarning maoshi {Q1:,.0f} va {Q3:,.0f} ming so'm orasida\")\n",
    "print(f\"Bu xodimlar orasidagi maosh farqi {IQR:,.0f} ming so'm\")\n",
    "\n",
    "# TODO: Outlier chegaralarini aniqlang (Q1 - 1.5*IQR va Q3 + 1.5*IQR)\n",
    "lower_bound = Q1 - 1.5 * IQR\n",
    "upper_bound = Q3 + 1.5 * IQR\n",
    "\n",
    "print(f\"\\n⚠️ Outlier Chegaralari:\")\n",
    "print(f\"Pastki chegara: Q1 - 1.5×IQR = {Q1:,.0f} - 1.5×{IQR:,.0f} = {lower_bound:,.0f} ming so'm\")\n",
    "print(f\"Yuqori chegara: Q3 + 1.5×IQR = {Q3:,.0f} + 1.5×{IQR:,.0f} = {upper_bound:,.0f} ming so'm\")\n",
    "\n",
    "# Outlierlarni aniqlash\n",
    "outliers = salaries[(salaries < lower_bound) | (salaries > upper_bound)]\n",
    "print(f\"\\nOutlier maoshlar: {outliers}\")\n",
    "print(f\"Outlier soni: {len(outliers)} ta\")"
   ]
  },
  {
   "cell_type": "markdown",
   "id": "1f280185",
   "metadata": {},
   "source": [
    "## 4-Qadam: Boxplot va Outlierlar"
   ]
  },
  {
   "cell_type": "code",
   "execution_count": 5,
   "id": "9bd3d5bf",
   "metadata": {},
   "outputs": [
    {
     "data": {
      "image/png": "[encoded data removed]",
      "text/plain": [
       "<Figure size 1000x600 with 1 Axes>"
      ]
     },
     "metadata": {},
     "output_type": "display_data"
    },
    {
     "name": "stdout",
     "output_type": "stream",
     "text": [
      "⚠️ OUTLIER TAHLILI:\n",
      "==============================\n",
      "Outlier chegaralar: [125, 9,725] ming so'm\n",
      "💰 12,000 ming so'm → CTO\n",
      "💰 15,000 ming so'm → CEO\n",
      "\n",
      " Jami outlier: 2 kishi\n",
      "\n",
      "💡 OUTLIER SABABLARI:\n",
      "=========================\n",
      "🔍 CTO va CEO - rahbarlik lavozimi\n",
      "• Yuqori mas'uliyat va strategik qarorlar\n",
      "• Normal biznes amaliyot\n",
      "• Lavozim ierarxiyasini aks ettiradi\n",
      "\n",
      "⚡ XULOSA: Bu outlierlar normal va saqlanishi kerak\n"
     ]
    }
   ],
   "source": [
    "# TODO: Boxplot yaratib, outlierlarni ko'rsating\n",
    "plt.figure(figsize=(10, 6))\n",
    "bp = plt.boxplot(salaries, patch_artist=True, widths=0.6)\n",
    "bp['boxes'][0].set_facecolor('lightblue')\n",
    "\n",
    "# Quartillarni ko'rsatish\n",
    "plt.text(1.1, Q1, f'Q1: {Q1:,.0f}', fontsize=10, color='blue')\n",
    "plt.text(1.1, Q2, f'Q2: {Q2:,.0f}', fontsize=10, color='green', weight='bold')\n",
    "plt.text(1.1, Q3, f'Q3: {Q3:,.0f}', fontsize=10, color='blue')\n",
    "\n",
    "plt.title('IT Kompaniya Maoshlari - Boxplot Tahlili', fontsize=14)\n",
    "plt.ylabel('Maosh (ming so\\'m)')\n",
    "plt.grid(True, alpha=0.3)\n",
    "plt.show()\n",
    "\n",
    "# TODO: Outlier xodimlarni aniqlang va ularning lavozimlarini ko'rsating\n",
    "print(\"⚠️ OUTLIER TAHLILI:\")\n",
    "print(\"=\"*30)\n",
    "\n",
    "outlier_salaries = salaries[(salaries < lower_bound) | (salaries > upper_bound)]\n",
    "print(f\"Outlier chegaralar: [{lower_bound:,.0f}, {upper_bound:,.0f}] ming so'm\")\n",
    "\n",
    "# Outlier lavozimlarini topish\n",
    "for salary in outlier_salaries:\n",
    "    idx = np.where(salaries == salary)[0][0]\n",
    "    position = positions[idx]\n",
    "    print(f\"💰 {salary:,} ming so'm → {position}\")\n",
    "\n",
    "print(f\"\\n Jami outlier: {len(outlier_salaries)} kishi\")\n",
    "\n",
    "# TODO: Outlierlarning sabablarini tushuntiring\n",
    "print(\"\\n💡 OUTLIER SABABLARI:\")\n",
    "print(\"=\"*25)\n",
    "print(\"🔍 CTO va CEO - rahbarlik lavozimi\")\n",
    "print(\"• Yuqori mas'uliyat va strategik qarorlar\")\n",
    "print(\"• Normal biznes amaliyot\")\n",
    "print(\"• Lavozim ierarxiyasini aks ettiradi\")\n",
    "print(\"\\n⚡ XULOSA: Bu outlierlar normal va saqlanishi kerak\")"
   ]
  },
  {
   "cell_type": "markdown",
   "id": "beb1668f",
   "metadata": {},
   "source": [
    "## 5-Qadam: Taqdimot Tayyorlash\n",
    "\n",
    "### Quyidagi ma'lumotlarni to'ldiring:"
   ]
  },
  {
   "cell_type": "code",
   "execution_count": 6,
   "id": "3ddc401d",
   "metadata": {},
   "outputs": [
    {
     "name": "stdout",
     "output_type": "stream",
     "text": [
      "🎯 TAQDIMOT UCHUN XULOSALAR\n",
      "==============================\n",
      "📊 Xodimlar: 20 kishi\n",
      "💰 Mediana: 4,900 ming so'm\n",
      "📈 IQR: 2,400 ming so'm\n",
      "⚠️ Outlier: 2 kishi (CTO, CEO)\n",
      "💡 Sabab: Rahbarlik lavozimi\n",
      "\n",
      "🗣️ TAQDIMOT GAPLARI:\n",
      "1. Mediana maosh 4,900 ming so'm\n",
      "2. O'rta xodimlar orasida 2,400 ming so'm farq\n",
      "3. 2 ta outlier - CTO va CEO\n",
      "4. Bu normal rahbarlik farqlanishi\n",
      "5. Maosh tuzilishi muvozanatli\n"
     ]
    }
   ],
   "source": [
    "print(\"🎯 TAQDIMOT UCHUN XULOSALAR\")\n",
    "print(\"=\"*30)\n",
    "\n",
    "# TODO: Quyidagi bo'shliqlarni to'ldiring\n",
    "median_salary = Q2\n",
    "iqr_value = IQR\n",
    "outlier_count = len(outliers)\n",
    "\n",
    "print(f\"📊 Xodimlar: {len(salaries)} kishi\")\n",
    "print(f\"💰 Mediana: {median_salary:,.0f} ming so'm\")\n",
    "print(f\"📈 IQR: {iqr_value:,.0f} ming so'm\")\n",
    "print(f\"⚠️ Outlier: {outlier_count} kishi (CTO, CEO)\")\n",
    "print(f\"💡 Sabab: Rahbarlik lavozimi\")\n",
    "\n",
    "print(\"\\n🗣️ TAQDIMOT GAPLARI:\")\n",
    "print(f\"1. Mediana maosh {median_salary:,.0f} ming so'm\")\n",
    "print(f\"2. O'rta xodimlar orasida {iqr_value:,.0f} ming so'm farq\")\n",
    "print(f\"3. {outlier_count} ta outlier - CTO va CEO\")\n",
    "print(f\"4. Bu normal rahbarlik farqlanishi\")\n",
    "print(f\"5. Maosh tuzilishi muvozanatli\")"
   ]
  },
  {
   "cell_type": "markdown",
   "id": "fdb35f0e",
   "metadata": {},
   "source": [
    "## Qo'shimcha Tahlil (Vaqt bo'lsa)\n",
    "\n",
    "### Lavozim bo'yicha guruhlashtirish:"
   ]
  },
  {
   "cell_type": "code",
   "execution_count": null,
   "id": "a0a3f653",
   "metadata": {},
   "outputs": [],
   "source": [
    "# TODO: Har bir lavozim guruhi uchun o'rtacha maoshni hisoblang\n",
    "df = pd.DataFrame({'Maosh': salaries, 'Lavozim': positions})\n",
    "\n",
    "# Lavozim guruhlarini aniqlash\n",
    "def categorize_position(position):\n",
    "    if 'Junior' in position: return 'Junior'\n",
    "    elif 'Middle' in position: return 'Middle'\n",
    "    elif 'Senior' in position: return 'Senior'\n",
    "    elif 'Lead' in position or 'Architect' in position: return 'Lead'\n",
    "    else: return 'Executive'\n",
    "\n",
    "df['Guruh'] = df['Lavozim'].apply(categorize_position)\n",
    "\n",
    "print(\"👥 LAVOZIM GURUHLARI:\")\n",
    "print(\"=\"*25)\n",
    "\n",
    "# Guruh statistikasi\n",
    "for group in ['Junior', 'Middle', 'Senior', 'Lead', 'Executive']:\n",
    "    group_data = df[df['Guruh'] == group]['Maosh']\n",
    "    if len(group_data) > 0:\n",
    "        print(f\"{group}: {len(group_data)} kishi, o'rtacha {group_data.mean():,.0f} ming so'm\")\n",
    "\n",
    "# TODO: Qaysi guruh eng katta maosh farqiga ega?\n",
    "print(f\"\\n🔍 MAOSH FARQLARI:\")\n",
    "for group in ['Junior', 'Middle', 'Senior', 'Lead', 'Executive']:\n",
    "    group_data = df[df['Guruh'] == group]['Maosh']\n",
    "    if len(group_data) > 1:\n",
    "        farq = group_data.max() - group_data.min()\n",
    "        print(f\"{group}: {farq:,.0f} ming so'm farq\")\n",
    "\n",
    "# Qisqa vizualizatsiya\n",
    "plt.figure(figsize=(10, 6))\n",
    "sns.boxplot(data=df, x='Guruh', y='Maosh', palette='Set2')\n",
    "plt.title('Lavozim Guruhlari Bo\\'yicha Maosh', fontsize=14)\n",
    "plt.ylabel('Maosh (ming so\\'m)')\n",
    "plt.xticks(rotation=45)\n",
    "plt.grid(True, alpha=0.3)\n",
    "plt.tight_layout()\n",
    "plt.show()\n",
    "\n",
    "print(\"\\n💡 XULOSA:\")\n",
    "print(\"• Executive - eng yuqori o'rtacha maosh\")\n",
    "print(\"• Junior - eng barqaror maosh\")\n",
    "print(\"• Har guruh mantiqiy taqsimotga ega\")"
   ]
  },
  {
   "cell_type": "markdown",
   "id": "b50f04e6",
   "metadata": {},
   "source": [
    "---\n",
    "\n",
    "## ✅ Taqdimot Shablon (3 daqiqa)\n",
    "\n",
    "### Guruh rahbari quyidagilarni aytishi kerak:\n",
    "\n",
    "**🔸 Kirish (30 soniya):**\n",
    "\"Biz IT kompaniyaning 20 ta xodimining maosh ma'lumotlarini tahlil qildik.\"\n",
    "\n",
    "**🔸 Asosiy natijalar (2 daqiqa):**\n",
    "- \"Mediana maosh _____ ming so'm\"\n",
    "- \"IQR _____ ming so'm, ya'ni o'rta xodimlar orasida shuncha farq bor\"\n",
    "- \"_____ ta outlier topdik - ular _____ lavozimidagi xodimlar\"\n",
    "- \"Bu outlierlar normal, chunki _____\"\n",
    "\n",
    "**🔸 Xulosa (30 soniya):**\n",
    "\"Kompaniyada maosh taqsimoti _____ va outlierlar _____ sababli normal.\"\n",
    "\n",
    "---\n",
    "\n",
    "**📝 Eslatma:** Barcha hisoblar va grafiklar to'g'ri bo'lishi kerak!"
   ]
  }
 ],
 "metadata": {
  "kernelspec": {
   "display_name": "venv",
   "language": "python",
   "name": "python3"
  },
  "language_info": {
   "codemirror_mode": {
    "name": "ipython",
    "version": 3
   },
   "file_extension": ".py",
   "mimetype": "text/x-python",
   "name": "python",
   "nbconvert_exporter": "python",
   "pygments_lexer": "ipython3",
   "version": "3.13.2"
  }
 },
 "nbformat": 4,
 "nbformat_minor": 5
}
