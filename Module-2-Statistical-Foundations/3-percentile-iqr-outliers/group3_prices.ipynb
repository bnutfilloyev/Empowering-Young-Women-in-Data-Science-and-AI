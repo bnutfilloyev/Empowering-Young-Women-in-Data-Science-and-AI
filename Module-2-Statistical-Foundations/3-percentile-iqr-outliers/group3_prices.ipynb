{
 "cells": [
  {
   "cell_type": "markdown",
   "id": "61f3b83b",
   "metadata": {},
   "source": [
    "# 🟨 3-GURUH: Mahsulot Narxlari Tahlili\n",
    "\n",
    "**Mavzu:** Percentile, IQR va Outlierlar - Bozor Narxlari Ma'lumotlari\n",
    "\n",
    "**Vaqt:** 45 daqiqa\n",
    "\n",
    "**Maqsad:** Onlayn do'kon mahsulotlarining narx taqsimotini o'rganish orqali percentile va outlier tushunchalarini biznes kontekstida qo'llash\n",
    "\n",
    "---\n",
    "\n",
    "## Vazifa Tafsiloti:\n",
    "\n",
    "Sizda onlayn do'kondagi 30 ta mahsulotning narxi haqida ma'lumot bor. Bu ma'lumotlarni tahlil qilib, quyidagilarni aniqlashingiz kerak:\n",
    "\n",
    "1. **Narx taqsimotining asosiy xususiyatlari**\n",
    "2. **Percentillar va narx strategiyasidagi ahamiyati**\n",
    "3. **IQR orqali narx oralig'ini belgilash**\n",
    "4. **G'ayrioddiy qimmat/arzon mahsulotlarni aniqlash**\n",
    "5. **Biznes uchun narx strategiyasi tavsiyalari**\n",
    "\n",
    "---"
   ]
  },
  {
   "cell_type": "markdown",
   "id": "c196c9fc",
   "metadata": {},
   "source": [
    "## 1-Qadam: Ma'lumotlarni Tayyorlash (5 daqiqa)"
   ]
  },
  {
   "cell_type": "code",
   "execution_count": 1,
   "id": "d04f647d",
   "metadata": {},
   "outputs": [
    {
     "name": "stdout",
     "output_type": "stream",
     "text": [
      "🛒 Onlayn Do'kon Narxlari Tahlili\n",
      "========================================\n",
      "Mahsulotlar soni: 30\n",
      "Eng arzon: 5 ming so'm\n",
      "Eng qimmat: 1,200 ming so'm\n",
      "O'rtacha narx: 139 ming so'm\n",
      "Narx oralig'i: 1,195 ming so'm\n"
     ]
    }
   ],
   "source": [
    "# Kutubxonalarni import qilish\n",
    "import numpy as np\n",
    "import pandas as pd\n",
    "import matplotlib.pyplot as plt\n",
    "import seaborn as sns\n",
    "\n",
    "# Mahsulot narxlari ma'lumotlari (ming so'mda)\n",
    "prices = np.array([5, 8, 10, 12, 15, 18, 20, 22, 25, 28, 30, 32, 35, 38, 40, \n",
    "                   45, 50, 55, 60, 70, 80, 90, 100, 120, 150, 200, 300, 500, 800, 1200])\n",
    "\n",
    "# Mahsulot kategoriyalari (taxminiy)\n",
    "categories = ['Kichik buyum', 'Kichik buyum', 'Kichik buyum', 'Aksessuar', 'Aksessuar',\n",
    "              'Aksessuar', 'Aksessuar', 'Kiyim', 'Kiyim', 'Kiyim', 'Kiyim', 'Kiyim',\n",
    "              'Oyoq kiyim', 'Oyoq kiyim', 'Oyoq kiyim', 'Oyoq kiyim', 'Sport', 'Sport',\n",
    "              'Sport', 'Elektronika', 'Elektronika', 'Elektronika', 'Elektronika', \n",
    "              'Maishiy texnika', 'Maishiy texnika', 'Premium', 'Premium', 'Hashamatli',\n",
    "              'Hashamatli', 'VIP']\n",
    "\n",
    "print(\"🛒 Onlayn Do'kon Narxlari Tahlili\")\n",
    "print(\"=\"*40)\n",
    "print(f\"Mahsulotlar soni: {len(prices)}\")\n",
    "print(f\"Eng arzon: {prices.min():,} ming so'm\")\n",
    "print(f\"Eng qimmat: {prices.max():,} ming so'm\")\n",
    "print(f\"O'rtacha narx: {prices.mean():.0f} ming so'm\")\n",
    "print(f\"Narx oralig'i: {prices.max() - prices.min():,} ming so'm\")"
   ]
  },
  {
   "cell_type": "markdown",
   "id": "6fe02457",
   "metadata": {},
   "source": [
    "## 2-Qadam: Percentillarni Hisoblash (10 daqiqa)"
   ]
  },
  {
   "cell_type": "code",
   "execution_count": 12,
   "id": "b052f580",
   "metadata": {},
   "outputs": [
    {
     "name": "stdout",
     "output_type": "stream",
     "text": [
      "Mahsulotlarning 25% 22.75 ming so'mdan arzon\n",
      "Mahsulotlarning 50% 42.5 ming so'mdan arzon\n",
      "Mahsulotlarning 75% 97.5 ming so'mdan arzon\n",
      "Mahsulotlarning 90% 320.0000000000003 ming so'mdan arzon\n",
      "Arzon        8\n",
      "O'rtacha    14\n",
      "Qimmat       5\n",
      "Name: count, dtype: int64\n",
      "{'Arzon': (0, 22.75), \"O'rtacha\": (22.75, 97.5), 'Qimmat': (97.5, 320.0000000000003), 'Juda Qimmat': (320.0000000000003, 1200)}\n"
     ]
    }
   ],
   "source": [
    "# TODO: 25%, 50%, 75%, 90% percentillarni hisoblang\n",
    "# SIZNING KODINGIZ:\n",
    "P25 = np.percentile(prices, 25)\n",
    "P50 = np.percentile(prices, 50)\n",
    "P75 = np.percentile(prices, 75)\n",
    "P90 = np.percentile(prices, 90)\n",
    "\n",
    "\n",
    "# TODO: Har bir percentilning biznes kontekstidagi ma'nosini tushuntiring\n",
    "# Masalan: \"Mahsulotlarning 25% {P25} ming so'mdan arzon\"\n",
    "# SIZNING KODINGIZ:\n",
    "\n",
    "print(f\"Mahsulotlarning 25% {P25} ming so'mdan arzon\")\n",
    "print(f\"Mahsulotlarning 50% {P50} ming so'mdan arzon\")\n",
    "print(f\"Mahsulotlarning 75% {P75} ming so'mdan arzon\")\n",
    "print(f\"Mahsulotlarning 90% {P90} ming so'mdan arzon\")\n",
    "\n",
    "\n",
    "\n",
    "# TODO: Narx kategoriyalari bo'yicha taqsimlash qiling\n",
    "# Arzon (0-25%), O'rtacha (25-75%), Qimmat (75-100%)\n",
    "# SIZNING KODINGIZ:\n",
    "\n",
    "price_categories = pd.cut(prices, bins=[0, P25, P75, P90], labels=[\"Arzon\", \"O'rtacha\", \"Qimmat\"])\n",
    "print(price_categories.value_counts())\n",
    "\n",
    "# TODO: Qaysi kategoriya mahsulotlar qaysi narx oralig'ida?\n",
    "# SIZNING KODINGIZ:\n",
    "price_ranges = {\n",
    "    \"Arzon\": (0, P25),\n",
    "    \"O'rtacha\": (P25, P75),\n",
    "    \"Qimmat\": (P75, P90),\n",
    "    \"Juda Qimmat\": (P90, prices.max())\n",
    "}\n",
    "print(price_ranges)\n"
   ]
  },
  {
   "cell_type": "markdown",
   "id": "6b077829",
   "metadata": {},
   "source": [
    "## 3-Qadam: IQR va Outlier (15 daqiqa)"
   ]
  },
  {
   "cell_type": "code",
   "execution_count": null,
   "id": "fa21fe22",
   "metadata": {},
   "outputs": [
    {
     "name": "stdout",
     "output_type": "stream",
     "text": [
      "O'rta 50% mahsulotlarning narxi 22.75 va 97.5 ming so'm orasida\n",
      "Outlier chegaralari: -89.375 va 209.625 ming so'm\n"
     ]
    }
   ],
   "source": [
    "# TODO: Q1, Q2 (mediana), Q3 ni hisoblang\n",
    "# SIZNING KODINGIZ:\n",
    "\n",
    "Q1 = np.percentile(prices, 25)\n",
    "Q2 = np.percentile(prices, 50)\n",
    "Q3 = np.percentile(prices, 75)\n",
    "\n",
    "# TODO: IQR ni hisoblang\n",
    "# SIZNING KODINGIZ:\n",
    "\n",
    "IQR = Q3 - Q1\n",
    "\n",
    "# TODO: IQR ning biznes ma'nosini tushuntiring\n",
    "# \"O'rta 50% mahsulotlarning narxi ___ va ___ ming so'm orasida\"\n",
    "# SIZNING KODINGIZ:\n",
    "\n",
    "print(f\"O'rta 50% mahsulotlarning narxi {Q1} va {Q3} ming so'm orasida\")\n",
    "\n",
    "# TODO: Outlier chegaralarini aniqlang\n",
    "# SIZNING KODINGIZ:\n",
    "\n",
    "lower_bound = Q1 - 1.5 * IQR\n",
    "upper_bound = Q3 + 1.5 * IQR\n",
    "\n",
    "print(f\"Outlier chegaralari: {lower_bound} va {upper_bound} ming so'm\")\n"
   ]
  },
  {
   "cell_type": "markdown",
   "id": "151527d7",
   "metadata": {},
   "source": [
    "## 4-Qadam: Boxplot va G'ayrioddiy Narxli Mahsulotlar (10 daqiqa)"
   ]
  },
  {
   "cell_type": "code",
   "execution_count": null,
   "id": "1187b374",
   "metadata": {},
   "outputs": [],
   "source": [
    "# TODO: Boxplot yaratib, outlierlarni ko'rsating\n",
    "# SIZNING KODINGIZ:\n",
    "\n",
    "\n",
    "# TODO: Outlier mahsulotlarni aniqlang va ularning kategoriyalarini ko'rsating\n",
    "# SIZNING KODINGIZ:\n",
    "\n",
    "\n",
    "# TODO: G'ayrioddiy narxli mahsulotlarning sabablarini muhokama qiling\n",
    "# - Nega ba'zi mahsulotlar juda qimmat?\n",
    "# - Bu normal biznes strategiyasimi?\n",
    "# - Qanday omillar narxga ta'sir qiladi?\n",
    "# SIZNING KODINGIZ:"
   ]
  },
  {
   "cell_type": "markdown",
   "id": "ba8d1a56",
   "metadata": {},
   "source": [
    "## 5-Qadam: Taqdimot Tayyorlash (5 daqiqa)\n",
    "\n",
    "### Quyidagi ma'lumotlarni to'ldiring:"
   ]
  },
  {
   "cell_type": "code",
   "execution_count": null,
   "id": "bad9d9aa",
   "metadata": {},
   "outputs": [],
   "source": [
    "print(\"🎯 TAQDIMOT UCHUN XULOSALAR\")\n",
    "print(\"=\"*40)\n",
    "\n",
    "# TODO: Quyidagi bo'shliqlarni to'ldiring\n",
    "print(f\"📊 Ma'lumotlar: {len(prices)} ta mahsulot narxi\")\n",
    "print(f\"💰 Mediana narx: _____ ming so'm\")\n",
    "print(f\"📈 IQR (o'rta 50% narx farqi): _____ ming so'm\")\n",
    "print(f\"⚠️  G'ayrioddiy narxli mahsulotlar: _____ ta\")\n",
    "print(f\"🏷️  Ularning kategoriyalari: _____\")\n",
    "print(f\"💡 Asosiy sabab: _____\")\n",
    "print(f\"🏪 Do'kon uchun tavsiya: _____\")\n",
    "\n",
    "print(\"\\n🗣️ TAQDIMOT UCHUN GAPLAR:\")\n",
    "print(\"1. Bizning do'konda mahsulotlarning mediana narxi _____ ming so'm\")\n",
    "print(\"2. O'rta 50% mahsulotlarning narx farqi _____ ming so'm\")\n",
    "print(\"3. _____ ta mahsulot g'ayrioddiy narxda, ular _____ kategoriyasida\")\n",
    "print(\"4. Bu narxlar _____ sababli yuqori\")\n",
    "print(\"5. Biznesga tavsiyamiz: _____\")"
   ]
  },
  {
   "cell_type": "markdown",
   "id": "0efa5677",
   "metadata": {},
   "source": [
    "## Qo'shimcha Tahlil (Vaqt bo'lsa)\n",
    "\n",
    "### Kategoriya bo'yicha tahlil:"
   ]
  },
  {
   "cell_type": "code",
   "execution_count": null,
   "id": "319aeb29",
   "metadata": {},
   "outputs": [],
   "source": [
    "# TODO: Har bir kategoriya uchun o'rtacha narxni hisoblang\n",
    "# Kichik buyum, Aksessuar, Kiyim, Elektronika, Premium\n",
    "# SIZNING KODINGIZ:\n",
    "\n",
    "\n",
    "# TODO: Qaysi kategoriyada eng katta narx farqi bor?\n",
    "# SIZNING KODINGIZ:\n",
    "\n",
    "\n",
    "# TODO: Narx strategiyasi uchun tavsiyalar bering\n",
    "# - Qaysi narx oralig'ida ko'proq mahsulot bo'lishi kerak?\n",
    "# - Premium mahsulotlar strategiyasi qanday bo'lishi kerak?\n",
    "# SIZNING KODINGIZ:"
   ]
  },
  {
   "cell_type": "markdown",
   "id": "5ccd1923",
   "metadata": {},
   "source": [
    "---\n",
    "\n",
    "## ✅ Taqdimot Shablon (3 daqiqa)\n",
    "\n",
    "### Guruh rahbari quyidagilarni aytishi kerak:\n",
    "\n",
    "**🔸 Kirish (30 soniya):**\n",
    "\"Biz onlayn do'kondagi 30 ta mahsulotning narx taqsimotini tahlil qildik.\"\n",
    "\n",
    "**🔸 Asosiy natijalar (2 daqiqa):**\n",
    "- \"Mahsulotlarning mediana narxi _____ ming so'm\"\n",
    "- \"IQR _____ ming so'm, ya'ni o'rta mahsulotlar orasida shuncha narx farqi bor\"\n",
    "- \"_____ ta g'ayrioddiy qimmat mahsulot topdik\"\n",
    "- \"Ular _____ kategoriyasiga tegishli va narxi yuqori chunki _____\"\n",
    "\n",
    "**🔸 Xulosa (30 soniya):**\n",
    "\"Narx taqsimoti _____ va premium mahsulotlar _____ strategiyaga mos keladi.\"\n",
    "\n",
    "---\n",
    "\n",
    "**📝 Eslatma:** Barcha tahlillarni biznes kontekstida talqin qiling!"
   ]
  }
 ],
 "metadata": {
  "kernelspec": {
   "display_name": "test",
   "language": "python",
   "name": "python3"
  },
  "language_info": {
   "codemirror_mode": {
    "name": "ipython",
    "version": 3
   },
   "file_extension": ".py",
   "mimetype": "text/x-python",
   "name": "python",
   "nbconvert_exporter": "python",
   "pygments_lexer": "ipython3",
   "version": "3.12.9"
  }
 },
 "nbformat": 4,
 "nbformat_minor": 5
}
