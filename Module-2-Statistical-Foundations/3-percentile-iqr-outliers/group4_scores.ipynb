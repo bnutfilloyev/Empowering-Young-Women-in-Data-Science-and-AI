{
 "cells": [
  {
   "cell_type": "markdown",
   "id": "9b0d8ca9",
   "metadata": {},
   "source": [
    "# 🟪 4-GURUH: Test Natijalari Tahlili\n",
    "\n",
    "**Mavzu:** Percentile, IQR va Outlierlar - Ta'lim Baholash Ma'lumotlari\n",
    "\n",
    "**Vaqt:** 45 daqiqa\n",
    "\n",
    "**Maqsad:** Talabalarning test natijalarini tahlil qilish orqali percentile va outlier tushunchalarini ta'lim baholash kontekstida qo'llash\n",
    "\n",
    "---\n",
    "\n",
    "## Vazifa Tafsiloti:\n",
    "\n",
    "Sizda bitta fandan olingan yakuniy imtihon natijasi (22 ta talaba) haqida ma'lumot bor. Bu ma'lumotlarni tahlil qilib, quyidagilarni aniqlashingiz kerak:\n",
    "\n",
    "1. **Test natijalari taqsimotining xususiyatlari**\n",
    "2. **Percentillar va baholar tizimidagi ahamiyati**\n",
    "3. **IQR orqali talabalar darajasini baholash**\n",
    "4. **G'ayrioddiy yuqori/past natijalar**\n",
    "5. **O'qituvchi va talabalar uchun tavsiyalar**\n",
    "\n",
    "---"
   ]
  },
  {
   "cell_type": "markdown",
   "id": "19c6684b",
   "metadata": {},
   "source": [
    "## 1-Qadam: Ma'lumotlarni Tayyorlash (5 daqiqa)"
   ]
  },
  {
   "cell_type": "code",
   "execution_count": null,
   "id": "0d84730b",
   "metadata": {},
   "outputs": [],
   "source": [
    "# Kutubxonalarni import qilish\n",
    "import numpy as np\n",
    "import pandas as pd\n",
    "import matplotlib.pyplot as plt\n",
    "import seaborn as sns\n",
    "\n",
    "# Test natijalari ma'lumotlari (100 ballik tizim)\n",
    "scores = np.array([45, 52, 58, 62, 65, 68, 70, 72, 75, 78, 80, 82, 85, 87, \n",
    "                   88, 90, 92, 94, 95, 96, 98, 100])\n",
    "\n",
    "# Baho kategoriyalari (5 ballik tizimga o'tkazish uchun)\n",
    "def get_grade(score):\n",
    "    if score >= 90: return \"5 (A'lo)\"\n",
    "    elif score >= 80: return \"4 (Yaxshi)\"\n",
    "    elif score >= 70: return \"3 (Qoniqarli)\"\n",
    "    elif score >= 60: return \"2 (Qoniqarsiz)\"\n",
    "    else: return \"1 (Yomon)\"\n",
    "\n",
    "grades = [get_grade(score) for score in scores]\n",
    "\n",
    "print(\"📊 Test Natijalari Tahlili\")\n",
    "print(\"=\"*35)\n",
    "print(f\"Talabalar soni: {len(scores)}\")\n",
    "print(f\"Eng past ball: {scores.min()} ball\")\n",
    "print(f\"Eng yuqori ball: {scores.max()} ball\")\n",
    "print(f\"O'rtacha ball: {scores.mean():.1f} ball\")\n",
    "print(f\"Ball oralig'i: {scores.max() - scores.min()} ball\")\n",
    "\n",
    "# Baho taqsimoti\n",
    "print(\"\\n📈 Baho taqsimoti:\")\n",
    "unique_grades, counts = np.unique(grades, return_counts=True)\n",
    "for grade, count in zip(unique_grades, counts):\n",
    "    print(f\"  {grade}: {count} talaba\")"
   ]
  },
  {
   "cell_type": "markdown",
   "id": "35d30dfd",
   "metadata": {},
   "source": [
    "## 2-Qadam: Percentillarni Hisoblash (10 daqiqa)"
   ]
  },
  {
   "cell_type": "code",
   "execution_count": null,
   "id": "d708a773",
   "metadata": {},
   "outputs": [],
   "source": [
    "# TODO: 25%, 50%, 75%, 90% percentillarni hisoblang\n",
    "# SIZNING KODINGIZ:\n",
    "\n",
    "\n",
    "# TODO: Har bir percentilning ta'lim kontekstidagi ma'nosini tushuntiring\n",
    "# Masalan: \"Talabalarning 25% {P25} balldan kam olgan\"\n",
    "# SIZNING KODINGIZ:\n",
    "\n",
    "\n",
    "# TODO: Percentillar bo'yicha talabalarni guruhlashtiring\n",
    "# Zaif (0-25%), O'rtacha (25-75%), Kuchli (75-100%)\n",
    "# SIZNING KODINGIZ:\n",
    "\n",
    "\n",
    "# TODO: Har bir guruhdagi talabalar sonini hisoblang\n",
    "# SIZNING KODINGIZ:"
   ]
  },
  {
   "cell_type": "markdown",
   "id": "a22cbf2f",
   "metadata": {},
   "source": [
    "## 3-Qadam: IQR va Quartillar (15 daqiqa)"
   ]
  },
  {
   "cell_type": "code",
   "execution_count": null,
   "id": "d72780f3",
   "metadata": {},
   "outputs": [],
   "source": [
    "# TODO: Q1, Q2 (mediana), Q3 ni hisoblang\n",
    "# SIZNING KODINGIZ:\n",
    "\n",
    "\n",
    "# TODO: IQR ni hisoblang\n",
    "# SIZNING KODINGIZ:\n",
    "\n",
    "\n",
    "# TODO: IQR ning ta'lim ma'nosini tushuntiring\n",
    "# \"O'rta 50% talabalarning balli ___ va ___ ball orasida\"\n",
    "# SIZNING KODINGIZ:\n",
    "\n",
    "\n",
    "# TODO: Outlier chegaralarini aniqlang\n",
    "# SIZNING KODINGIZ:\n",
    "\n",
    "\n",
    "# TODO: Test uchun bu chegaralar mantiqiymi?\n",
    "# (100 ballik tizimda 0 dan past va 100 dan yuqori bo'lishi mumkin emas)\n",
    "# SIZNING KODINGIZ:"
   ]
  },
  {
   "cell_type": "markdown",
   "id": "7602c89b",
   "metadata": {},
   "source": [
    "## 4-Qadam: Boxplot va G'ayrioddiy Natijalar (10 daqiqa)"
   ]
  },
  {
   "cell_type": "code",
   "execution_count": null,
   "id": "72a518fb",
   "metadata": {},
   "outputs": [],
   "source": [
    "# TODO: Boxplot yaratib, outlierlarni ko'rsating\n",
    "# SIZNING KODINGIZ:\n",
    "\n",
    "\n",
    "# TODO: Outlier natijalarni aniqlang va ularning baholarini ko'rsating\n",
    "# SIZNING KODINGIZ:\n",
    "\n",
    "\n",
    "# TODO: G'ayrioddiy natijalarning sabablarini muhokama qiling\n",
    "# - Nega ba'zi talabalar juda yuqori/past ball olgan?\n",
    "# - Bu normal ta'lim jarayonidami?\n",
    "# - O'qituvchi qanday choralar ko'rishi kerak?\n",
    "# SIZNING KODINGIZ:"
   ]
  },
  {
   "cell_type": "markdown",
   "id": "381ba646",
   "metadata": {},
   "source": [
    "## 5-Qadam: Taqdimot Tayyorlash (5 daqiqa)\n",
    "\n",
    "### Quyidagi ma'lumotlarni to'ldiring:"
   ]
  },
  {
   "cell_type": "code",
   "execution_count": null,
   "id": "34f52ec6",
   "metadata": {},
   "outputs": [],
   "source": [
    "print(\"🎯 TAQDIMOT UCHUN XULOSALAR\")\n",
    "print(\"=\"*40)\n",
    "\n",
    "# TODO: Quyidagi bo'shliqlarni to'ldiring\n",
    "print(f\"📊 Ma'lumotlar: {len(scores)} ta talabaning test natijasi\")\n",
    "print(f\"📈 Mediana ball: _____ ball\")\n",
    "print(f\"📏 IQR (o'rta 50% ball farqi): _____ ball\")\n",
    "print(f\"⚠️  G'ayrioddiy natijalar: _____ ta\")\n",
    "print(f\"🎓 Ularning baholari: _____\")\n",
    "print(f\"💡 Asosiy sabab: _____\")\n",
    "print(f\"👨‍🏫 O'qituvchi uchun tavsiya: _____\")\n",
    "\n",
    "print(\"\\n🗣️ TAQDIMOT UCHUN GAPLAR:\")\n",
    "print(\"1. Bizning test natijalarining medianasi _____ ball\")\n",
    "print(\"2. O'rta 50% talabalarning ball farqi _____ ball\")\n",
    "print(\"3. _____ ta talabada g'ayrioddiy natija, ular _____ bahoga ega\")\n",
    "print(\"4. Bu natijalar _____ sababli paydo bo'lgan\")\n",
    "print(\"5. O'qituvchiga tavsiyamiz: _____\")"
   ]
  },
  {
   "cell_type": "markdown",
   "id": "6bd781bc",
   "metadata": {},
   "source": [
    "## Qo'shimcha Tahlil (Vaqt bo'lsa)\n",
    "\n",
    "### Baho tizimi bo'yicha tahlil:"
   ]
  },
  {
   "cell_type": "code",
   "execution_count": null,
   "id": "37dacd3f",
   "metadata": {},
   "outputs": [],
   "source": [
    "# TODO: Har bir baho uchun percentil oralig'ini aniqlang\n",
    "# 5 (90-100), 4 (80-89), 3 (70-79), 2 (60-69), 1 (0-59)\n",
    "# SIZNING KODINGIZ:\n",
    "\n",
    "\n",
    "# TODO: Test qiyinligi haqida xulosa chiqaring\n",
    "# Test oson/qiyin bo'lganmi? Nima asosida?\n",
    "# SIZNING KODINGIZ:\n",
    "\n",
    "\n",
    "# TODO: Ta'lim jarayonini yaxshilash uchun tavsiyalar\n",
    "# - Qaysi mavzularni takrorlash kerak?\n",
    "# - Test tuzishni qanday yaxshilash mumkin?\n",
    "# - Talabalar uchun qanday yordam kerak?\n",
    "# SIZNING KODINGIZ:"
   ]
  },
  {
   "cell_type": "markdown",
   "id": "57bbe8f5",
   "metadata": {},
   "source": [
    "---\n",
    "\n",
    "## ✅ Taqdimot Shablon (3 daqiqa)\n",
    "\n",
    "### Guruh rahbari quyidagilarni aytishi kerak:\n",
    "\n",
    "**🔸 Kirish (30 soniya):**\n",
    "\"Biz 22 ta talabaning test natijalarini tahlil qildik va baholar taqsimotini o'rgandik.\"\n",
    "\n",
    "**🔸 Asosiy natijalar (2 daqiqa):**\n",
    "- \"Test natijalarining medianasi _____ ball\"\n",
    "- \"IQR _____ ball, ya'ni o'rta talabalar orasida shuncha farq bor\"\n",
    "- \"_____ ta g'ayrioddiy natija topdik\"\n",
    "- \"Test umumiy holda _____ darajada (oson/qiyin)\"\n",
    "\n",
    "**🔸 Xulosa (30 soniya):**\n",
    "\"Natijalar _____ va ta'lim jarayonini _____ bo'yicha yaxshilash kerak.\"\n",
    "\n",
    "---\n",
    "\n",
    "**📝 Eslatma:** Barcha xulosalarni ta'lim va baholash kontekstida bering!"
   ]
  }
 ],
 "metadata": {
  "kernelspec": {
   "display_name": "venv",
   "language": "python",
   "name": "python3"
  },
  "language_info": {
   "name": "python",
   "version": "3.13.2"
  }
 },
 "nbformat": 4,
 "nbformat_minor": 5
}
