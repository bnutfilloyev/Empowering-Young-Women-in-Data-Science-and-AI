{
 "cells": [
  {
   "cell_type": "markdown",
   "id": "790e5e67",
   "metadata": {},
   "source": [
    "# 2-Dars: Markaziy Tendentsiya va Tarqalish"
   ]
  },
  {
   "cell_type": "code",
   "execution_count": 1,
   "id": "bb5856be",
   "metadata": {},
   "outputs": [],
   "source": [
    "import pandas as pd\n",
    "import numpy as np"
   ]
  },
  {
   "cell_type": "markdown",
   "id": "0f26f52f",
   "metadata": {},
   "source": [
    "## 2-Qism: Markaziy Tendentsiya\n",
    "\n",
    "### Uchta asosiy ko'rsatkich:\n",
    "1. **O'rtacha (Mean)** - Barcha qiymatlarning o'rtachasi\n",
    "2. **Mediana (Median)** - Saralangan ma'lumotlardagi o'rta qiymat\n",
    "3. **Moda (Mode)** - Eng ko'p uchraydigan qiymat"
   ]
  },
  {
   "cell_type": "markdown",
   "id": "e3f9b882",
   "metadata": {},
   "source": [
    "### 2.1 O'rtacha (Mean)\n",
    "\n",
    "**Ta'rif:** Barcha qiymatlar yig'indisining ularning soniga bo'linmasi\n",
    "\n",
    "**Formula:** O'rtacha = (x₁ + x₂ + ... + xₙ) / n\n",
    "\n",
    "**Qachon ishlatiladi:** Ma'lumotlar normal taqsimlangan va haddan tashqari qiymatlar (outlier) yo'q bo'lganda"
   ]
  },
  {
   "cell_type": "code",
   "execution_count": 2,
   "id": "2d3dd19a",
   "metadata": {},
   "outputs": [
    {
     "name": "stdout",
     "output_type": "stream",
     "text": [
      "Oddiy hisoblash: 88.30\n",
      "NumPy hisoblashi: 88.30\n",
      "Pandas hisoblashi: 88.30\n",
      "\n",
      "Talabalarning o'rtacha bahosi: 88.30\n"
     ]
    }
   ],
   "source": [
    "# Misol: Talaba baholari\n",
    "grades = [85, 92, 78, 96, 88, 91, 84, 89, 93, 87]\n",
    "\n",
    "# 1-usul: Python'ning ichki funksiyasidan foydalanish\n",
    "mean_builtin = sum(grades) / len(grades)\n",
    "print(f\"Oddiy hisoblash: {mean_builtin:.2f}\")\n",
    "\n",
    "# 2-usul: NumPy ishlatish\n",
    "mean_numpy = np.mean(grades)\n",
    "print(f\"NumPy hisoblashi: {mean_numpy:.2f}\")\n",
    "\n",
    "# 3-usul: Pandas ishlatish\n",
    "grades_series = pd.Series(grades)\n",
    "mean_pandas = grades_series.mean()\n",
    "print(f\"Pandas hisoblashi: {mean_pandas:.2f}\")\n",
    "\n",
    "print(f\"\\nTalabalarning o'rtacha bahosi: {mean_numpy:.2f}\")"
   ]
  },
  {
   "cell_type": "markdown",
   "id": "3f2fd4c1",
   "metadata": {},
   "source": [
    "### 2.2 Mediana (Median)\n",
    "\n",
    "**Ta'rif:** Ma'lumotlar tartibga solinganda o'rtada joylashgan qiymat\n",
    "\n",
    "**Hisoblash usuli:**\n",
    "- Agar qiymatlar soni toq bo'lsa: o'rtadagi qiymatni olish\n",
    "- Agar qiymatlar soni juft bo'lsa: o'rtadagi ikki qiymatning o'rtachasini olish\n",
    "\n",
    "**Qachon ishlatiladi:** Ma'lumotlarda haddan tashqari qiymatlar mavjud yoki ma'lumotlar qiyshiq taqsimlangan bo'lganda"
   ]
  },
  {
   "cell_type": "code",
   "execution_count": 3,
   "id": "cc948294",
   "metadata": {},
   "outputs": [
    {
     "name": "stdout",
     "output_type": "stream",
     "text": [
      "Yoshlar (toq son): [25, 30, 35, 40, 45]\n",
      "Saralangan: [25, 30, 35, 40, 45]\n",
      "Mediana: 35.0\n",
      "\n",
      "Yoshlar (juft son): [25, 30, 35, 40, 45, 50]\n",
      "Saralangan: [25, 30, 35, 40, 45, 50]\n",
      "Mediana: 37.5\n",
      "Pandas mediana: 37.5\n"
     ]
    }
   ],
   "source": [
    "# Toq sonli qiymatlar misoli\n",
    "ages_odd = [25, 30, 35, 40, 45]\n",
    "print(f\"Yoshlar (toq son): {ages_odd}\")\n",
    "print(f\"Saralangan: {sorted(ages_odd)}\")\n",
    "print(f\"Mediana: {np.median(ages_odd)}\")\n",
    "\n",
    "# Juft sonli qiymatlar misoli\n",
    "ages_even = [25, 30, 35, 40, 45, 50]\n",
    "print(f\"\\nYoshlar (juft son): {ages_even}\")\n",
    "print(f\"Saralangan: {sorted(ages_even)}\")\n",
    "print(f\"Mediana: {np.median(ages_even)}\")\n",
    "\n",
    "# Pandas ishlatish\n",
    "ages_series = pd.Series(ages_even)\n",
    "print(f\"Pandas mediana: {ages_series.median()}\")"
   ]
  },
  {
   "cell_type": "markdown",
   "id": "e4d6773f",
   "metadata": {},
   "source": [
    "### 2.3 Moda (Mode)\n",
    "\n",
    "**Ta'rif:** Ma'lumotlar to'plamida eng ko'p uchraydigan qiymat\n",
    "\n",
    "**Turlari:**\n",
    "- Bir modal: Bitta moda\n",
    "- Ikki modal: Ikkita moda\n",
    "- Ko'p modal: Ikkitadan ko'p moda\n",
    "\n",
    "**Qachon ishlatiladi:** Kategorik ma'lumotlar uchun yoki eng keng tarqalgan qiymatni topish uchun"
   ]
  },
  {
   "cell_type": "code",
   "execution_count": 4,
   "id": "0a73bab6",
   "metadata": {},
   "outputs": [
    {
     "name": "stdout",
     "output_type": "stream",
     "text": [
      "Ranglar: ['qizil', \"ko'k\", 'qizil', 'yashil', \"ko'k\", 'qizil', 'sariq', \"ko'k\", 'qizil']\n",
      "Moda: qizil\n",
      "\n",
      "Qiymatlar soni:\n",
      "qizil     4\n",
      "ko'k      3\n",
      "yashil    1\n",
      "sariq     1\n",
      "Name: count, dtype: int64\n",
      "\n",
      "Raqamlar: [1, 2, 2, 3, 4, 4, 4, 5]\n",
      "Moda: 4\n"
     ]
    }
   ],
   "source": [
    "# Misol: Sevimli ranglar so'rovi\n",
    "colors = ['qizil', 'ko\\'k', 'qizil', 'yashil', 'ko\\'k', 'qizil', 'sariq', 'ko\\'k', 'qizil']\n",
    "\n",
    "# Pandas ishlatish\n",
    "colors_series = pd.Series(colors)\n",
    "mode_result = colors_series.mode()\n",
    "print(f\"Ranglar: {colors}\")\n",
    "print(f\"Moda: {mode_result.values[0]}\")\n",
    "\n",
    "# Qiymatlar sonini ko'rish\n",
    "print(f\"\\nQiymatlar soni:\")\n",
    "print(colors_series.value_counts())\n",
    "\n",
    "# Raqamli ma'lumotlar misoli\n",
    "numbers = [1, 2, 2, 3, 4, 4, 4, 5]\n",
    "numbers_series = pd.Series(numbers)\n",
    "print(f\"\\nRaqamlar: {numbers}\")\n",
    "print(f\"Moda: {numbers_series.mode().values[0]}\")"
   ]
  },
  {
   "cell_type": "markdown",
   "id": "568c8ccc",
   "metadata": {},
   "source": [
    "### O'rtacha, Mediana va Modani Taqqoslash"
   ]
  },
  {
   "cell_type": "code",
   "execution_count": 5,
   "id": "45b89536",
   "metadata": {},
   "outputs": [
    {
     "name": "stdout",
     "output_type": "stream",
     "text": [
      "Daromad ma'lumotlari: [30000, 32000, 35000, 38000, 40000, 42000, 45000, 180000]\n",
      "O'rtacha: $55,250.00\n",
      "Mediana: $39,000.00\n",
      "Moda: [ 30000  32000  35000  38000  40000  42000  45000 180000]\n",
      "\n",
      "Qaysi ko'rsatkich eng to'g'ri ifodalaydi?\n",
      "Mediana ($39,000.00) ko'proq vakillik qiladi, chunki o'rtacha haddan tashqari qiymat ta'sirida.\n"
     ]
    }
   ],
   "source": [
    "# Misol: Daromad ma'lumotlari (haddan tashqari qiymat bilan)\n",
    "incomes = [30000, 32000, 35000, 38000, 40000, 42000, 45000, 180000]  # Oxirgi qiymat haddan tashqari\n",
    "\n",
    "income_series = pd.Series(incomes)\n",
    "\n",
    "mean_income = income_series.mean()\n",
    "median_income = income_series.median()\n",
    "# Raqamli ma'lumotlarda moda barcha qiymatlar noyob bo'lsa, ma'noga ega bo'lmasligi mumkin\n",
    "mode_income = income_series.mode()\n",
    "\n",
    "print(f\"Daromad ma'lumotlari: {incomes}\")\n",
    "print(f\"O'rtacha: ${mean_income:,.2f}\")\n",
    "print(f\"Mediana: ${median_income:,.2f}\")\n",
    "print(f\"Moda: {mode_income.values if len(mode_income) > 0 else 'Moda yo\\'q (barcha qiymatlar noyob)'}\")\n",
    "\n",
    "print(f\"\\nQaysi ko'rsatkich eng to'g'ri ifodalaydi?\")\n",
    "print(f\"Mediana (${median_income:,.2f}) ko'proq vakillik qiladi, chunki o'rtacha haddan tashqari qiymat ta'sirida.\")"
   ]
  },
  {
   "cell_type": "markdown",
   "id": "858cb365",
   "metadata": {},
   "source": [
    "## 3-Qism: Tarqalish Ko'rsatkichlari\n",
    "\n",
    "### Tarqalish nima?\n",
    "Tarqalish ma'lumot nuqtalarining markaziy tendentsiyadan qanchalik tarqalgan yoki sochilganligini o'lchaydi.\n",
    "\n",
    "Tarqalish ma'lumotlar markaziy qiymatdan qanchalik tarqalganligini ko'rsatadi.\n",
    "\n",
    "### Asosiy ko'rsatkichlar:\n",
    "1. **Diapaz (Range)** - Maksimal va minimal qiymatlar farqi\n",
    "2. **Dispersiya (Variance)** - O'rtachadan kvadratik farqlarning o'rtachasi\n",
    "3. **Standart og'ish (Standard Deviation)** - Dispersiyaning kvadrat ildizi"
   ]
  },
  {
   "cell_type": "markdown",
   "id": "a866eb90",
   "metadata": {},
   "source": [
    "### 3.1 (Range)\n",
    "\n",
    "**Ta'rif:** Maksimal va minimal qiymatlar orasidagi farq\n",
    "\n",
    "**Formula:** Diapaz = Maksimum - Minimum\n",
    "\n",
    "**Afzalliklari:** Hisoblash va tushunish oson\n",
    "**Kamchiliklari:** Haddan tashqari qiymatlarga sezgir"
   ]
  },
  {
   "cell_type": "code",
   "execution_count": 6,
   "id": "0174c758",
   "metadata": {},
   "outputs": [
    {
     "name": "stdout",
     "output_type": "stream",
     "text": [
      "Test natijalari: [65, 70, 75, 80, 85, 90, 95]\n",
      "Minimum: 65\n",
      "Maksimum: 95\n",
      "Diapaz: 30\n",
      "Diapaz (numpy): 30\n",
      "Range (pandas): 30\n"
     ]
    }
   ],
   "source": [
    "# Misol: Test natijalari\n",
    "test_scores = [65, 70, 75, 80, 85, 90, 95]\n",
    "\n",
    "# Diapazni hisoblash\n",
    "score_min = min(test_scores)\n",
    "score_max = max(test_scores)\n",
    "score_range = score_max - score_min\n",
    "\n",
    "print(f\"Test natijalari: {test_scores}\")\n",
    "print(f\"Minimum: {score_min}\")\n",
    "print(f\"Maksimum: {score_max}\")\n",
    "print(f\"Diapaz: {score_range}\")\n",
    "\n",
    "# NumPy ishlatish\n",
    "range_numpy = np.ptp(test_scores)  # ptp = tepalikdan tepalikka\n",
    "print(f\"Diapaz (numpy): {range_numpy}\")\n",
    "\n",
    "# Pandas ishlatish\n",
    "scores_series = pd.Series(test_scores)\n",
    "range_pandas = scores_series.max() - scores_series.min()\n",
    "print(f\"Range (pandas): {range_pandas}\")"
   ]
  },
  {
   "cell_type": "markdown",
   "id": "35e41f02",
   "metadata": {},
   "source": [
    "### 3.2 Dispersiya (Variance)\n",
    "\n",
    "**Ta'rif:** O'rtachadan kvadratik farqlarning o'rtachasi\n",
    "\n",
    "**Formula:** \n",
    "- Aholi dispersiyasi: σ² = Σ(x - μ)² / N\n",
    "- Tanlanma dispersiyasi: s² = Σ(x - x̄)² / (n-1)\n",
    "\n",
    "**Qachon ishlatiladi:** Ma'lumotlarning o'rtacha atrofida qanchalik tarqalganligini tushunish kerak bo'lganda"
   ]
  },
  {
   "cell_type": "code",
   "execution_count": 7,
   "id": "d4656bf7",
   "metadata": {},
   "outputs": [
    {
     "name": "stdout",
     "output_type": "stream",
     "text": [
      "Bo'ylar: [165, 170, 168, 172, 175, 169, 171, 173, 167, 174]\n",
      "O'rtacha bo'y: 170.40 sm\n",
      "\n",
      "O'rtachadan kvadratik farqlar:\n",
      "  165 sm: (165 - 170.40)² = 29.16\n",
      "  170 sm: (170 - 170.40)² = 0.16\n",
      "  168 sm: (168 - 170.40)² = 5.76\n",
      "  172 sm: (172 - 170.40)² = 2.56\n",
      "  175 sm: (175 - 170.40)² = 21.16\n",
      "  169 sm: (169 - 170.40)² = 1.96\n",
      "  171 sm: (171 - 170.40)² = 0.36\n",
      "  173 sm: (173 - 170.40)² = 6.76\n",
      "  167 sm: (167 - 170.40)² = 11.56\n",
      "  174 sm: (174 - 170.40)² = 12.96\n",
      "\n",
      "Dispersiya (qo'lda): 10.27\n",
      "Dispersiya (pandas): 10.27\n",
      "Dispersiya (numpy): 10.27\n"
     ]
    }
   ],
   "source": [
    "# Misol: Talabalar bo'yi (sm)\n",
    "heights = [165, 170, 168, 172, 175, 169, 171, 173, 167, 174]\n",
    "\n",
    "heights_series = pd.Series(heights)\n",
    "mean_height = heights_series.mean()\n",
    "\n",
    "print(f\"Bo'ylar: {heights}\")\n",
    "print(f\"O'rtacha bo'y: {mean_height:.2f} sm\")\n",
    "\n",
    "# Dispersiyani qo'lda hisoblash (tushunish uchun)\n",
    "squared_differences = [(x - mean_height)**2 for x in heights]\n",
    "variance_manual = sum(squared_differences) / (len(heights) - 1)  # Tanlanma dispersiyasi\n",
    "\n",
    "print(f\"\\nO'rtachadan kvadratik farqlar:\")\n",
    "for i, (height, sq_diff) in enumerate(zip(heights, squared_differences)):\n",
    "    print(f\"  {height} sm: ({height} - {mean_height:.2f})² = {sq_diff:.2f}\")\n",
    "\n",
    "print(f\"\\nDispersiya (qo'lda): {variance_manual:.2f}\")\n",
    "\n",
    "# Pandas va numpy ishlatish\n",
    "variance_pandas = heights_series.var()  # Tanlanma dispersiyasi (ddof=1)\n",
    "variance_numpy = np.var(heights, ddof=1)  # Tanlanma dispersiyasi\n",
    "\n",
    "print(f\"Dispersiya (pandas): {variance_pandas:.2f}\")\n",
    "print(f\"Dispersiya (numpy): {variance_numpy:.2f}\")"
   ]
  },
  {
   "cell_type": "markdown",
   "id": "462066b4",
   "metadata": {},
   "source": [
    "### 3.3 Standart Og'ish (Standard Deviation)\n",
    "\n",
    "**Ta'rif:** Dispersiyaning kvadrat ildizi\n",
    "\n",
    "**Formula:** σ = √(dispersiya)\n",
    "\n",
    "**Afzalligi:** Asl ma'lumotlar bilan bir xil o'lchov birligida, talqin qilish osonroq\n",
    "\n",
    "**Qachon ishlatiladi:** Tarqalishning eng ko'p ishlatiladigan ko'rsatkichi"
   ]
  },
  {
   "cell_type": "code",
   "execution_count": 8,
   "id": "262f0ed2",
   "metadata": {},
   "outputs": [
    {
     "name": "stdout",
     "output_type": "stream",
     "text": [
      "Standart og'ish (qo'lda): 3.20 sm\n",
      "Standart og'ish (pandas): 3.20 sm\n",
      "Standart og'ish (numpy): 3.20 sm\n",
      "\n",
      "Talqin:\n",
      "O'rtacha hisobda, talabalar bo'yi o'rtacha bo'y 170.40 sm dan 3.20 sm ga farq qiladi\n",
      "\n",
      "68-95-99.7 Qoidasi (agar ma'lumotlar normal taqsimlangan bo'lsa):\n",
      "68% ma'lumotlar quyidagi oraliqda: 167.20 dan 173.60 sm gacha\n",
      "95% ma'lumotlar quyidagi oraliqda: 163.99 dan 176.81 sm gacha\n",
      "99.7% ma'lumotlar quyidagi oraliqda: 160.79 dan 180.01 sm gacha\n"
     ]
    }
   ],
   "source": [
    "# Bo'ylar misoli bilan davom etamiz\n",
    "std_manual = variance_manual ** 0.5\n",
    "std_pandas = heights_series.std()\n",
    "std_numpy = np.std(heights, ddof=1)\n",
    "\n",
    "print(f\"Standart og'ish (qo'lda): {std_manual:.2f} sm\")\n",
    "print(f\"Standart og'ish (pandas): {std_pandas:.2f} sm\")\n",
    "print(f\"Standart og'ish (numpy): {std_numpy:.2f} sm\")\n",
    "\n",
    "print(f\"\\nTalqin:\")\n",
    "print(f\"O'rtacha hisobda, talabalar bo'yi o'rtacha bo'y {mean_height:.2f} sm dan {std_pandas:.2f} sm ga farq qiladi\")\n",
    "\n",
    "# 68-95-99.7 qoidasi (normal taqsimot uchun)\n",
    "print(f\"\\n68-95-99.7 Qoidasi (agar ma'lumotlar normal taqsimlangan bo'lsa):\")\n",
    "print(f\"68% ma'lumotlar quyidagi oraliqda: {mean_height - std_pandas:.2f} dan {mean_height + std_pandas:.2f} sm gacha\")\n",
    "print(f\"95% ma'lumotlar quyidagi oraliqda: {mean_height - 2*std_pandas:.2f} dan {mean_height + 2*std_pandas:.2f} sm gacha\")\n",
    "print(f\"99.7% ma'lumotlar quyidagi oraliqda: {mean_height - 3*std_pandas:.2f} dan {mean_height + 3*std_pandas:.2f} sm gacha\")"
   ]
  },
  {
   "cell_type": "markdown",
   "id": "e3298576",
   "metadata": {},
   "source": [
    "## 4-Qism: Amaliyot\n",
    "### Real Hayot Ma'lumotlar To'plami Tahlili"
   ]
  },
  {
   "cell_type": "code",
   "execution_count": 9,
   "id": "283f91ab",
   "metadata": {},
   "outputs": [
    {
     "name": "stdout",
     "output_type": "stream",
     "text": [
      "Oylik Sotish Ma'lumotlari:\n",
      "      Oy  Sotish\n",
      "0    Yan   45000\n",
      "1    Fev   52000\n",
      "2    Mar   48000\n",
      "3    Apr   61000\n",
      "4    May   58000\n",
      "5   Iyun   67000\n",
      "6   Iyul   71000\n",
      "7    Avg   69000\n",
      "8    Sen   63000\n",
      "9    Okt   55000\n",
      "10   Noy   49000\n",
      "11   Dek   73000\n",
      "\n",
      "=== MARKAZIY TENDENTSIYA ====\n",
      "O'rtacha: $59,250.00\n",
      "Mediana: $59,500.00\n",
      "Moda: $45,000.00\n",
      "\n",
      "=== TARQALISH ====\n",
      "Diapaz: $28,000.00\n",
      "Dispersiya: $91,477,272.73\n",
      "Standart og'ish: $9,564.38\n",
      "\n",
      "=== UMUMIY STATISTIKA ====\n",
      "count       12.000000\n",
      "mean     59250.000000\n",
      "std       9564.375188\n",
      "min      45000.000000\n",
      "25%      51250.000000\n",
      "50%      59500.000000\n",
      "75%      67500.000000\n",
      "max      73000.000000\n",
      "Name: Sotish, dtype: float64\n"
     ]
    }
   ],
   "source": [
    "# Namunaviy ma'lumotlar to'plami yaratish: Oylik sotish ma'lumotlari\n",
    "monthly_sales = {\n",
    "    'Oy': ['Yan', 'Fev', 'Mar', 'Apr', 'May', 'Iyun', 'Iyul', 'Avg', 'Sen', 'Okt', 'Noy', 'Dek'],\n",
    "    'Sotish': [45000, 52000, 48000, 61000, 58000, 67000, 71000, 69000, 63000, 55000, 49000, 73000]\n",
    "}\n",
    "\n",
    "df_sales = pd.DataFrame(monthly_sales)\n",
    "print(\"Oylik Sotish Ma'lumotlari:\")\n",
    "print(df_sales)\n",
    "\n",
    "# Barcha ko'rsatkichlarni hisoblash\n",
    "sales_data = df_sales['Sotish']\n",
    "\n",
    "print(f\"\\n=== MARKAZIY TENDENTSIYA ====\")\n",
    "print(f\"O'rtacha: ${sales_data.mean():,.2f}\")\n",
    "print(f\"Mediana: ${sales_data.median():,.2f}\")\n",
    "print(f\"Moda: ${sales_data.mode().values[0]:,.2f}\" if len(sales_data.mode()) > 0 else \"Moda yo'q\")\n",
    "\n",
    "print(f\"\\n=== TARQALISH ====\")\n",
    "print(f\"Diapaz: ${sales_data.max() - sales_data.min():,.2f}\")\n",
    "print(f\"Dispersiya: ${sales_data.var():,.2f}\")\n",
    "print(f\"Standart og'ish: ${sales_data.std():,.2f}\")\n",
    "\n",
    "# Pandas yordamida umumiy statistika\n",
    "print(f\"\\n=== UMUMIY STATISTIKA ====\")\n",
    "print(sales_data.describe())"
   ]
  },
  {
   "cell_type": "markdown",
   "id": "e10e3952",
   "metadata": {},
   "source": [
    "## 5-Qism: Amaliyot\n",
    "### Individual Amaliy Vazifa\n",
    "\n",
    "**Vazifa:** Quyidagi talaba imtihon baholarini tahlil qiling va biz o'rgangan barcha ko'rsatkichlarni hisoblang.\n",
    "\n",
    "**Ma'lumotlar:** [78, 85, 92, 76, 88, 94, 82, 79, 91, 86, 83, 89, 77, 90, 84]"
   ]
  },
  {
   "cell_type": "code",
   "execution_count": null,
   "id": "dfc37de8",
   "metadata": {},
   "outputs": [],
   "source": [
    "# Talabalar amaliyot maydoni\n",
    "exam_scores = [78, 85, 92, 76, 88, 94, 82, 79, 91, 86, 83, 89, 77, 90, 84]\n",
    "\n",
    "# TODO: Quyidagilarni hisoblang:\n",
    "# 1. O'rtacha\n",
    "# 2. Mediana  \n",
    "# 3. Moda\n",
    "# 4. Range\n",
    "# 5. Dispersiya\n",
    "# 6. Standart og'ish\n",
    "\n",
    "# Kodingizni shu yerga yozing:\n"
   ]
  }
 ],
 "metadata": {
  "kernelspec": {
   "display_name": "venv",
   "language": "python",
   "name": "python3"
  },
  "language_info": {
   "codemirror_mode": {
    "name": "ipython",
    "version": 3
   },
   "file_extension": ".py",
   "mimetype": "text/x-python",
   "name": "python",
   "nbconvert_exporter": "python",
   "pygments_lexer": "ipython3",
   "version": "3.13.2"
  }
 },
 "nbformat": 4,
 "nbformat_minor": 5
}
