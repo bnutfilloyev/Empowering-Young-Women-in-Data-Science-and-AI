{
 "cells": [
  {
   "cell_type": "markdown",
   "id": "f3c0495e",
   "metadata": {},
   "source": [
    "# Uyga vazifa: Ehtimollik va taqsimotlar\n",
    "\n",
    "**Topshiriq muddati:** 1 hafta  \n",
    "**Baholash:** 100 ball\n",
    "\n",
    "Bu uyga vazifada siz ehtimollik taqsimotlari bilan mustaqil ishlaysiz va o'rganilgan bilimlarni amaliyotga qo'llaysiz.\n",
    "\n",
    "## Topshiriq talablari:\n",
    "1. Har bir masala uchun kod yozing\n",
    "2. Grafiklar chizing va ularni tahlil qiling\n",
    "3. Natijalarni yozma tarzda tushuntiring\n",
    "4. Xulosa qisimini yozing\n",
    "\n",
    "---"
   ]
  },
  {
   "cell_type": "code",
   "execution_count": null,
   "id": "7f2bb7cf",
   "metadata": {},
   "outputs": [],
   "source": [
    "# Kerakli kutubxonalarni import qiling\n",
    "import numpy as np\n",
    "import pandas as pd\n",
    "import matplotlib.pyplot as plt\n",
    "import seaborn as sns\n",
    "from scipy import stats\n",
    "import warnings\n",
    "warnings.filterwarnings('ignore')\n",
    "\n",
    "# Grafik sozlamalari\n",
    "sns.set(style=\"whitegrid\")\n",
    "plt.rcParams['figure.figsize'] = (10, 6)"
   ]
  },
  {
   "cell_type": "markdown",
   "id": "32e6a139",
   "metadata": {},
   "source": [
    "## Masala 1: Normal taqsimot tahlili (25 ball)\n",
    "\n",
    "**Vazifa:** $\\mu=0$, $\\sigma=5$ bo'lgan normal taqsimotdan 3000 ta son generatsiya qiling.\n",
    "\n",
    "**Bajariladigan ishlar:**\n",
    "1. Histogramma va zichlik grafigini chizing (5 ball)\n",
    "2. Sample mean va sample standard deviation hisoblang (5 ball)\n",
    "3. 68-95-99.7 qoidasini tekshiring va natijalarni jadval ko'rinishida taqdim eting (10 ball)\n",
    "4. Q-Q plot orqali normallikni tekshiring (5 ball)\n",
    "\n",
    "**Sizning yechimingiz:**"
   ]
  },
  {
   "cell_type": "code",
   "execution_count": null,
   "id": "b13aec74",
   "metadata": {},
   "outputs": [],
   "source": [
    "# Masala 1 yechimi\n",
    "# Bu yerga kodingizni yozing\n"
   ]
  },
  {
   "cell_type": "markdown",
   "id": "8f9f339a",
   "metadata": {},
   "source": [
    "## Masala 2: Binomial taqsimot va real masala (25 ball)\n",
    "\n",
    "**Vazifa:** Onlayn imtihonda har bir savol uchun to'g'ri javob berish ehtimolligi 0.4. Imtihonda 25 ta savol bor.\n",
    "\n",
    "**Bajariladigan ishlar:**\n",
    "1. Binomial taqsimot uchun PMF va CDF grafiklarini chizing (8 ball)\n",
    "2. O'rtacha va dispersiyani hisoblang (5 ball)\n",
    "3. 15 yoki undan ko'p to'g'ri javob berish ehtimolligini toping (7 ball)\n",
    "4. 1000 marta imtihon simulatsiyasini o'tkazing va natijalarni tahlil qiling (5 ball)\n",
    "\n",
    "**Sizning yechimingiz:**"
   ]
  },
  {
   "cell_type": "code",
   "execution_count": null,
   "id": "c39e03e5",
   "metadata": {},
   "outputs": [],
   "source": [
    "# Masala 2 yechimi\n",
    "# Bu yerga kodingizni yozing"
   ]
  },
  {
   "cell_type": "markdown",
   "id": "5b8b7ec8",
   "metadata": {},
   "source": [
    "## Masala 3: Uniform taqsimot va Monte Carlo (25 ball)\n",
    "\n",
    "**Vazifa:** $a=1$, $b=7$ bo'lgan uniform taqsimotdan foydalaning.\n",
    "\n",
    "**Bajariladigan ishlar:**\n",
    "1. 1500 ta tasodifiy son generatsiya qiling va histogrammasini chizing (5 ball)\n",
    "2. Nazariy va amaliy o'rtacha, dispersiyani taqqoslang (5 ball)\n",
    "3. [2.5, 5.5] oralig'idagi qiymatlar foizini hisoblang (5 ball)\n",
    "4. Monte Carlo usuli bilan y = x² funksiyasi ostidagi yuzani [1, 3] oraliqda hisoblang (10 ball)\n",
    "\n",
    "**Sizning yechimingiz:**"
   ]
  },
  {
   "cell_type": "code",
   "execution_count": null,
   "id": "85779397",
   "metadata": {},
   "outputs": [],
   "source": [
    "# Masala 3 yechimi\n",
    "# Bu yerga kodingizni yozing"
   ]
  },
  {
   "cell_type": "markdown",
   "id": "143a17c1",
   "metadata": {},
   "source": [
    "## Masala 4: Eksponensial taqsimot va real masala (25 ball)\n",
    "\n",
    "**Vazifa:** Server'da ma'lumotlarni qayta ishlash vaqti $\\lambda=1.5$ bo'lgan eksponensial taqsimot bilan modellanadi.\n",
    "\n",
    "**Bajariladigan ishlar:**\n",
    "1. 2000 ta tasodifiy vaqt generatsiya qiling va histogrammasini chizing (5 ball)\n",
    "2. O'rtacha qayta ishlash vaqti va dispersiyani hisoblang (5 ball)\n",
    "3. 2 sekunddan ko'p vaqt ketish ehtimolligini toping (5 ball)\n",
    "4. Xotirasizsiz xususiyatni namoyish eting: P(X > 3 | X > 1) = P(X > 2) (5 ball)\n",
    "5. 10 soat davomida server nechta vazifani bajarishi mumkinligini baholang (5 ball)\n",
    "\n",
    "**Sizning yechimingiz:**"
   ]
  },
  {
   "cell_type": "code",
   "execution_count": null,
   "id": "809bffa9",
   "metadata": {},
   "outputs": [],
   "source": [
    "# Masala 4 yechimi\n",
    "# Bu yerga kodingizni yozing"
   ]
  },
  {
   "cell_type": "markdown",
   "id": "c5611bee",
   "metadata": {},
   "source": [
    "## Xulosa va tahlil\n",
    "\n",
    "**Bu qismda quyidagilarni yozing:**\n",
    "\n",
    "1. **Har bir taqsimotning xususiyatlari:** Normal, Binomial, Uniform va Eksponensial taqsimotlarning asosiy farqlari va o'xshashliklari haqida yozing.\n",
    "\n",
    "2. **Real hayotda qo'llanilishi:** Har bir taqsimot qanday real vaziyatlarda ishlatilishini misol bilan tushuntiring.\n",
    "\n",
    "3. **Eng qiziq natija:** Siz uchun eng hayratlanarli yoki qiziq bo'lgan natijani ta'kidlang.\n",
    "\n",
    "4. **Qiyinchiliklar:** Qaysi qismlar qiyin bo'ldi va qanday hal qildingiz?\n",
    "\n",
    "**Sizning xulosangiz:**"
   ]
  },
  {
   "cell_type": "markdown",
   "id": "62dee8f6",
   "metadata": {},
   "source": [
    "**Bu yerga xulosangizni yozing:**\n",
    "\n",
    "<!-- Sizning fikrlaringiz -->"
   ]
  }
 ],
 "metadata": {
  "kernelspec": {
   "display_name": "venv",
   "language": "python",
   "name": "python3"
  },
  "language_info": {
   "name": "python",
   "version": "3.13.2"
  }
 },
 "nbformat": 4,
 "nbformat_minor": 5
}
