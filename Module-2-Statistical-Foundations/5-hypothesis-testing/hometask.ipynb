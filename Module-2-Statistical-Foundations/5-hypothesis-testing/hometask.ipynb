{
 "cells": [
  {
   "cell_type": "markdown",
   "id": "3b66e05b",
   "metadata": {},
   "source": [
    "# Hipoteza testi - Uyga vazifa\n",
    "\n",
    "**Talaba ismi**: _________________  \n",
    "**Guruh**: _________________  \n",
    "**Sana**: _________________\n",
    "\n",
    "## Yo'riqnoma\n",
    "- Har bir masala uchun to'liq yechim bering\n",
    "- Hipotezalarni aniq yozing\n",
    "- Hisoblashlarni ko'rsating\n",
    "- Xulosa chiqaring\n",
    "- Kodlarni izohlab yozing"
   ]
  },
  {
   "cell_type": "code",
   "execution_count": null,
   "id": "e8a2da2c",
   "metadata": {},
   "outputs": [],
   "source": [
    "# Kerakli kutubxonalar\n",
    "import numpy as np\n",
    "import pandas as pd\n",
    "import matplotlib.pyplot as plt\n",
    "import seaborn as sns\n",
    "from scipy import stats\n",
    "from scipy.stats import norm, t, chi2\n",
    "\n",
    "plt.style.use('seaborn-v0_8')\n",
    "plt.rcParams['figure.figsize'] = (10, 6)\n",
    "np.random.seed(42)"
   ]
  },
  {
   "cell_type": "markdown",
   "id": "294959d4",
   "metadata": {},
   "source": [
    "## Masala 1: Z-test (15 ball)\n",
    "\n",
    "Shahar transport tizimida avtobuslarning kechikishi o'rtacha 5 daqiqa deyiladi (σ = 2 daqiqa). \n",
    "Yangi boshqaruv tizimi joriy etilgandan keyin 36 ta avtobusni kuzatishda o'rtacha kechikish 4.2 daqiqa bo'ldi.\n",
    "\n",
    "**Savol**: Yangi tizim avtobuslar kechikishini kamaytiradimi? (α = 0.05)\n",
    "\n",
    "### a) Hipotezalarni yozing (3 ball)"
   ]
  },
  {
   "cell_type": "markdown",
   "id": "6b3dc894",
   "metadata": {},
   "source": [
    "**Sizning javobingiz:**\n",
    "\n",
    "H₀: \n",
    "\n",
    "H₁: \n",
    "\n",
    "α = "
   ]
  },
  {
   "cell_type": "markdown",
   "id": "10e33969",
   "metadata": {},
   "source": [
    "### b) Test statistikani hisoblang (5 ball)"
   ]
  },
  {
   "cell_type": "code",
   "execution_count": null,
   "id": "01b1d2ca",
   "metadata": {},
   "outputs": [],
   "source": [
    "# Ma'lumotlar\n",
    "mu_0 = 5      # Population mean\n",
    "sigma = 2     # Population std\n",
    "x_bar = 4.2   # Sample mean\n",
    "n = 36        # Sample size\n",
    "alpha = 0.05\n",
    "\n",
    "# Z-score ni hisoblang\n",
    "z_score = # sizning kodingiz\n",
    "\n",
    "print(f\"Z-score = {z_score:.3f}\")"
   ]
  },
  {
   "cell_type": "markdown",
   "id": "5ed6f861",
   "metadata": {},
   "source": [
    "### c) p-qiymat va critical value ni toping (4 ball)"
   ]
  },
  {
   "cell_type": "code",
   "execution_count": null,
   "id": "1ad8932d",
   "metadata": {},
   "outputs": [],
   "source": [
    "# p-qiymat (bir tomonlama test)\n",
    "p_value = # sizning kodingiz\n",
    "\n",
    "# Critical value (bir tomonlama test uchun)\n",
    "critical_value = # sizning kodingiz\n",
    "\n",
    "print(f\"p-qiymat = {p_value:.4f}\")\n",
    "print(f\"Critical value = {critical_value:.3f}\")"
   ]
  },
  {
   "cell_type": "markdown",
   "id": "7fd4ffbe",
   "metadata": {},
   "source": [
    "### d) Xulosa chiqaring (3 ball)"
   ]
  },
  {
   "cell_type": "code",
   "execution_count": null,
   "id": "697d7aef",
   "metadata": {},
   "outputs": [],
   "source": [
    "# Xulosa\n",
    "print(\"XULOSA:\")\n",
    "if p_value < alpha:\n",
    "    print(\"✅ Null hipotezani rad etamiz\")\n",
    "    print(\"   Yangi tizim kechikishni kamaytirdi\")\n",
    "else:\n",
    "    print(\"❌ Null hipotezani rad eta olmaymiz\")\n",
    "    print(\"   Yangi tizimning ta'siri isbotlanmadi\")"
   ]
  },
  {
   "cell_type": "markdown",
   "id": "e36b275a",
   "metadata": {},
   "source": [
    "## Masala 2: T-test (20 ball)\n",
    "\n",
    "Yangi o'qitish metodikasi bilan talabalar matematikadan yuqori ball oladi deyiladi.\n",
    "Eski metodika bilan o'rtacha ball 75 edi.\n",
    "Yangi metodika bilan 12 talabaning natijalari: [78, 82, 76, 85, 79, 83, 77, 81, 80, 84, 79, 86]\n",
    "\n",
    "**Savol**: Yangi metodika samaralimi? (α = 0.01)\n",
    "\n",
    "### a) Hipotezalar va ma'lumotlar tahlili (5 ball)"
   ]
  },
  {
   "cell_type": "code",
   "execution_count": null,
   "id": "b6598b4b",
   "metadata": {},
   "outputs": [],
   "source": [
    "# Ma'lumotlar\n",
    "data = [78, 82, 76, 85, 79, 83, 77, 81, 80, 84, 79, 86]\n",
    "mu_0 = 75     # Eski metodika o'rtacha\n",
    "alpha = 0.01\n",
    "\n",
    "print(\"Hipotezalar:\")\n",
    "print(\"H₀: μ = 75 (yangi metodika ta'siri yo'q)\")\n",
    "print(\"H₁: μ > 75 (yangi metodika yaxshiroq)\")\n",
    "print(f\"α = {alpha}\")\n",
    "\n",
    "# Sample statistikalar\n",
    "n = # sizning kodingiz\n",
    "x_bar = # sizning kodingiz \n",
    "s = # sizning kodingiz\n",
    "\n",
    "print(f\"\\nSample size (n) = {n}\")\n",
    "print(f\"Sample mean = {x_bar:.2f}\")\n",
    "print(f\"Sample std = {s:.2f}\")"
   ]
  },
  {
   "cell_type": "markdown",
   "id": "a7f5fcb9",
   "metadata": {},
   "source": [
    "### b) T-test hisoblash (8 ball)"
   ]
  },
  {
   "cell_type": "code",
   "execution_count": null,
   "id": "8530374e",
   "metadata": {},
   "outputs": [],
   "source": [
    "# T-score hisoblash\n",
    "t_score = # sizning kodingiz\n",
    "df = # degrees of freedom\n",
    "\n",
    "print(f\"T-score = {t_score:.3f}\")\n",
    "print(f\"Degrees of freedom = {df}\")\n",
    "\n",
    "# p-qiymat (bir tomonlama test)\n",
    "p_value = # sizning kodingiz\n",
    "\n",
    "# Critical value\n",
    "critical_value = # sizning kodingiz\n",
    "\n",
    "print(f\"p-qiymat = {p_value:.4f}\")\n",
    "print(f\"Critical value = {critical_value:.3f}\")\n",
    "\n",
    "# Scipy bilan tekshirish\n",
    "t_stat, p_val = stats.ttest_1samp(data, mu_0)\n",
    "p_val_one_sided = p_val / 2  # Bir tomonlama uchun\n",
    "print(f\"\\nScipy natijasi: t = {t_stat:.3f}, p (bir tomonlama) = {p_val_one_sided:.4f}\")"
   ]
  },
  {
   "cell_type": "markdown",
   "id": "ab191bea",
   "metadata": {},
   "source": [
    "### c) Vizualizatsiya (4 ball)"
   ]
  },
  {
   "cell_type": "code",
   "execution_count": null,
   "id": "69243e08",
   "metadata": {},
   "outputs": [],
   "source": [
    "# Ma'lumotlarni vizualizatsiya qiling\n",
    "fig, (ax1, ax2) = plt.subplots(1, 2, figsize=(14, 5))\n",
    "\n",
    "# Histogram\n",
    "ax1.hist(data, bins=6, alpha=0.7, color='lightgreen', edgecolor='black')\n",
    "ax1.axvline(x_bar, color='red', linestyle='--', linewidth=2, label=f'Sample mean = {x_bar:.1f}')\n",
    "ax1.axvline(mu_0, color='orange', linestyle='-', linewidth=2, label=f'Old mean = {mu_0}')\n",
    "ax1.set_xlabel('Ball')\n",
    "ax1.set_ylabel('Chastota')\n",
    "ax1.set_title('Talabalar ballari')\n",
    "ax1.legend()\n",
    "ax1.grid(True, alpha=0.3)\n",
    "\n",
    "# T-distribution\n",
    "x = np.linspace(-4, 6, 1000)\n",
    "y = t.pdf(x, df)\n",
    "\n",
    "ax2.plot(x, y, 'b-', linewidth=2, label=f't-distribution (df={df})')\n",
    "ax2.axvline(t_score, color='red', linestyle='--', linewidth=2, label=f'T-score = {t_score:.3f}')\n",
    "ax2.axvline(critical_value, color='orange', linestyle=':', linewidth=2, label=f'Critical = {critical_value:.3f}')\n",
    "\n",
    "# Critical region (bir tomonlama)\n",
    "x_critical = x[x >= critical_value]\n",
    "y_critical = t.pdf(x_critical, df)\n",
    "ax2.fill_between(x_critical, y_critical, alpha=0.3, color='red', label='Rad etish sohasi')\n",
    "\n",
    "ax2.set_xlabel('T-score')\n",
    "ax2.set_ylabel('Ehtimollik zichligi')\n",
    "ax2.set_title('T-test (bir tomonlama)')\n",
    "ax2.legend()\n",
    "ax2.grid(True, alpha=0.3)\n",
    "\n",
    "plt.tight_layout()\n",
    "plt.show()"
   ]
  },
  {
   "cell_type": "markdown",
   "id": "3ae36c17",
   "metadata": {},
   "source": [
    "### d) Xulosa (3 ball)"
   ]
  },
  {
   "cell_type": "markdown",
   "id": "6ccfeb21",
   "metadata": {},
   "source": [
    "**Sizning xulosa:**\n",
    "\n",
    "(Bu yerda yozma xulosa bering)"
   ]
  },
  {
   "cell_type": "markdown",
   "id": "6b61a9a5",
   "metadata": {},
   "source": [
    "## Masala 3: Chi-square independence test (25 ball)\n",
    "\n",
    "Universitet talabalari uchun ish tanlovi jinsiga bog'liqmi?\n",
    "200 talabaning so'rovi natijalari:\n",
    "\n",
    "| Jins | IT | Biznes | Tibbiyot |\n",
    "|------|----|---------|---------|\n",
    "| Erkak | 45 | 25 | 30 |\n",
    "| Ayol | 35 | 35 | 30 |\n",
    "\n",
    "### a) Hipotezalar va contingency table (5 ball)"
   ]
  },
  {
   "cell_type": "code",
   "execution_count": null,
   "id": "4e5fefef",
   "metadata": {},
   "outputs": [],
   "source": [
    "# Contingency table yaratish\n",
    "data = {\n",
    "    'IT': [45, 35],\n",
    "    'Biznes': [25, 35],\n",
    "    'Tibbiyot': [30, 30]\n",
    "}\n",
    "\n",
    "contingency_table = pd.DataFrame(data, index=['Erkak', 'Ayol'])\n",
    "\n",
    "print(\"CHI-SQUARE INDEPENDENCE TEST\")\n",
    "print(\"=\" * 30)\n",
    "print(\"Contingency table:\")\n",
    "print(contingency_table)\n",
    "\n",
    "print(\"\\nHipotezalar:\")\n",
    "print(\"H₀: Jins va kasb tanlovi mustaqil\")\n",
    "print(\"H₁: Jins va kasb tanlovi bog'langan\")\n",
    "print(\"α = 0.05\")"
   ]
  },
  {
   "cell_type": "markdown",
   "id": "8cd16607",
   "metadata": {},
   "source": [
    "### b) Chi-square test hisoblash (10 ball)"
   ]
  },
  {
   "cell_type": "code",
   "execution_count": null,
   "id": "dbae3509",
   "metadata": {},
   "outputs": [],
   "source": [
    "# Chi-square test\n",
    "chi2_stat, p_value, dof, expected = # sizning kodingiz\n",
    "\n",
    "alpha = 0.05\n",
    "critical_value = # sizning kodingiz\n",
    "\n",
    "print(f\"Chi-square statistic = {chi2_stat:.4f}\")\n",
    "print(f\"p-value = {p_value:.4f}\")\n",
    "print(f\"Degrees of freedom = {dof}\")\n",
    "print(f\"Critical value = {critical_value:.4f}\")\n",
    "\n",
    "print(f\"\\nKutilgan chastotalar:\")\n",
    "expected_df = pd.DataFrame(expected, \n",
    "                          index=contingency_table.index, \n",
    "                          columns=contingency_table.columns)\n",
    "print(expected_df.round(2))"
   ]
  },
  {
   "cell_type": "markdown",
   "id": "089d292b",
   "metadata": {},
   "source": [
    "### c) Effect size (Cramer's V) (5 ball)"
   ]
  },
  {
   "cell_type": "code",
   "execution_count": null,
   "id": "632bf7d8",
   "metadata": {},
   "outputs": [],
   "source": [
    "# Cramer's V hisoblash\n",
    "n = # jami kuzatuvlar\n",
    "cramers_v = # Cramer's V formula\n",
    "\n",
    "print(f\"Jami kuzatuvlar = {n}\")\n",
    "print(f\"Cramer's V = {cramers_v:.4f}\")\n",
    "\n",
    "# Interpretation\n",
    "if cramers_v < 0.1:\n",
    "    effect_size = \"Juda kichik\"\n",
    "elif cramers_v < 0.3:\n",
    "    effect_size = \"Kichik\" \n",
    "elif cramers_v < 0.5:\n",
    "    effect_size = \"O'rta\"\n",
    "else:\n",
    "    effect_size = \"Katta\"\n",
    "    \n",
    "print(f\"Effect size: {effect_size} bog'lanish\")"
   ]
  },
  {
   "cell_type": "markdown",
   "id": "8a030cc9",
   "metadata": {},
   "source": [
    "### d) Vizualizatsiya va xulosa (5 ball)"
   ]
  },
  {
   "cell_type": "code",
   "execution_count": null,
   "id": "9745629a",
   "metadata": {},
   "outputs": [],
   "source": [
    "# Vizualizatsiya\n",
    "fig, (ax1, ax2) = plt.subplots(1, 2, figsize=(15, 6))\n",
    "\n",
    "# Heatmap\n",
    "sns.heatmap(contingency_table, annot=True, fmt='d', cmap='Blues', ax=ax1)\n",
    "ax1.set_title('Kuzatilgan chastotalar')\n",
    "\n",
    "# Chi-square distribution\n",
    "x = np.linspace(0, 10, 1000)\n",
    "y = chi2.pdf(x, dof)\n",
    "\n",
    "ax2.plot(x, y, 'b-', linewidth=2, label=f'χ² distribution (df={dof})')\n",
    "ax2.axvline(chi2_stat, color='red', linestyle='--', linewidth=2, \n",
    "            label=f'χ² = {chi2_stat:.3f}')\n",
    "ax2.axvline(critical_value, color='orange', linestyle=':', linewidth=2, \n",
    "            label=f'Critical = {critical_value:.3f}')\n",
    "\n",
    "# Critical region\n",
    "x_critical = x[x >= critical_value]\n",
    "y_critical = chi2.pdf(x_critical, dof)\n",
    "ax2.fill_between(x_critical, y_critical, alpha=0.3, color='red')\n",
    "\n",
    "ax2.set_xlabel('χ² qiymati')\n",
    "ax2.set_ylabel('Ehtimollik zichligi')\n",
    "ax2.set_title('Chi-square test')\n",
    "ax2.legend()\n",
    "ax2.grid(True, alpha=0.3)\n",
    "\n",
    "plt.tight_layout()\n",
    "plt.show()\n",
    "\n",
    "# Xulosa\n",
    "print(\"\\nXULOSA:\")\n",
    "if p_value < alpha:\n",
    "    print(\"✅ Null hipotezani rad etamiz\")\n",
    "    print(\"   Jins va kasb tanlovi o'rtasida bog'lanish bor\")\n",
    "else:\n",
    "    print(\"❌ Null hipotezani rad eta olmaymiz\")\n",
    "    print(\"   Jins va kasb tanlovi mustaqil\")"
   ]
  },
  {
   "cell_type": "markdown",
   "id": "ea14a097",
   "metadata": {},
   "source": [
    "## Masala 4: Amaliy topshiriq (10 ball)\n",
    "\n",
    "### Vazifa: Quyidagi stsenariylardan birini tanlang va to'liq analiz bajaring\n",
    "\n",
    "**Stsenariy A**: Online ta'lim samaradorligi  \n",
    "Oddiy ta'lim bilan talabalar o'rtacha 72 ball oladi (σ = 8). Online ta'lim bilan 25 talaba: o'rtacha 75 ball. Online ta'lim yaxshiraqmi?\n",
    "\n",
    "**Stsenariy B**: Ikki dori samaradorligi  \n",
    "Dori A: [85, 88, 82, 90, 87, 84, 89, 86]  \n",
    "Dori B: [88, 92, 85, 94, 90, 87, 93, 89]  \n",
    "Ikki dori o'rtasida farq bormi?\n",
    "\n",
    "**Stsenariy C**: Sport va jins bog'lanishi  \n",
    "Erkaklar: Futbol(40), Tennis(20), Suzish(15)  \n",
    "Ayollar: Futbol(25), Tennis(30), Suzish(25)  \n",
    "Jins va sport tanlovi bog'langanmi?\n",
    "\n",
    "### Tanlangan stsenariy: _________________"
   ]
  },
  {
   "cell_type": "code",
   "execution_count": null,
   "id": "7d7d8c28",
   "metadata": {},
   "outputs": [],
   "source": [
    "# Sizning yechimingiz\n",
    "# (Tanlagan stsenariyingiz uchun to'liq analiz bajaring)\n",
    "\n",
    "# 1. Ma'lumotlarni kiriting\n",
    "# 2. Hipotezalarni yozing\n",
    "# 3. Kerakli testni tanlang va bajaring\n",
    "# 4. Natijalarni vizualizatsiya qiling\n",
    "# 5. Xulosa chiqaring"
   ]
  },
  {
   "cell_type": "markdown",
   "id": "873939f1",
   "metadata": {},
   "source": [
    "## Umumiy xulosa (5 ball)\n",
    "\n",
    "### Sizning o'rgangan narsalaringiz haqida yozing:\n",
    "\n",
    "1. **Eng qiyin bo'lgan qism**: \n",
    "\n",
    "2. **Eng muhim o'rgangan narsa**: \n",
    "\n",
    "3. **Amaliy hayotda qanday qo'llash mumkin**: \n",
    "\n",
    "4. **Keyingi o'rganmoqchi bo'lgan mavzu**: \n",
    "\n",
    "---\n",
    "\n",
    "**Jami ball**: ___/75\n",
    "\n",
    "**O'qituvchi izohi**: \n",
    "\n",
    "_________________________________\n",
    "\n",
    "_________________________________"
   ]
  }
 ],
 "metadata": {
  "language_info": {
   "name": "python"
  }
 },
 "nbformat": 4,
 "nbformat_minor": 5
}
