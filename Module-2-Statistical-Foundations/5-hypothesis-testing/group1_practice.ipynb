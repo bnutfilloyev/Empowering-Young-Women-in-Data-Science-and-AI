{
 "cells": [
  {
   "cell_type": "markdown",
   "id": "b285e19f",
   "metadata": {},
   "source": [
    "# Guruh 1: Hipoteza testi amaliyoti\n",
    "\n",
    "**Maqsad**: Z-test va T-test asoslarini o'rganish\n",
    "\n",
    "**Vazifalar**:\n",
    "1. Oddiy Z-test va T-test misollari\n",
    "2. p-qiymat hisoblash\n",
    "3. Xulosa chiqarish"
   ]
  },
  {
   "cell_type": "code",
   "execution_count": null,
   "id": "9aa43fb1",
   "metadata": {},
   "outputs": [],
   "source": [
    "# Kerakli kutubxonalarni import qiling\n",
    "import numpy as np\n",
    "import pandas as pd\n",
    "import matplotlib.pyplot as plt\n",
    "import seaborn as sns\n",
    "from scipy import stats\n",
    "from scipy.stats import norm, t"
   ]
  },
  {
   "cell_type": "markdown",
   "id": "15a7e7f4",
   "metadata": {},
   "source": [
    "## Vazifa 1: Z-test (Bir tanlovli)\n",
    "\n",
    "**Masala**: \n",
    "Universitetda talabalarning o'rtacha balli 75 deyiladi (σ = 10). \n",
    "50 talabadan iborat namunada o'rtacha ball 78.\n",
    "\n",
    "**Savol**: Bu farq statistik jihatdan ahamiyatlimi? (α = 0.05)"
   ]
  },
  {
   "cell_type": "code",
   "execution_count": null,
   "id": "353b91f3",
   "metadata": {},
   "outputs": [],
   "source": [
    "# Ma'lumotlarni kiriting\n",
    "mu_0 = 75      # Population mean (claimed)\n",
    "sigma = 10     # Population standard deviation  \n",
    "x_bar = 78     # Sample mean\n",
    "n = 50         # Sample size\n",
    "alpha = 0.05   # Significance level\n",
    "\n",
    "print(\"VAZIFA 1: Z-TEST\")\n",
    "print(\"=\" * 20)\n",
    "print(f\"H₀: μ = {mu_0} (da'vo to'g'ri)\")\n",
    "print(f\"H₁: μ ≠ {mu_0} (da'vo noto'g'ri)\")\n",
    "print(f\"α = {alpha}\")\n",
    "print(f\"\\nMa'lumotlar:\")\n",
    "print(f\"Population mean (μ₀) = {mu_0}\")\n",
    "print(f\"Population std (σ) = {sigma}\")\n",
    "print(f\"Sample mean (x̄) = {x_bar}\")\n",
    "print(f\"Sample size (n) = {n}\")"
   ]
  },
  {
   "cell_type": "code",
   "execution_count": null,
   "id": "5ef38bae",
   "metadata": {},
   "outputs": [],
   "source": [
    "# Z-score ni hisoblang\n",
    "# Formula: z = (x̄ - μ₀) / (σ/√n)\n",
    "\n",
    "# Bu yerni to'ldiring:\n",
    "z_score = # sizning kodingiz\n",
    "\n",
    "print(f\"Z-score = ({x_bar} - {mu_0}) / ({sigma}/√{n})\")\n",
    "print(f\"Z-score = {z_score:.3f}\")"
   ]
  },
  {
   "cell_type": "code",
   "execution_count": null,
   "id": "ec2f37ac",
   "metadata": {},
   "outputs": [],
   "source": [
    "# p-qiymat va critical value ni toping\n",
    "\n",
    "# Bu yerni to'ldiring:\n",
    "p_value = # sizning kodingiz (ikki tomonlama test uchun)\n",
    "critical_value = # sizning kodingiz\n",
    "\n",
    "print(f\"p-qiymat = {p_value:.4f}\")\n",
    "print(f\"Critical value (±) = {critical_value:.3f}\")"
   ]
  },
  {
   "cell_type": "code",
   "execution_count": null,
   "id": "623e437c",
   "metadata": {},
   "outputs": [],
   "source": [
    "# Xulosa chiqaring\n",
    "print(\"XULOSA:\")\n",
    "if p_value < alpha:\n",
    "    print(\"✅ Null hipotezani rad etamiz\")\n",
    "    print(\"   Talabalarning o'rtacha balli 75 dan farq qiladi\")\n",
    "else:\n",
    "    print(\"❌ Null hipotezani rad eta olmaymiz\")\n",
    "    print(\"   Talabalarning o'rtacha balli 75 ga teng deb hisoblaymiz\")"
   ]
  },
  {
   "cell_type": "markdown",
   "id": "588af836",
   "metadata": {},
   "source": [
    "## Vazifa 2: T-test (Bir tanlovli)\n",
    "\n",
    "**Masala**: \n",
    "Yangi protein qo'shimchasi 5 kg vazn oshiradi deyiladi.\n",
    "8 kishilik namunada vazn oshishi: [4.2, 5.5, 3.8, 6.1, 4.9, 5.2, 4.7, 5.8]\n",
    "\n",
    "**Savol**: Bu da'vo to'g'rimi? (α = 0.05)"
   ]
  },
  {
   "cell_type": "code",
   "execution_count": null,
   "id": "900b016d",
   "metadata": {},
   "outputs": [],
   "source": [
    "# Ma'lumotlarni kiriting\n",
    "data = [4.2, 5.5, 3.8, 6.1, 4.9, 5.2, 4.7, 5.8]\n",
    "mu_0 = 5      # Claimed mean\n",
    "alpha = 0.05\n",
    "\n",
    "print(\"VAZIFA 2: T-TEST\")\n",
    "print(\"=\" * 20)\n",
    "print(f\"H₀: μ = {mu_0} kg (da'vo to'g'ri)\")\n",
    "print(f\"H₁: μ ≠ {mu_0} kg (da'vo noto'g'ri)\")\n",
    "print(f\"α = {alpha}\")\n",
    "print(f\"\\nMa'lumotlar: {data}\")"
   ]
  },
  {
   "cell_type": "code",
   "execution_count": null,
   "id": "9595b563",
   "metadata": {},
   "outputs": [],
   "source": [
    "# Sample statistikalarini hisoblang\n",
    "\n",
    "# Bu yerni to'ldiring:\n",
    "n = # sizning kodingiz\n",
    "x_bar = # sizning kodingiz (mean)\n",
    "s = # sizning kodingiz (sample std with ddof=1)\n",
    "\n",
    "print(f\"Sample size (n) = {n}\")\n",
    "print(f\"Sample mean (x̄) = {x_bar:.3f}\")\n",
    "print(f\"Sample std (s) = {s:.3f}\")"
   ]
  },
  {
   "cell_type": "code",
   "execution_count": null,
   "id": "8b1cc1f9",
   "metadata": {},
   "outputs": [],
   "source": [
    "# T-score ni hisoblang\n",
    "# Formula: t = (x̄ - μ₀) / (s/√n)\n",
    "\n",
    "# Bu yerni to'ldiring:\n",
    "t_score = # sizning kodingiz\n",
    "df = # degrees of freedom\n",
    "\n",
    "print(f\"T-score = {t_score:.3f}\")\n",
    "print(f\"Degrees of freedom = {df}\")"
   ]
  },
  {
   "cell_type": "code",
   "execution_count": null,
   "id": "33f2f96b",
   "metadata": {},
   "outputs": [],
   "source": [
    "# p-qiymat va critical value ni toping\n",
    "\n",
    "# Bu yerni to'ldiring:\n",
    "p_value = # sizning kodingiz\n",
    "critical_value = # sizning kodingiz\n",
    "\n",
    "print(f\"p-qiymat = {p_value:.4f}\")\n",
    "print(f\"Critical value (±) = {critical_value:.3f}\")\n",
    "\n",
    "# Scipy bilan tekshiring\n",
    "t_stat, p_val = stats.ttest_1samp(data, mu_0)\n",
    "print(f\"\\nScipy natijasi: t = {t_stat:.3f}, p = {p_val:.4f}\")"
   ]
  },
  {
   "cell_type": "code",
   "execution_count": null,
   "id": "c3db252e",
   "metadata": {},
   "outputs": [],
   "source": [
    "# Xulosa chiqaring\n",
    "print(\"XULOSA:\")\n",
    "if p_value < alpha:\n",
    "    print(\"✅ Null hipotezani rad etamiz\")\n",
    "    print(\"   Protein qo'shimchasi haqidagi da'vo noto'g'ri\")\n",
    "else:\n",
    "    print(\"❌ Null hipotezani rad eta olmaymiz\")\n",
    "    print(\"   Protein qo'shimchasi haqidagi da'vo to'g'ri deb hisoblaymiz\")"
   ]
  },
  {
   "cell_type": "markdown",
   "id": "927d2c98",
   "metadata": {},
   "source": [
    "## Vazifa 3: Ma'lumotlarni vizualizatsiya qiling"
   ]
  },
  {
   "cell_type": "code",
   "execution_count": null,
   "id": "af4cd388",
   "metadata": {},
   "outputs": [],
   "source": [
    "# T-test uchun ma'lumotlarni vizualizatsiya qiling\n",
    "fig, (ax1, ax2) = plt.subplots(1, 2, figsize=(12, 5))\n",
    "\n",
    "# Sample data histogram\n",
    "ax1.hist(data, bins=5, alpha=0.7, color='lightblue', edgecolor='black')\n",
    "ax1.axvline(x_bar, color='red', linestyle='--', linewidth=2, label=f'Sample mean = {x_bar:.2f}')\n",
    "ax1.axvline(mu_0, color='orange', linestyle='-', linewidth=2, label=f'Claimed mean = {mu_0}')\n",
    "ax1.set_xlabel('Vazn oshishi (kg)')\n",
    "ax1.set_ylabel('Chastota')\n",
    "ax1.set_title('Sample ma\\'lumotlar')\n",
    "ax1.legend()\n",
    "ax1.grid(True, alpha=0.3)\n",
    "\n",
    "# T-distribution\n",
    "x = np.linspace(-4, 4, 1000)\n",
    "y = t.pdf(x, df)\n",
    "\n",
    "ax2.plot(x, y, 'b-', linewidth=2, label=f't-distribution (df={df})')\n",
    "ax2.axvline(t_score, color='red', linestyle='--', linewidth=2, label=f'T-score = {t_score:.3f}')\n",
    "ax2.axvline(critical_value, color='orange', linestyle=':', linewidth=2, label=f'Critical = ±{critical_value:.3f}')\n",
    "ax2.axvline(-critical_value, color='orange', linestyle=':', linewidth=2)\n",
    "\n",
    "ax2.set_xlabel('T-score')\n",
    "ax2.set_ylabel('Ehtimollik zichligi')\n",
    "ax2.set_title('T-test natijasi')\n",
    "ax2.legend()\n",
    "ax2.grid(True, alpha=0.3)\n",
    "\n",
    "plt.tight_layout()\n",
    "plt.show()"
   ]
  },
  {
   "cell_type": "markdown",
   "id": "d01ff7bf",
   "metadata": {},
   "source": [
    "## Uyga vazifa\n",
    "\n",
    "1. **Z-test**: Fabrikada ishlab chiqarilgan mahsulotning o'rtacha og'irligi 500g deyiladi (σ = 15g). 40 ta mahsulotdan iborat namunada o'rtacha og'irlik 495g. Bu farq ahamiyatlimi?\n",
    "\n",
    "2. **T-test**: Yangi o'qitish usuli bilan talabalar 80 ball oladi deyiladi. 10 talabaning natijalari: [78, 82, 75, 85, 79, 83, 76, 81, 84, 77]. Bu da'vo to'g'rimi?\n",
    "\n",
    "3. Har ikkala masala uchun:\n",
    "   - Hipotezalarni yozing\n",
    "   - Test statistikani hisoblang\n",
    "   - p-qiymatni toping\n",
    "   - Xulosa chiqaring\n",
    "   - Grafik chizing"
   ]
  }
 ],
 "metadata": {
  "language_info": {
   "name": "python"
  }
 },
 "nbformat": 4,
 "nbformat_minor": 5
}
