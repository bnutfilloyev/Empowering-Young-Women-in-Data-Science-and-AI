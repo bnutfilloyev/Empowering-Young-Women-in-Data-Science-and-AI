{
 "cells": [
  {
   "cell_type": "markdown",
   "id": "bbc8a5d8",
   "metadata": {},
   "source": [
    "# 📊 1-Dars: Statistik Asoslar\n",
    "\n",
    "**Mavzu:** Populyatsiya, Sample, Parametr, Statistik O'lchovlar\n",
    "\n",
    "**Maqsad:** Statistika fanining asosiy tushunchalarini o'rganish va real hayotda qo'llash\n",
    "\n",
    "---\n",
    "\n",
    "## 📚 Dars Rejasi\n",
    "\n",
    "1. **Populyatsiya va Sample** tushunchalari\n",
    "2. **Parametr va Statistik** farqlari  \n",
    "3. **Sample olish** usullari\n",
    "4. **Statistik o'lchovlar** turlari\n",
    "5. **Amaliy misollar** va hisob-kitoblar\n",
    "\n",
    "---"
   ]
  },
  {
   "cell_type": "markdown",
   "id": "b67f7c17",
   "metadata": {},
   "source": [
    "## 1️⃣ Populyatsiya va Sample\n",
    "\n",
    "### 🌍 Populyatsiya (Population)\n",
    "**Ta'rif:** O'rganilayotgan barcha elementlarning to'liq to'plami\n",
    "\n",
    "**Misollar:**\n",
    "- O'zbekistondagi barcha talabalar\n",
    "- Toshkent shahrining barcha aholisi  \n",
    "- Bitta kompaniyadagi barcha xodimlar\n",
    "- Internetdagi barcha foydalanuvchilar\n",
    "\n",
    "### 📊 Sample (Tanlov)\n",
    "**Ta'rif:** Populyatsiyadan maxsus usullar bilan tanlangan qism\n",
    "\n",
    "**Nima uchun Sample kerak?**\n",
    "- Populyatsiya juda katta bo'lishi mumkin\n",
    "- Vaqt va resurs cheklanganligi\n",
    "- Ba'zi hollarda populyatsiyaga kirish qiyin\n",
    "- Arzonroq va tezroq natija olish\n",
    "\n",
    "---"
   ]
  },
  {
   "cell_type": "code",
   "execution_count": 1,
   "id": "47ffeaf1",
   "metadata": {},
   "outputs": [
    {
     "name": "stdout",
     "output_type": "stream",
     "text": [
      "🌍 POPULYATSIYA MA'LUMOTLARI\n",
      "========================================\n",
      "Populyatsiya hajmi: 1,000 ta o'quvchi\n",
      "O'rtacha baho: 4.15\n",
      "Standart ogish: 0.67\n",
      "Eng past baho: 2.00\n",
      "Eng yuqori baho: 5.00\n"
     ]
    }
   ],
   "source": [
    "# Oddiy misol: Maktab o'quvchilari\n",
    "import pandas as pd\n",
    "import numpy as np\n",
    "import matplotlib.pyplot as plt\n",
    "import seaborn as sns\n",
    "\n",
    "# Populyatsiya: 1000 ta o'quvchining baholari (tasavvuriy)\n",
    "np.random.seed(42)\n",
    "population_grades = np.random.normal(4.2, 0.8, 1000)  # O'rtacha 4.2, standart ogish 0.8\n",
    "population_grades = np.clip(population_grades, 2, 5)  # 2 dan 5 gacha cheklash\n",
    "\n",
    "print(\"🌍 POPULYATSIYA MA'LUMOTLARI\")\n",
    "print(\"=\"*40)\n",
    "print(f\"Populyatsiya hajmi: {len(population_grades):,} ta o'quvchi\")\n",
    "print(f\"O'rtacha baho: {population_grades.mean():.2f}\")\n",
    "print(f\"Standart ogish: {population_grades.std():.2f}\")\n",
    "print(f\"Eng past baho: {population_grades.min():.2f}\")\n",
    "print(f\"Eng yuqori baho: {population_grades.max():.2f}\")"
   ]
  },
  {
   "cell_type": "code",
   "execution_count": 2,
   "id": "2e0b6add",
   "metadata": {},
   "outputs": [
    {
     "name": "stdout",
     "output_type": "stream",
     "text": [
      "\n",
      "📊 SAMPLE MA'LUMOTLARI\n",
      "========================================\n",
      "Sample hajmi: 50 ta o'quvchi\n",
      "O'rtacha baho: 4.15\n",
      "Standart ogish: 0.72\n",
      "Eng past baho: 2.36\n",
      "Eng yuqori baho: 5.00\n",
      "\n",
      "🔍 TAQQOSLASH:\n",
      "O'rtacha farq: 0.008\n",
      "Standart ogish farqi: 0.056\n"
     ]
    }
   ],
   "source": [
    "# Sample olish\n",
    "sample_size = 50\n",
    "sample_grades = np.random.choice(population_grades, sample_size, replace=False)\n",
    "\n",
    "print(\"\\n📊 SAMPLE MA'LUMOTLARI\")\n",
    "print(\"=\"*40)\n",
    "print(f\"Sample hajmi: {len(sample_grades)} ta o'quvchi\")\n",
    "print(f\"O'rtacha baho: {sample_grades.mean():.2f}\")\n",
    "print(f\"Standart ogish: {sample_grades.std():.2f}\")\n",
    "print(f\"Eng past baho: {sample_grades.min():.2f}\")\n",
    "print(f\"Eng yuqori baho: {sample_grades.max():.2f}\")\n",
    "\n",
    "print(\"\\n🔍 TAQQOSLASH:\")\n",
    "print(f\"O'rtacha farq: {abs(population_grades.mean() - sample_grades.mean()):.3f}\")\n",
    "print(f\"Standart ogish farqi: {abs(population_grades.std() - sample_grades.std()):.3f}\")"
   ]
  },
  {
   "cell_type": "markdown",
   "id": "12df66b7",
   "metadata": {},
   "source": [
    "## 2️⃣ Parametr va Statistik\n",
    "\n",
    "### 🎯 Parametr\n",
    "**Ta'rif:** Populyatsiyaning xususiyatlarini ifodalaydigan raqamlar\n",
    "\n",
    "**Belgilanishi:**\n",
    "- μ (mu) - populyatsiya o'rtachasi\n",
    "- σ (sigma) - populyatsiya standart og'ishi  \n",
    "- σ² - populyatsiya dispersiyasi\n",
    "- N - populyatsiya hajmi\n",
    "\n",
    "### 📈 Statistik  \n",
    "**Ta'rif:** Sample xususiyatlarini ifodalaydigan raqamlar\n",
    "\n",
    "**Belgilanishi:**\n",
    "- x̄ (x bar) - sample o'rtachasi\n",
    "- s - sample standart og'ishi\n",
    "- s² - sample dispersiyasi  \n",
    "- n - sample hajmi\n",
    "\n",
    "---"
   ]
  },
  {
   "cell_type": "code",
   "execution_count": 9,
   "id": "d5977a55",
   "metadata": {},
   "outputs": [
    {
     "name": "stdout",
     "output_type": "stream",
     "text": [
      "📊 PARAMETR vs STATISTIK\n",
      "==================================================\n",
      "🌍 PARAMETRLAR (Populyatsiya):\n",
      "μ (mu) - o'rtacha: 4.146\n",
      "σ (sigma) - standart ogish: 0.667\n",
      "N - hajmi: 1,000\n",
      "\n",
      "📊 STATISTIKLAR (Sample):\n",
      "x̄ (x bar) - o'rtacha: 4.154\n",
      "s - standart ogish: 0.722\n",
      "n - hajmi: 50\n",
      "\n",
      "💡 XULOSA:\n",
      "Statistiklar parametrlarni baholash uchun ishlatiladi!\n"
     ]
    }
   ],
   "source": [
    "# Parametr vs Statistik misollar\n",
    "print(\"📊 PARAMETR vs STATISTIK\")\n",
    "print(\"=\"*50)\n",
    "\n",
    "# PARAMETRLAR (Populyatsiya)\n",
    "mu = population_grades.mean()      # μ\n",
    "sigma = population_grades.std()    # σ  \n",
    "N = len(population_grades)         # N\n",
    "\n",
    "print(\"🌍 PARAMETRLAR (Populyatsiya):\")\n",
    "print(f\"μ (mu) - o'rtacha: {mu:.3f}\")\n",
    "print(f\"σ (sigma) - standart ogish: {sigma:.3f}\")\n",
    "print(f\"N - hajmi: {N:,}\")\n",
    "\n",
    "# STATISTIKLAR (Sample)\n",
    "x_bar = sample_grades.mean()       # x̄\n",
    "s = sample_grades.std()           # s\n",
    "n = len(sample_grades)            # n\n",
    "\n",
    "print(\"\\n📊 STATISTIKLAR (Sample):\")\n",
    "print(f\"x̄ (x bar) - o'rtacha: {x_bar:.3f}\")\n",
    "print(f\"s - standart ogish: {s:.3f}\")\n",
    "print(f\"n - hajmi: {n}\")\n",
    "\n",
    "print(\"\\n💡 XULOSA:\")\n",
    "print(\"Statistiklar parametrlarni baholash uchun ishlatiladi!\")"
   ]
  },
  {
   "cell_type": "code",
   "execution_count": 14,
   "id": "29f833cb",
   "metadata": {},
   "outputs": [
    {
     "name": "stdout",
     "output_type": "stream",
     "text": [
      "Average sleep: 7.00 hours\n",
      "Standard deviation of sleep: 1.41 hours\n"
     ]
    }
   ],
   "source": [
    "sleeptime = np.array([7, 8, 6, 5, 9])\n",
    "average_sleep = np.mean(sleeptime)\n",
    "std_sleep = np.std(sleeptime)\n",
    "print(f\"Average sleep: {average_sleep:.2f} hours\")\n",
    "print(f\"Standard deviation of sleep: {std_sleep:.2f} hours\")"
   ]
  },
  {
   "cell_type": "code",
   "execution_count": null,
   "id": "3eee2da1",
   "metadata": {},
   "outputs": [
    {
     "data": {
      "text/plain": [
       "np.float64(0.6324555320336759)"
      ]
     },
     "execution_count": 23,
     "metadata": {},
     "output_type": "execute_result"
    }
   ],
   "source": [
    "yugurish_masofasi = np.array([10, 11, 9, 10, 10])\n",
    "ortacha_yugurish = np.mean(yugurish_masofasi)\n",
    "ortacha_dispersiya = (0 + 1 + 1 +0 + 0) / 5\n",
    "\n",
    "ortacha_dispersiya\n",
    "standart_ogish = np.sqrt(ortacha_dispersiya)\n",
    "standart_ogish\n",
    "\n",
    "np.std(yugurish_masofasi)  ==  standart_ogish"
   ]
  },
  {
   "cell_type": "markdown",
   "id": "97e3b4dc",
   "metadata": {},
   "source": [
    "## 3️⃣ Sample Olish Usullari\n",
    "\n",
    "### 🎲 Tasodifiy Sample (Random Sampling)\n",
    "Har bir element teng ehtimollik bilan tanlanadi\n",
    "\n",
    "### 📊 Sistemali Sample (Systematic Sampling) \n",
    "Ma'lum intervall bo'yicha elementlar tanlanadi\n",
    "\n",
    "### 🎯 Qatlamli Sample (Stratified Sampling)\n",
    "Populyatsiya guruhlarga bo'linib, har guruhdan sample olinadi\n",
    "\n",
    "### 📍 Klaster Sample (Cluster Sampling)\n",
    "Populyatsiya klasterlarga bo'linib, ba'zi klasterlar to'liq tanlanadi\n",
    "\n",
    "---"
   ]
  },
  {
   "cell_type": "code",
   "execution_count": 4,
   "id": "afb053b8",
   "metadata": {},
   "outputs": [
    {
     "name": "stdout",
     "output_type": "stream",
     "text": [
      "🎯 SAMPLE OLISH USULLARI\n",
      "========================================\n",
      "1️⃣ Tasodifiy sample o'rtachasi: 4.318\n",
      "2️⃣ Sistemali sample o'rtachasi: 4.231\n",
      "3️⃣ Qatlamli sample o'rtachasi: 4.140\n",
      "\n",
      "🎯 Populyatsiya o'rtachasi: 4.146\n",
      "Qaysi usul eng yaxshi natija berdi?\n"
     ]
    }
   ],
   "source": [
    "# Turli sample olish usullarini ko'rsatish\n",
    "print(\"🎯 SAMPLE OLISH USULLARI\")\n",
    "print(\"=\"*40)\n",
    "\n",
    "# 1. Oddiy tasodifiy sample\n",
    "random_sample = np.random.choice(population_grades, 30, replace=False)\n",
    "print(f\"1️⃣ Tasodifiy sample o'rtachasi: {random_sample.mean():.3f}\")\n",
    "\n",
    "# 2. Sistemali sample\n",
    "step = len(population_grades) // 30\n",
    "systematic_sample = population_grades[::step][:30]\n",
    "print(f\"2️⃣ Sistemali sample o'rtachasi: {systematic_sample.mean():.3f}\")\n",
    "\n",
    "# 3. Qatlamli sample (yaxshi va yomon o'quvchilar)\n",
    "good_students = population_grades[population_grades >= 4.0]\n",
    "poor_students = population_grades[population_grades < 4.0]\n",
    "\n",
    "stratified_sample = np.concatenate([\n",
    "    np.random.choice(good_students, 20, replace=False),\n",
    "    np.random.choice(poor_students, 10, replace=False)\n",
    "])\n",
    "print(f\"3️⃣ Qatlamli sample o'rtachasi: {stratified_sample.mean():.3f}\")\n",
    "\n",
    "print(f\"\\n🎯 Populyatsiya o'rtachasi: {population_grades.mean():.3f}\")\n",
    "print(\"Qaysi usul eng yaxshi natija berdi?\")"
   ]
  },
  {
   "cell_type": "markdown",
   "id": "f512a024",
   "metadata": {},
   "source": [
    "## 4️⃣ Statistik O'lchovlar\n",
    "\n",
    "### 📍 Markaziy Tendensiya O'lchovlari\n",
    "1. **O'rtacha (Mean)** - barcha qiymatlar yig'indisining songa bo'linmasi\n",
    "2. **Mediana (Median)** - o'rtadagi qiymat\n",
    "3. **Moda (Mode)** - eng ko'p takrorlanadigan qiymat\n",
    "\n",
    "### 📊 Tarqalish O'lchovlari  \n",
    "1. **Standart og'ish (Standard Deviation)** - ma'lumotlarning o'rtachadan og'ishi\n",
    "2. **Dispersiya (Variance)** - standart og'ishning kvadrati\n",
    "3. **Oraliq (Range)** - eng katta va eng kichik qiymat farqi\n",
    "\n",
    "---"
   ]
  },
  {
   "cell_type": "code",
   "execution_count": 5,
   "id": "9ec2bc59",
   "metadata": {},
   "outputs": [
    {
     "name": "stdout",
     "output_type": "stream",
     "text": [
      "📊 STATISTIK O'LCHOVLAR\n",
      "========================================\n",
      "📍 MARKAZIY TENDENSIYA:\n",
      "O'rtacha (Mean): 4.154\n",
      "Mediana (Median): 4.269\n",
      "Moda (Mode): 5.0\n",
      "\n",
      "📊 TARQALISH O'LCHOVLARI:\n",
      "Standart og'ish: 0.722\n",
      "Dispersiya: 0.522\n",
      "Oraliq: 2.642\n",
      "\n",
      "📈 QO'SHIMCHA O'LCHOVLAR:\n",
      "Q1 (25% percentil): 3.539\n",
      "Q3 (75% percentil): 4.820\n",
      "IQR: 1.281\n"
     ]
    }
   ],
   "source": [
    "# Statistik o'lchovlarni hisoblash\n",
    "print(\"📊 STATISTIK O'LCHOVLAR\")\n",
    "print(\"=\"*40)\n",
    "\n",
    "# Markaziy tendensiya\n",
    "mean = sample_grades.mean()\n",
    "median = np.median(sample_grades)\n",
    "\n",
    "# Moda uchun qiymatlarni diskret qilish\n",
    "rounded_grades = np.round(sample_grades, 1)\n",
    "from scipy import stats\n",
    "mode_result = stats.mode(rounded_grades, keepdims=True)\n",
    "mode = mode_result.mode[0]\n",
    "\n",
    "print(\"📍 MARKAZIY TENDENSIYA:\")\n",
    "print(f\"O'rtacha (Mean): {mean:.3f}\")\n",
    "print(f\"Mediana (Median): {median:.3f}\")\n",
    "print(f\"Moda (Mode): {mode:.1f}\")\n",
    "\n",
    "# Tarqalish o'lchovlari\n",
    "std = sample_grades.std()\n",
    "variance = sample_grades.var()\n",
    "range_val = sample_grades.max() - sample_grades.min()\n",
    "\n",
    "print(\"\\n📊 TARQALISH O'LCHOVLARI:\")\n",
    "print(f\"Standart og'ish: {std:.3f}\")\n",
    "print(f\"Dispersiya: {variance:.3f}\")\n",
    "print(f\"Oraliq: {range_val:.3f}\")\n",
    "\n",
    "# Qo'shimcha o'lchovlar\n",
    "q1 = np.percentile(sample_grades, 25)\n",
    "q3 = np.percentile(sample_grades, 75)\n",
    "iqr = q3 - q1\n",
    "\n",
    "print(f\"\\n📈 QO'SHIMCHA O'LCHOVLAR:\")\n",
    "print(f\"Q1 (25% percentil): {q1:.3f}\")\n",
    "print(f\"Q3 (75% percentil): {q3:.3f}\")\n",
    "print(f\"IQR: {iqr:.3f}\")"
   ]
  },
  {
   "cell_type": "code",
   "execution_count": 6,
   "id": "f786ab2a",
   "metadata": {},
   "outputs": [
    {
     "data": {
      "image/png": "[encoded data removed]",
      "text/plain": [
       "<Figure size 1200x1000 with 4 Axes>"
      ]
     },
     "metadata": {},
     "output_type": "display_data"
    }
   ],
   "source": [
    "# Vizualizatsiya\n",
    "fig, axes = plt.subplots(2, 2, figsize=(12, 10))\n",
    "\n",
    "# 1. Histogram\n",
    "axes[0,0].hist(sample_grades, bins=15, alpha=0.7, color='skyblue', edgecolor='black')\n",
    "axes[0,0].axvline(mean, color='red', linestyle='--', label=f'O\\'rtacha: {mean:.2f}')\n",
    "axes[0,0].axvline(median, color='green', linestyle='--', label=f'Mediana: {median:.2f}')\n",
    "axes[0,0].set_title('Sample Baholarning Taqsimoti')\n",
    "axes[0,0].set_xlabel('Baholar')\n",
    "axes[0,0].set_ylabel('Chastota')\n",
    "axes[0,0].legend()\n",
    "\n",
    "# 2. Box Plot\n",
    "axes[0,1].boxplot(sample_grades)\n",
    "axes[0,1].set_title('Box Plot')\n",
    "axes[0,1].set_ylabel('Baholar')\n",
    "\n",
    "# 3. Populyatsiya vs Sample\n",
    "axes[1,0].hist(population_grades, bins=30, alpha=0.5, label='Populyatsiya', color='lightcoral')\n",
    "axes[1,0].hist(sample_grades, bins=15, alpha=0.7, label='Sample', color='skyblue')\n",
    "axes[1,0].set_title('Populyatsiya vs Sample')\n",
    "axes[1,0].set_xlabel('Baholar')\n",
    "axes[1,0].set_ylabel('Chastota')\n",
    "axes[1,0].legend()\n",
    "\n",
    "# 4. Sample hajmining ta'siri\n",
    "sample_sizes = [5, 10, 20, 50, 100, 200]\n",
    "sample_means = []\n",
    "for size in sample_sizes:\n",
    "    temp_sample = np.random.choice(population_grades, size, replace=False)\n",
    "    sample_means.append(temp_sample.mean())\n",
    "\n",
    "axes[1,1].plot(sample_sizes, sample_means, 'o-', color='purple')\n",
    "axes[1,1].axhline(mu, color='red', linestyle='--', label=f'Populyatsiya o\\'rtachasi: {mu:.2f}')\n",
    "axes[1,1].set_title('Sample Hajmining Ta\\'siri')\n",
    "axes[1,1].set_xlabel('Sample Hajmi')\n",
    "axes[1,1].set_ylabel('Sample O\\'rtachasi')\n",
    "axes[1,1].legend()\n",
    "\n",
    "plt.tight_layout()\n",
    "plt.show()"
   ]
  },
  {
   "cell_type": "markdown",
   "id": "e80a49d1",
   "metadata": {},
   "source": [
    "## 5️⃣ Real Hayot Misollari\n",
    "\n",
    "### 🏥 Tibbiyot\n",
    "- **Populyatsiya:** Barcha bemorlar\n",
    "- **Sample:** Sinov guruhidagi bemorlar\n",
    "- **Parametr:** Populyatsiyada kasallik tarqalish darajasi\n",
    "- **Statistik:** Sample'dagi kasallik tarqalish darajasi\n",
    "\n",
    "### 🛒 Marketing\n",
    "- **Populyatsiya:** Barcha mijozlar\n",
    "- **Sample:** So'rov ishtirokchilari  \n",
    "- **Parametr:** Populyatsiyaning mahsulot mamnuniyati\n",
    "- **Statistik:** Sample'ning mahsulot mamnuniyati\n",
    "\n",
    "### 🎓 Ta'lim\n",
    "- **Populyatsiya:** Barcha talabalar\n",
    "- **Sample:** Tanlab olingan sinf\n",
    "- **Parametr:** Barcha talabalarning o'rtacha bahosi\n",
    "- **Statistik:** Tanlab olingan sinfning o'rtacha bahosi\n",
    "\n",
    "---"
   ]
  },
  {
   "cell_type": "code",
   "execution_count": 24,
   "id": "b64f7787",
   "metadata": {},
   "outputs": [
    {
     "name": "stdout",
     "output_type": "stream",
     "text": [
      "🇺🇿 O'ZBEKISTON KONTEKSTIDA MISOLLAR\n",
      "==================================================\n",
      "🏙️ TOSHKENT SHAHRI AHOLISI:\n",
      "Populyatsiya hajmi: 30,000,000 kishi\n",
      "O'rtacha yosh: 32.0 yil\n",
      "\n",
      "📋 SO'ROV SAMPLE:\n",
      "Sample hajmi: 1,000 kishi\n",
      "Sample o'rtacha yoshi: 31.6 yil\n",
      "Farq: 0.42 yil\n",
      "\n",
      "📊 YOSH GURUHLARI TAQSIMOTI:\n",
      "0-18 yosh: 128 kishi (12.8%)\n",
      "19-35 yosh: 491 kishi (49.1%)\n",
      "36-55 yosh: 359 kishi (35.9%)\n",
      "55+ yosh: 22 kishi (2.2%)\n"
     ]
    }
   ],
   "source": [
    "# O'zbekiston kontekstida misol\n",
    "print(\"🇺🇿 O'ZBEKISTON KONTEKSTIDA MISOLLAR\")\n",
    "print(\"=\"*50)\n",
    "\n",
    "# Toshkent shahri aholi yoshi (tasavvuriy ma'lumotlar)\n",
    "np.random.seed(123)\n",
    "tashkent_population_age = np.random.normal(32, 12, 30000000)  # 30 million kishi\n",
    "tashkent_population_age = np.clip(tashkent_population_age, 0, 90)\n",
    "\n",
    "print(\"🏙️ TOSHKENT SHAHRI AHOLISI:\")\n",
    "print(f\"Populyatsiya hajmi: {len(tashkent_population_age):,} kishi\")\n",
    "print(f\"O'rtacha yosh: {tashkent_population_age.mean():.1f} yil\")\n",
    "\n",
    "# So'rov uchun sample\n",
    "survey_sample = np.random.choice(tashkent_population_age, 1000, replace=False)\n",
    "\n",
    "print(f\"\\n📋 SO'ROV SAMPLE:\")\n",
    "print(f\"Sample hajmi: {len(survey_sample):,} kishi\")\n",
    "print(f\"Sample o'rtacha yoshi: {survey_sample.mean():.1f} yil\")\n",
    "print(f\"Farq: {abs(tashkent_population_age.mean() - survey_sample.mean()):.2f} yil\")\n",
    "\n",
    "# Yosh guruhlari statistikasi\n",
    "age_groups = {\n",
    "    \"0-18 yosh\": len(survey_sample[survey_sample <= 18]),\n",
    "    \"19-35 yosh\": len(survey_sample[(survey_sample > 18) & (survey_sample <= 35)]),\n",
    "    \"36-55 yosh\": len(survey_sample[(survey_sample > 35) & (survey_sample <= 55)]),\n",
    "    \"55+ yosh\": len(survey_sample[survey_sample > 55])\n",
    "}\n",
    "\n",
    "print(f\"\\n📊 YOSH GURUHLARI TAQSIMOTI:\")\n",
    "for group, count in age_groups.items():\n",
    "    percentage = (count / len(survey_sample)) * 100\n",
    "    print(f\"{group}: {count} kishi ({percentage:.1f}%)\")"
   ]
  },
  {
   "cell_type": "code",
   "execution_count": null,
   "id": "2bb30b90",
   "metadata": {},
   "outputs": [],
   "source": []
  }
 ],
 "metadata": {
  "kernelspec": {
   "display_name": "venv",
   "language": "python",
   "name": "python3"
  },
  "language_info": {
   "codemirror_mode": {
    "name": "ipython",
    "version": 3
   },
   "file_extension": ".py",
   "mimetype": "text/x-python",
   "name": "python",
   "nbconvert_exporter": "python",
   "pygments_lexer": "ipython3",
   "version": "3.13.2"
  }
 },
 "nbformat": 4,
 "nbformat_minor": 5
}
